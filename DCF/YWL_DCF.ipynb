{
 "cells": [
  {
   "cell_type": "markdown",
   "metadata": {},
   "source": [
    "# DCF  \n",
    "Last Known Good"
   ]
  },
  {
   "cell_type": "code",
   "execution_count": 16,
   "metadata": {},
   "outputs": [
    {
     "ename": "ModuleNotFoundError",
     "evalue": "No module named 'fundamentalanalysis'",
     "output_type": "error",
     "traceback": [
      "\u001b[1;31m---------------------------------------------------------------------------\u001b[0m",
      "\u001b[1;31mModuleNotFoundError\u001b[0m                       Traceback (most recent call last)",
      "Cell \u001b[1;32mIn [16], line 6\u001b[0m\n\u001b[0;32m      4\u001b[0m \u001b[39mimport\u001b[39;00m \u001b[39mpandas\u001b[39;00m \u001b[39mas\u001b[39;00m \u001b[39mpd\u001b[39;00m  \n\u001b[0;32m      5\u001b[0m \u001b[39mfrom\u001b[39;00m \u001b[39mpandas_datareader\u001b[39;00m \u001b[39mimport\u001b[39;00m data \u001b[39mas\u001b[39;00m wb  \n\u001b[1;32m----> 6\u001b[0m \u001b[39mimport\u001b[39;00m \u001b[39mfundamentalanalysis\u001b[39;00m \u001b[39mas\u001b[39;00m \u001b[39mfa\u001b[39;00m\n",
      "\u001b[1;31mModuleNotFoundError\u001b[0m: No module named 'fundamentalanalysis'"
     ]
    }
   ],
   "source": [
    "import requests\n",
    "import urllib\n",
    "from bs4 import BeautifulSoup\n",
    "import pandas as pd  \n",
    "from pandas_datareader import data as wb  \n",
    "import fundamentalanalysis as fa\n",
    "\n"
   ]
  },
  {
   "cell_type": "code",
   "execution_count": null,
   "metadata": {},
   "outputs": [],
   "source": [
    "\n",
    "api_key = \"f1ae8ba37c1321bd179bbe33dbddc3ef\"\n"
   ]
  },
  {
   "cell_type": "code",
   "execution_count": 8,
   "metadata": {},
   "outputs": [
    {
     "data": {
      "text/plain": [
       "['NIO',\n",
       " 'TSLA',\n",
       " 'XPEV',\n",
       " 'AMZN',\n",
       " 'AAPL',\n",
       " 'TLRY',\n",
       " 'LU',\n",
       " 'BAC',\n",
       " 'CCL',\n",
       " 'CS',\n",
       " 'AMD',\n",
       " 'RLX',\n",
       " 'NU',\n",
       " 'IQ',\n",
       " 'BILI',\n",
       " 'META',\n",
       " 'BABA',\n",
       " 'NVDA',\n",
       " 'F',\n",
       " 'AMC',\n",
       " 'INTC',\n",
       " 'CGC',\n",
       " 'SWN',\n",
       " 'AAL',\n",
       " 'ITUB']"
      ]
     },
     "execution_count": 8,
     "metadata": {},
     "output_type": "execute_result"
    }
   ],
   "source": [
    "%store -r lst_MactivePennies\n",
    "%store -r lst_Mactive\n",
    "lst_Mactive"
   ]
  },
  {
   "cell_type": "code",
   "execution_count": 9,
   "metadata": {},
   "outputs": [],
   "source": [
    "\n",
    "\n",
    "overVal = []\n",
    "underVal = []\n",
    "nanList = []\n",
    "\n",
    "dict_UnderValued = {}"
   ]
  },
  {
   "cell_type": "code",
   "execution_count": 10,
   "metadata": {},
   "outputs": [],
   "source": [
    "\n",
    "# remove newline and spaces\n",
    "def txtValueFilter(dcf):\n",
    "    dcf = dcf.replace('\\n', '')\n",
    "    dcf = dcf.replace(',', '')\n",
    "    dcf = dcf.strip()\n",
    "\n",
    "    if 'Stock DCF: - | ' in dcf: # NAN values in ticker price. instead of try: block\n",
    "        nanList.append(mapTkr)\n",
    "\n",
    "    elif 'overvalue' in dcf:\n",
    "        overVal.append(mapTkr) # append to list\n",
    "        \n",
    "        \n",
    "    elif 'undervalue' in dcf:\n",
    "         underVal.append(mapTkr) # append to list\n",
    "         \n",
    "         EvaluateDCF(dcf)\n",
    "               \n",
    "    else:\n",
    "        print('No Value Statement: code Throw')\n",
    "\n",
    "    print(mapTkr, ':',  (dcf))\n",
    "\n"
   ]
  },
  {
   "cell_type": "code",
   "execution_count": 11,
   "metadata": {},
   "outputs": [],
   "source": [
    "\n",
    "\n",
    "def EvaluateDCF(tstStr):\n",
    "    tstStr = tstStr.replace('Stock DCF:', '')\n",
    "    tstStr = tstStr.replace('|', '-', 1)\n",
    "    tstStr = tstStr.replace('|', '')\n",
    "    tstStr = tstStr.replace('overvalue', '')\n",
    "    tstStr = tstStr.replace('undervalue', '')\n",
    "    \n",
    "    tstStr = tstStr.split('-')\n",
    "\n",
    "    eval = float(tstStr[0]) - float(tstStr[1])\n",
    "    eval = (round(eval, 2))\n",
    "\n",
    "    dict_UnderValued.update({mapTkr : eval})\n",
    "    # dict_UnderValued.update({mapTkr : eval})\n",
    "    print(mapTkr , 'Undervalued by: $', eval)\n"
   ]
  },
  {
   "cell_type": "markdown",
   "metadata": {},
   "source": [
    "# INSERT LIST"
   ]
  },
  {
   "cell_type": "code",
   "execution_count": 12,
   "metadata": {},
   "outputs": [
    {
     "name": "stdout",
     "output_type": "stream",
     "text": [
      "NIO : Stock DCF: - | 12.855 | undervalue\n",
      "TSLA : Stock DCF: -49.15 | 180.9058 | overvalue\n",
      "XPEV : Stock DCF: -5604982636114.47 | 11.24 | overvalue\n",
      "AMZN : Stock DCF: 75.37 | 91.0224 | overvalue\n",
      "AAPL : Stock DCF: 119.09 | 145.885 | overvalue\n",
      "TLRY : Stock DCF: -1686.70 | 4.76 | overvalue\n",
      "LU Undervalued by: $ 29.75\n",
      "LU : Stock DCF: 31.69 | 1.9399 | undervalue\n",
      "BAC Undervalued by: $ 84.03\n",
      "BAC : Stock DCF: 118.33 | 34.3 | undervalue\n",
      "CCL : Stock DCF: -32.39 | 9.655 | overvalue\n",
      "CS Undervalued by: $ 1044.11\n",
      "CS : Stock DCF: 1047.44 | 3.332 | undervalue\n",
      "AMD : Stock DCF: 26.43 | 73.07 | overvalue\n",
      "RLX : Stock DCF: - | 2.56 | undervalue\n",
      "NU Undervalued by: $ 66.53\n",
      "NU : Stock DCF: 70.64 | 4.115 | undervalue\n",
      "IQ : Stock DCF: -43.96 | 3.155 | overvalue\n",
      "BILI : Stock DCF: -601.38 | 19.56 | overvalue\n",
      "META Undervalued by: $ 270.79\n",
      "META : Stock DCF: 392.47 | 121.6778 | undervalue\n",
      "BABA Undervalued by: $ 609.0\n",
      "BABA : Stock DCF: 698.79 | 89.7902 | undervalue\n",
      "NVDA : Stock DCF: 88.95 | 165.2281 | overvalue\n",
      "F Undervalued by: $ 13.85\n",
      "F : Stock DCF: 27.31 | 13.46 | undervalue\n",
      "AMC : Stock DCF: -76.24 | 7.525 | overvalue\n",
      "INTC Undervalued by: $ 77.32\n",
      "INTC : Stock DCF: 106.27 | 28.949 | undervalue\n",
      "CGC : Stock DCF: -815.91 | 4.37 | overvalue\n",
      "SWN : Stock DCF: -656.93 | 6.055 | overvalue\n",
      "AAL : Stock DCF: -246.06 | 14.025 | overvalue\n",
      "ITUB Undervalued by: $ 151.11\n",
      "ITUB : Stock DCF: 155.92 | 4.805 | undervalue\n"
     ]
    }
   ],
   "source": [
    "# for mapTkr in lst_MactivePennies:\n",
    "for mapTkr in lst_Mactive:\n",
    "\n",
    "    baseUrl = 'https://site.financialmodelingprep.com/discounted-cash-flow-model/{}'\n",
    "    url = baseUrl.format(str(mapTkr))\n",
    "    response = urllib.request.urlopen(url)\n",
    "    url_contents = response.read()\n",
    "\n",
    "    soup = BeautifulSoup(url_contents, \"html.parser\")\n",
    "    dcf = soup.find(\"div\", {\"class\": \"global-button2\"}).text\n",
    "\n",
    "    txtValueFilter(dcf) \n",
    "    \n",
    "\n"
   ]
  },
  {
   "cell_type": "code",
   "execution_count": 13,
   "metadata": {},
   "outputs": [
    {
     "data": {
      "text/plain": [
       "['LU', 'BAC', 'CS', 'NU', 'META', 'BABA', 'F', 'INTC', 'ITUB']"
      ]
     },
     "execution_count": 13,
     "metadata": {},
     "output_type": "execute_result"
    }
   ],
   "source": [
    "underVal\n"
   ]
  },
  {
   "cell_type": "code",
   "execution_count": 14,
   "metadata": {},
   "outputs": [
    {
     "data": {
      "text/plain": [
       "{'LU': 29.75,\n",
       " 'BAC': 84.03,\n",
       " 'CS': 1044.11,\n",
       " 'NU': 66.53,\n",
       " 'META': 270.79,\n",
       " 'BABA': 609.0,\n",
       " 'F': 13.85,\n",
       " 'INTC': 77.32,\n",
       " 'ITUB': 151.11}"
      ]
     },
     "execution_count": 14,
     "metadata": {},
     "output_type": "execute_result"
    }
   ],
   "source": [
    "\n",
    "dict_UnderValued"
   ]
  },
  {
   "cell_type": "code",
   "execution_count": 22,
   "metadata": {},
   "outputs": [],
   "source": [
    "ticker = 'CS'\n",
    "data = pd.DataFrame()\n",
    "data[ticker] = wb.DataReader(ticker, data_source='yahoo')['Adj Close']\n",
    "# data[ticker] = wb.DataReader(ticker, data_source='yahoo', start='2007-1-1')['Adj Close']"
   ]
  },
  {
   "cell_type": "code",
   "execution_count": 23,
   "metadata": {},
   "outputs": [
    {
     "data": {
      "text/html": [
       "<div>\n",
       "<style scoped>\n",
       "    .dataframe tbody tr th:only-of-type {\n",
       "        vertical-align: middle;\n",
       "    }\n",
       "\n",
       "    .dataframe tbody tr th {\n",
       "        vertical-align: top;\n",
       "    }\n",
       "\n",
       "    .dataframe thead th {\n",
       "        text-align: right;\n",
       "    }\n",
       "</style>\n",
       "<table border=\"1\" class=\"dataframe\">\n",
       "  <thead>\n",
       "    <tr style=\"text-align: right;\">\n",
       "      <th></th>\n",
       "      <th>CS</th>\n",
       "    </tr>\n",
       "    <tr>\n",
       "      <th>Date</th>\n",
       "      <th></th>\n",
       "    </tr>\n",
       "  </thead>\n",
       "  <tbody>\n",
       "    <tr>\n",
       "      <th>2022-12-05</th>\n",
       "      <td>3.34</td>\n",
       "    </tr>\n",
       "  </tbody>\n",
       "</table>\n",
       "</div>"
      ],
      "text/plain": [
       "              CS\n",
       "Date            \n",
       "2022-12-05  3.34"
      ]
     },
     "execution_count": 23,
     "metadata": {},
     "output_type": "execute_result"
    }
   ],
   "source": [
    "data.tail(1)"
   ]
  }
 ],
 "metadata": {
  "kernelspec": {
   "display_name": "Python 3.9.15 ('myenv')",
   "language": "python",
   "name": "python3"
  },
  "language_info": {
   "codemirror_mode": {
    "name": "ipython",
    "version": 3
   },
   "file_extension": ".py",
   "mimetype": "text/x-python",
   "name": "python",
   "nbconvert_exporter": "python",
   "pygments_lexer": "ipython3",
   "version": "3.9.15"
  },
  "orig_nbformat": 4,
  "vscode": {
   "interpreter": {
    "hash": "72cc61c9694d467099ef54652d088522f74d141b3af5eb71a7e52280ce52fefc"
   }
  }
 },
 "nbformat": 4,
 "nbformat_minor": 2
}
