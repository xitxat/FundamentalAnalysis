{
 "cells": [
  {
   "cell_type": "markdown",
   "metadata": {},
   "source": [
    "# DCF  \n",
    "Last Known Good"
   ]
  },
  {
   "cell_type": "code",
   "execution_count": 8,
   "metadata": {},
   "outputs": [],
   "source": [
    "import requests\n",
    "import urllib\n",
    "from bs4 import BeautifulSoup\n"
   ]
  },
  {
   "cell_type": "code",
   "execution_count": 9,
   "metadata": {},
   "outputs": [],
   "source": [
    "\n",
    "\n",
    "overVal = []\n",
    "underVal = []\n",
    "\n"
   ]
  },
  {
   "cell_type": "code",
   "execution_count": 10,
   "metadata": {},
   "outputs": [],
   "source": [
    "\n",
    "# remove newline and spaces\n",
    "def txtValueFilter(dcf):\n",
    "    dcf = dcf.replace('\\n', '')\n",
    "    dcf = dcf.strip()\n",
    "\n",
    "    if 'overvalue' in dcf:\n",
    "        overVal.append(tkr)\n",
    "        print(overVal)\n",
    "        print('Over')\n",
    "    elif 'undervalue' in dcf:\n",
    "         overVal.append(tkr)\n",
    "         print(underVal)\n",
    "         print('Under')       \n",
    "    else:\n",
    "        print('No Value Statement: code Throw')\n",
    "\n",
    "    print((tkr), ':',  (dcf))\n",
    "\n"
   ]
  },
  {
   "cell_type": "code",
   "execution_count": 11,
   "metadata": {},
   "outputs": [],
   "source": [
    "\n",
    "tkr = 'SBNY'\n",
    "\n"
   ]
  },
  {
   "cell_type": "code",
   "execution_count": 12,
   "metadata": {},
   "outputs": [
    {
     "name": "stdout",
     "output_type": "stream",
     "text": [
      "[]\n",
      "Under\n",
      "SBNY : Stock DCF: 919.59 | 125.585 | undervalue\n"
     ]
    }
   ],
   "source": [
    "\n",
    "baseUrl = 'https://site.financialmodelingprep.com/discounted-cash-flow-model/{}'\n",
    "url = baseUrl.format(str(tkr))\n",
    "response = urllib.request.urlopen(url)\n",
    "url_contents = response.read()\n",
    "\n",
    "soup = BeautifulSoup(url_contents, \"html.parser\")\n",
    "dcf = soup.find(\"div\", {\"class\": \"global-button2\"}).text\n",
    "\n",
    "txtValueFilter(dcf)\n",
    "\n"
   ]
  },
  {
   "cell_type": "code",
   "execution_count": 13,
   "metadata": {},
   "outputs": [
    {
     "data": {
      "text/plain": [
       "\" overVal = []\\nunderVal = []\\n\\nif 'undervalue' in dcf:\\n    underVal.append(dcf)\\n    print('Under')\\nelse:\\n    overVal.append(dcf)\\n    print('overer')\\n\\nunderVal \""
      ]
     },
     "execution_count": 13,
     "metadata": {},
     "output_type": "execute_result"
    }
   ],
   "source": [
    "\"\"\" overVal = []\n",
    "underVal = []\n",
    "\n",
    "if 'undervalue' in dcf:\n",
    "    underVal.append(dcf)\n",
    "    print('Under')\n",
    "else:\n",
    "    overVal.append(dcf)\n",
    "    print('overer')\n",
    "\n",
    "underVal \"\"\""
   ]
  },
  {
   "cell_type": "markdown",
   "metadata": {},
   "source": [
    "split string"
   ]
  },
  {
   "cell_type": "code",
   "execution_count": 18,
   "metadata": {},
   "outputs": [
    {
     "name": "stdout",
     "output_type": "stream",
     "text": [
      "SBNY Undervalued by: $ 794.0\n",
      "{'SBNY': 794.0}\n"
     ]
    }
   ],
   "source": [
    "dict_UnderValued = {}\n",
    "\n",
    "def EvaluateDCF(tstStr):\n",
    "    tstStr = tstStr.replace('Stock DCF:', '')\n",
    "    tstStr = tstStr.replace('|', '-', 1)\n",
    "    tstStr = tstStr.replace('|', '')\n",
    "    tstStr = tstStr.replace('overvalue', '')\n",
    "    tstStr = tstStr.replace('undervalue', '')\n",
    "    \n",
    "    tstStr = tstStr.split('-')\n",
    "    eval = float(tstStr[0]) - float(tstStr[1])\n",
    "    # print('math: ', tstStr[0] - tstStr[1])\n",
    "    eval = (round(eval, 2))\n",
    "\n",
    "    dict_UnderValued.update({tkr : eval})\n",
    "    print((tkr) , 'Undervalued by: $', eval)\n",
    "\n",
    "\n",
    "\n",
    "EvaluateDCF(dcf)\n",
    "print(dict_UnderValued)"
   ]
  }
 ],
 "metadata": {
  "kernelspec": {
   "display_name": "Python 3.9.15 ('myenv')",
   "language": "python",
   "name": "python3"
  },
  "language_info": {
   "codemirror_mode": {
    "name": "ipython",
    "version": 3
   },
   "file_extension": ".py",
   "mimetype": "text/x-python",
   "name": "python",
   "nbconvert_exporter": "python",
   "pygments_lexer": "ipython3",
   "version": "3.9.15"
  },
  "orig_nbformat": 4,
  "vscode": {
   "interpreter": {
    "hash": "72cc61c9694d467099ef54652d088522f74d141b3af5eb71a7e52280ce52fefc"
   }
  }
 },
 "nbformat": 4,
 "nbformat_minor": 2
}
