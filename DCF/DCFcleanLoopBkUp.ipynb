{
 "cells": [
  {
   "cell_type": "markdown",
   "metadata": {},
   "source": [
    "# DCF  \n",
    "Last Known Good"
   ]
  },
  {
   "cell_type": "code",
   "execution_count": 20,
   "metadata": {},
   "outputs": [],
   "source": [
    "import requests\n",
    "import urllib\n",
    "from bs4 import BeautifulSoup\n"
   ]
  },
  {
   "cell_type": "code",
   "execution_count": 21,
   "metadata": {},
   "outputs": [
    {
     "data": {
      "text/plain": [
       "['DIDIY',\n",
       " 'TLRY',\n",
       " 'CGC',\n",
       " 'BBBY',\n",
       " 'RIGL',\n",
       " 'FFIE',\n",
       " 'COSM',\n",
       " 'AITX',\n",
       " 'SHPH',\n",
       " 'COMS',\n",
       " 'CPHI',\n",
       " 'DBGI',\n",
       " 'WBEV',\n",
       " 'SYSX',\n",
       " 'WISA',\n",
       " 'DGWR',\n",
       " 'FDBL']"
      ]
     },
     "execution_count": 21,
     "metadata": {},
     "output_type": "execute_result"
    }
   ],
   "source": [
    "%store -r lst_MactivePennies\n",
    "lst_MactivePennies"
   ]
  },
  {
   "cell_type": "code",
   "execution_count": 22,
   "metadata": {},
   "outputs": [],
   "source": [
    "\n",
    "\n",
    "overVal = []\n",
    "underVal = []\n",
    "nanList = []\n",
    "\n",
    "dict_UnderValued = {}"
   ]
  },
  {
   "cell_type": "code",
   "execution_count": 23,
   "metadata": {},
   "outputs": [],
   "source": [
    "\n",
    "# remove newline and spaces\n",
    "def txtValueFilter(dcf):\n",
    "    dcf = dcf.replace('\\n', '')\n",
    "    dcf = dcf.strip()\n",
    "\n",
    "    if 'Stock DCF: - | ' in dcf:\n",
    "        nanList.append(mapTkr)\n",
    "\n",
    "    elif 'overvalue' in dcf:\n",
    "        overVal.append(mapTkr) # append to list\n",
    "        \n",
    "        \n",
    "    elif 'undervalue' in dcf:\n",
    "         underVal.append(mapTkr) # append to list\n",
    "         \n",
    "         EvaluateDCF(dcf)\n",
    "               \n",
    "    else:\n",
    "        print('No Value Statement: code Throw')\n",
    "\n",
    "    print(mapTkr, ':',  (dcf))\n",
    "\n"
   ]
  },
  {
   "cell_type": "code",
   "execution_count": 24,
   "metadata": {},
   "outputs": [],
   "source": [
    "\n",
    "\n",
    "def EvaluateDCF(tstStr):\n",
    "    tstStr = tstStr.replace('Stock DCF:', '')\n",
    "    tstStr = tstStr.replace('|', '-', 1)\n",
    "    tstStr = tstStr.replace('|', '')\n",
    "    tstStr = tstStr.replace('overvalue', '')\n",
    "    tstStr = tstStr.replace('undervalue', '')\n",
    "    \n",
    "    tstStr = tstStr.split('-')\n",
    "\n",
    "    eval = float(tstStr[0]) - float(tstStr[1])\n",
    "    eval = (round(eval, 2))\n",
    "\n",
    "    dict_UnderValued.update({mapTkr : eval})\n",
    "    # dict_UnderValued.update({mapTkr : eval})\n",
    "    print(mapTkr , 'Undervalued by: $', eval)\n"
   ]
  },
  {
   "cell_type": "code",
   "execution_count": 25,
   "metadata": {},
   "outputs": [
    {
     "name": "stdout",
     "output_type": "stream",
     "text": [
      "DIDIY : Stock DCF: -85.28 | 2.99 | overvalue\n",
      "TLRY : Stock DCF: -1,677.22 | 4.93 | overvalue\n",
      "CGC : Stock DCF: -803.72 | 4.5899 | overvalue\n",
      "BBBY : Stock DCF: -14.83 | 3.715 | overvalue\n",
      "RIGL : Stock DCF: -17,600.51 | 0.9035 | overvalue\n",
      "FFIE : Stock DCF: - | 0.3192 | undervalue\n",
      "COSM : Stock DCF: -12.49 | 0.5769 | overvalue\n",
      "AITX Undervalued by: $ 0.04\n",
      "AITX : Stock DCF: 0.05 | 0.009 | undervalue\n",
      "SHPH : Stock DCF: - | 2.9999 | undervalue\n",
      "COMS : Stock DCF: -1,153.74 | 0.1403 | overvalue\n",
      "CPHI : Stock DCF: -0.26 | 0.1805 | overvalue\n",
      "DBGI : Stock DCF: -1,139.84 | 4.8888 | overvalue\n",
      "WBEV : Stock DCF: -692.05 | 0.4142 | overvalue\n",
      "SYSX : Stock DCF: -0.18 | 0.00135 | overvalue\n",
      "WISA : Stock DCF: -4,975.77 | 0.1178 | overvalue\n",
      "DGWR : Stock DCF: - | 0.0004 | undervalue\n",
      "FDBL Undervalued by: $ 0.13\n",
      "FDBL : Stock DCF: 0.13 | 0.0001 | undervalue\n"
     ]
    }
   ],
   "source": [
    "for mapTkr in lst_MactivePennies:\n",
    "\n",
    "    baseUrl = 'https://site.financialmodelingprep.com/discounted-cash-flow-model/{}'\n",
    "    url = baseUrl.format(str(mapTkr))\n",
    "    response = urllib.request.urlopen(url)\n",
    "    url_contents = response.read()\n",
    "\n",
    "    soup = BeautifulSoup(url_contents, \"html.parser\")\n",
    "    dcf = soup.find(\"div\", {\"class\": \"global-button2\"}).text\n",
    "\n",
    "    txtValueFilter(dcf) \n",
    "    \n",
    "\n"
   ]
  },
  {
   "cell_type": "code",
   "execution_count": 26,
   "metadata": {},
   "outputs": [
    {
     "data": {
      "text/plain": [
       "['AITX', 'FDBL']"
      ]
     },
     "execution_count": 26,
     "metadata": {},
     "output_type": "execute_result"
    }
   ],
   "source": [
    "underVal\n"
   ]
  },
  {
   "cell_type": "code",
   "execution_count": 27,
   "metadata": {},
   "outputs": [
    {
     "data": {
      "text/plain": [
       "{'AITX': 0.04, 'FDBL': 0.13}"
      ]
     },
     "execution_count": 27,
     "metadata": {},
     "output_type": "execute_result"
    }
   ],
   "source": [
    "\n",
    "dict_UnderValued"
   ]
  }
 ],
 "metadata": {
  "kernelspec": {
   "display_name": "Python 3.9.15 ('myenv')",
   "language": "python",
   "name": "python3"
  },
  "language_info": {
   "codemirror_mode": {
    "name": "ipython",
    "version": 3
   },
   "file_extension": ".py",
   "mimetype": "text/x-python",
   "name": "python",
   "nbconvert_exporter": "python",
   "pygments_lexer": "ipython3",
   "version": "3.9.15"
  },
  "orig_nbformat": 4,
  "vscode": {
   "interpreter": {
    "hash": "72cc61c9694d467099ef54652d088522f74d141b3af5eb71a7e52280ce52fefc"
   }
  }
 },
 "nbformat": 4,
 "nbformat_minor": 2
}
