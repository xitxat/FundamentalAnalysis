{
 "cells": [
  {
   "cell_type": "code",
   "execution_count": 1,
   "metadata": {},
   "outputs": [],
   "source": [
    "from fpdf import FPDF\n",
    "\n",
    "%store -r ticker\n",
    "\n",
    "WIDTH = 210\n",
    "HEIGHT = 297\n",
    "count = 0 \n",
    " \n"
   ]
  },
  {
   "cell_type": "code",
   "execution_count": 28,
   "metadata": {},
   "outputs": [
    {
     "data": {
      "text/plain": [
       "''"
      ]
     },
     "execution_count": 28,
     "metadata": {},
     "output_type": "execute_result"
    }
   ],
   "source": [
    "pdf = FPDF() \n",
    "pdf.add_page()\n",
    "pdf.set_font('Arial', 'B', 16)\n",
    "pdf.cell(40, 10, 'Discounted Cash Flow Report')\n",
    "\n",
    "# pdf.image('tbl_Val_Full.png',10 ,15, WIDTH-30 ) #     WIDTH-10\n",
    "pdf.image('tbl_Val_Cheap.png',10 ,20, WIDTH-10 )\n",
    "\n",
    "count +=1\n",
    "pdf.output(f'DCF{count}.pdf', 'F')\n"
   ]
  },
  {
   "cell_type": "code",
   "execution_count": 29,
   "metadata": {},
   "outputs": [
    {
     "ename": "RuntimeError",
     "evalue": "FPDF error: Unsupported image type: svg",
     "output_type": "error",
     "traceback": [
      "\u001b[1;31m---------------------------------------------------------------------------\u001b[0m",
      "\u001b[1;31mRuntimeError\u001b[0m                              Traceback (most recent call last)",
      "Cell \u001b[1;32mIn [29], line 7\u001b[0m\n\u001b[0;32m      4\u001b[0m pdf\u001b[39m.\u001b[39mcell(\u001b[39m40\u001b[39m, \u001b[39m10\u001b[39m, \u001b[39m'\u001b[39m\u001b[39mDiscounted Cash Flow Report\u001b[39m\u001b[39m'\u001b[39m)\n\u001b[0;32m      6\u001b[0m \u001b[39m# pdf.image('tbl_Val_Full.png',10 ,15, WIDTH-30 ) #     WIDTH-10\u001b[39;00m\n\u001b[1;32m----> 7\u001b[0m pdf\u001b[39m.\u001b[39;49mimage(\u001b[39m'\u001b[39;49m\u001b[39mtbl_Val_Cheap.svg\u001b[39;49m\u001b[39m'\u001b[39;49m,\u001b[39m10\u001b[39;49m ,\u001b[39m20\u001b[39;49m, WIDTH\u001b[39m-\u001b[39;49m\u001b[39m10\u001b[39;49m )\n\u001b[0;32m      9\u001b[0m count \u001b[39m+\u001b[39m\u001b[39m=\u001b[39m\u001b[39m1\u001b[39m\n\u001b[0;32m     10\u001b[0m pdf\u001b[39m.\u001b[39moutput(\u001b[39mf\u001b[39m\u001b[39m'\u001b[39m\u001b[39mDCF\u001b[39m\u001b[39m{\u001b[39;00mcount\u001b[39m}\u001b[39;00m\u001b[39m.pdf\u001b[39m\u001b[39m'\u001b[39m, \u001b[39m'\u001b[39m\u001b[39mF\u001b[39m\u001b[39m'\u001b[39m)\n",
      "File \u001b[1;32mc:\\Users\\xitxa\\anaconda3\\envs\\myenv\\lib\\site-packages\\fpdf\\fpdf.py:150\u001b[0m, in \u001b[0;36mFPDF.check_page.<locals>.wrapper\u001b[1;34m(self, *args, **kwargs)\u001b[0m\n\u001b[0;32m    148\u001b[0m     \u001b[39mself\u001b[39m\u001b[39m.\u001b[39merror(\u001b[39m\"\u001b[39m\u001b[39mNo page open, you need to call add_page() first\u001b[39m\u001b[39m\"\u001b[39m)\n\u001b[0;32m    149\u001b[0m \u001b[39melse\u001b[39;00m:\n\u001b[1;32m--> 150\u001b[0m     \u001b[39mreturn\u001b[39;00m fn(\u001b[39mself\u001b[39m, \u001b[39m*\u001b[39margs, \u001b[39m*\u001b[39m\u001b[39m*\u001b[39mkwargs)\n",
      "File \u001b[1;32mc:\\Users\\xitxa\\anaconda3\\envs\\myenv\\lib\\site-packages\\fpdf\\fpdf.py:990\u001b[0m, in \u001b[0;36mFPDF.image\u001b[1;34m(self, name, x, y, w, h, type, link)\u001b[0m\n\u001b[0;32m    988\u001b[0m     mtd\u001b[39m=\u001b[39m\u001b[39m'\u001b[39m\u001b[39m_parse\u001b[39m\u001b[39m'\u001b[39m\u001b[39m+\u001b[39m\u001b[39mtype\u001b[39m\n\u001b[0;32m    989\u001b[0m     \u001b[39mif\u001b[39;00m \u001b[39mnot\u001b[39;00m \u001b[39mhasattr\u001b[39m(\u001b[39mself\u001b[39m,mtd):\n\u001b[1;32m--> 990\u001b[0m         \u001b[39mself\u001b[39;49m\u001b[39m.\u001b[39;49merror(\u001b[39m'\u001b[39;49m\u001b[39mUnsupported image type: \u001b[39;49m\u001b[39m'\u001b[39;49m\u001b[39m+\u001b[39;49m\u001b[39mtype\u001b[39;49m)\n\u001b[0;32m    991\u001b[0m     info\u001b[39m=\u001b[39m\u001b[39mgetattr\u001b[39m(\u001b[39mself\u001b[39m, mtd)(name)\n\u001b[0;32m    992\u001b[0m mtd\u001b[39m=\u001b[39m\u001b[39m'\u001b[39m\u001b[39m_parse\u001b[39m\u001b[39m'\u001b[39m\u001b[39m+\u001b[39m\u001b[39mtype\u001b[39m\n",
      "File \u001b[1;32mc:\\Users\\xitxa\\anaconda3\\envs\\myenv\\lib\\site-packages\\fpdf\\fpdf.py:227\u001b[0m, in \u001b[0;36mFPDF.error\u001b[1;34m(self, msg)\u001b[0m\n\u001b[0;32m    225\u001b[0m \u001b[39mdef\u001b[39;00m \u001b[39merror\u001b[39m(\u001b[39mself\u001b[39m, msg):\n\u001b[0;32m    226\u001b[0m     \u001b[39m\"\u001b[39m\u001b[39mFatal error\u001b[39m\u001b[39m\"\u001b[39m\n\u001b[1;32m--> 227\u001b[0m     \u001b[39mraise\u001b[39;00m \u001b[39mRuntimeError\u001b[39;00m(\u001b[39m'\u001b[39m\u001b[39mFPDF error: \u001b[39m\u001b[39m'\u001b[39m\u001b[39m+\u001b[39mmsg)\n",
      "\u001b[1;31mRuntimeError\u001b[0m: FPDF error: Unsupported image type: svg"
     ]
    }
   ],
   "source": [
    "# pdf = FPDF() \n",
    "# pdf.add_page()\n",
    "# pdf.set_font('Arial', 'B', 16)\n",
    "# pdf.cell(40, 10, 'Discounted Cash Flow Report')\n",
    "\n",
    "# # pdf.image('tbl_Val_Full.png',10 ,15, WIDTH-30 ) #     WIDTH-10\n",
    "# pdf.image('tbl_Val_Cheap.svg',10 ,20, WIDTH-10 )\n",
    "\n",
    "# count +=1\n",
    "# pdf.output(f'DCF{count}.pdf', 'F')\n"
   ]
  },
  {
   "cell_type": "code",
   "execution_count": null,
   "metadata": {},
   "outputs": [],
   "source": []
  }
 ],
 "metadata": {
  "kernelspec": {
   "display_name": "myenv",
   "language": "python",
   "name": "python3"
  },
  "language_info": {
   "codemirror_mode": {
    "name": "ipython",
    "version": 3
   },
   "file_extension": ".py",
   "mimetype": "text/x-python",
   "name": "python",
   "nbconvert_exporter": "python",
   "pygments_lexer": "ipython3",
   "version": "3.9.15 (main, Nov  4 2022, 16:35:55) [MSC v.1916 64 bit (AMD64)]"
  },
  "orig_nbformat": 4,
  "vscode": {
   "interpreter": {
    "hash": "72cc61c9694d467099ef54652d088522f74d141b3af5eb71a7e52280ce52fefc"
   }
  }
 },
 "nbformat": 4,
 "nbformat_minor": 2
}
