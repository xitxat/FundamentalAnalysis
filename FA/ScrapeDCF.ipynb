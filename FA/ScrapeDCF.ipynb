{
 "cells": [
  {
   "cell_type": "code",
   "execution_count": 1,
   "metadata": {},
   "outputs": [],
   "source": [
    "import requests\n",
    "import urllib\n",
    "from bs4 import BeautifulSoup\n",
    "from collections import Counter\n",
    "import pandas as pd\n",
    "\n",
    "%matplotlib inline\n",
    "import matplotlib as mpl\n",
    "import matplotlib.pyplot as plt\n",
    "from matplotlib import colors\n",
    "from matplotlib.colors import ListedColormap\n",
    "\n",
    "\n",
    "#ExportCharts\n",
    "from PIL import Image\n",
    "import glob\n",
    "import os\n"
   ]
  },
  {
   "cell_type": "code",
   "execution_count": 2,
   "metadata": {},
   "outputs": [],
   "source": [
    "# Variables\n",
    "cm = 1/2.54  # centimeters in inches\n",
    "MAX_PRICE = 150"
   ]
  },
  {
   "cell_type": "code",
   "execution_count": 3,
   "metadata": {},
   "outputs": [],
   "source": [
    "lst_url =[\n",
    "    \"https://finance.yahoo.com/most-active/\", \n",
    "    'https://www.gurufocus.com/guru/consensus-picks'\n",
    "    # \"https://finance.yahoo.com/u/yahoo-finance/watchlists/most-active-penny-stocks\",\n",
    "    # 'https://finance.yahoo.com/u/yahoo-finance/watchlists/most-active-small-cap-stocks',\n",
    "    # 'https://finance.yahoo.com/u/yahoo-finance/watchlists/stocks-with-the-highest-short-interest',\n",
    "    # 'https://finance.yahoo.com/u/yahoo-finance/watchlists/video-game-stocks',\n",
    "    # 'https://finance.yahoo.com/u/yahoo-finance/watchlists/cash-rich-companies-stocks',\n",
    "    # 'https://finance.yahoo.com/u/yahoo-finance/watchlists/most-added',\n",
    "    \n",
    "    ]\n",
    "\n"
   ]
  },
  {
   "cell_type": "code",
   "execution_count": 4,
   "metadata": {},
   "outputs": [],
   "source": [
    "lst_Merge = []\n"
   ]
  },
  {
   "cell_type": "code",
   "execution_count": 5,
   "metadata": {},
   "outputs": [
    {
     "name": "stdout",
     "output_type": "stream",
     "text": [
      "There are 98 links in this page\n",
      "There are 26 TICKERS in this page\n",
      "There are 415 links in this page\n",
      "There are 114 TICKERS in this page\n"
     ]
    }
   ],
   "source": [
    "# GET TICKERS FROM ALL CAPS\n",
    "for link in range(len(lst_url)):\n",
    "\theaders = {'User-Agent': 'Mozilla/5.0 (X11; Linux x86_64; rv:101.0) Gecko/20100101 Firefox/101.0', \"cookie\": \"CONSENT=YES+cb.20230531-04-p0.en+FX+908\"}\n",
    "\n",
    "\tresponse = requests.get(lst_url[link ], headers=headers )\n",
    "\n",
    "\tif response.status_code != 200:\n",
    "\t\tprint(\"Error fetching page\")\n",
    "\t\texit()\n",
    "\telse:\n",
    "\t\tcontent = response.content\n",
    "\t\t\n",
    "\tsoup = BeautifulSoup(response.content, 'html.parser')\n",
    "\t# All links in the page\n",
    "\n",
    "\tnb_links = len(soup.find_all('a'))\n",
    "\tprint(f\"There are {nb_links} links in this page\")\n",
    "\n",
    "\t# GET ALL Text from the LINKS\n",
    "\titems = [item.text.strip() for item in soup.select('a') ]\n",
    "\t# for i in items:\n",
    "\t# \tprint(i)\n",
    "\n",
    "\t#   REMOVE NON LINK TEXT\n",
    "\ttest_list = [item.text.strip() for item in soup.select('a') ]\n",
    "\t# print(test_list)\n",
    "\n",
    "\n",
    "\t#  FILTER FOR CAPS ONLY\n",
    "\tfor word in items:\n",
    "\t\tupperChars = True\n",
    "\t\tfor letters in word:\n",
    "\t\n",
    "\t\t\t# checking for uppercase\n",
    "\t\t\tif not letters.isupper():\n",
    "\t\t\t\tupperChars = False\n",
    "\t\t\t\tbreak\n",
    "\t\tif upperChars:\n",
    "\t\t\tlst_Merge.append(word)\n",
    "\t\n",
    "\n",
    "\t# remove blanks\n",
    "\tlst_Merge = list(filter(None, lst_Merge))\n",
    "\tnumCaps = len(lst_Merge)\n",
    "\tprint(f\"There are {numCaps} TICKERS in this page\")\n"
   ]
  },
  {
   "cell_type": "code",
   "execution_count": 6,
   "metadata": {},
   "outputs": [
    {
     "name": "stdout",
     "output_type": "stream",
     "text": [
      "There are 40 in List from Guru ['WBD', 'BMW', 'BALL', 'NVR', 'SOFI', 'T', 'LCID', 'ITUB', 'USA', 'INTC', 'EAT', 'LAD', 'STLA', 'UK', 'BBD', 'PBR', 'TSLA', 'F', 'NVDA', 'GOLD', 'AAPL', 'BAC', 'RGLD', 'JHG', 'MSFT', 'UBER', 'ETF', 'CMCSA', 'GT', 'TAL', 'AMZN', 'API', 'META', 'ITW', 'CCL', 'PLTR', 'NIO', 'XPEV', 'AMD', 'FAQ']\n"
     ]
    }
   ],
   "source": [
    "# REMOVE DUPLICATES\n",
    "\n",
    "set_Merge =  set(lst_Merge)\n",
    "\n",
    "#\tConvert set to list to append 'END' below\n",
    "lst_Merge = list(set_Merge)\n",
    "\n",
    "\n",
    "print(f'There are {len(lst_Merge)} in List from Guru', lst_Merge)"
   ]
  },
  {
   "cell_type": "code",
   "execution_count": 7,
   "metadata": {},
   "outputs": [
    {
     "name": "stdout",
     "output_type": "stream",
     "text": [
      "WBD : Stock DCF: 587.93 | 9.03 | undervalue\n",
      "No BMW\n",
      "Ammended tkr:  ['WBD', 'BALL', 'NVR', 'SOFI', 'T', 'LCID', 'ITUB', 'USA', 'INTC', 'EAT', 'LAD', 'STLA', 'UK', 'BBD', 'PBR', 'TSLA', 'F', 'NVDA', 'GOLD', 'AAPL', 'BAC', 'RGLD', 'JHG', 'MSFT', 'UBER', 'ETF', 'CMCSA', 'GT', 'TAL', 'AMZN', 'API', 'META', 'ITW', 'CCL', 'PLTR', 'NIO', 'XPEV', 'AMD', 'FAQ', 'END']\n",
      "WBD : Stock DCF: 587.93 | 9.03 | undervalue\n",
      "EAT : Stock DCF: 149.24 | 32.62 | undervalue\n",
      "F : Stock DCF: 29.29 | 11.47 | undervalue\n",
      "No ETF\n",
      "Ammended tkr:  ['WBD', 'NVR', 'T', 'ITUB', 'INTC', 'EAT', 'STLA', 'BBD', 'TSLA', 'F', 'GOLD', 'BAC', 'JHG', 'UBER', 'CMCSA', 'GT', 'TAL', 'AMZN', 'API', 'META', 'ITW', 'CCL', 'PLTR', 'NIO', 'XPEV', 'AMD', 'FAQ', 'END']\n",
      "WBD : Stock DCF: 587.93 | 9.03 | undervalue\n",
      "NVR : Stock DCF: 6,161.85 | 4635.55 | undervalue\n",
      "T : Stock DCF: 182.94 | 18.07 | undervalue\n",
      "ITUB : Stock DCF: 155.45 | 4.72 | undervalue\n",
      "INTC : Stock DCF: 107.52 | 26.44 | undervalue\n",
      "EAT : Stock DCF: 149.24 | 32.62 | undervalue\n",
      "STLA : Stock DCF: 393.16 | 14.07 | undervalue\n",
      "BBD : Stock DCF: 91.90 | 2.81 | undervalue\n",
      "GOLD : Stock DCF: 278.72 | 17.28 | undervalue\n",
      "BAC : Stock DCF: 121.39 | 32.19 | undervalue\n",
      "JHG : Stock DCF: 73.15 | 24.16 | undervalue\n",
      "META : Stock DCF: 370.63 | 117.09 | undervalue\n",
      "No FAQ\n",
      "Ammended tkr:  ['WBD', 'NVR', 'T', 'ITUB', 'INTC', 'EAT', 'STLA', 'BBD', 'F', 'GOLD', 'BAC', 'JHG', 'CMCSA', 'TAL', 'API', 'META', 'CCL', 'NIO', 'AMD', 'END']\n",
      "WBD : Stock DCF: 587.93 | 9.03 | undervalue\n",
      "NVR : Stock DCF: 6,161.85 | 4635.55 | undervalue\n",
      "T : Stock DCF: 182.94 | 18.07 | undervalue\n",
      "ITUB : Stock DCF: 155.45 | 4.72 | undervalue\n",
      "INTC : Stock DCF: 107.52 | 26.44 | undervalue\n",
      "EAT : Stock DCF: 149.24 | 32.62 | undervalue\n",
      "STLA : Stock DCF: 393.16 | 14.07 | undervalue\n",
      "BBD : Stock DCF: 91.90 | 2.81 | undervalue\n",
      "F : Stock DCF: 29.29 | 11.47 | undervalue\n",
      "GOLD : Stock DCF: 278.72 | 17.28 | undervalue\n",
      "BAC : Stock DCF: 121.39 | 32.19 | undervalue\n",
      "JHG : Stock DCF: 73.15 | 24.16 | undervalue\n",
      "CMCSA : Stock DCF: 114.91 | 34.41 | undervalue\n",
      "META : Stock DCF: 370.63 | 117.09 | undervalue\n",
      "WBD : Stock DCF: 587.93 | 9.03 | undervalue\n",
      "NVR : Stock DCF: 6,161.85 | 4635.55 | undervalue\n",
      "T : Stock DCF: 182.94 | 18.07 | undervalue\n",
      "ITUB : Stock DCF: 155.45 | 4.72 | undervalue\n",
      "INTC : Stock DCF: 107.52 | 26.44 | undervalue\n",
      "EAT : Stock DCF: 149.24 | 32.62 | undervalue\n",
      "STLA : Stock DCF: 393.16 | 14.07 | undervalue\n",
      "BBD : Stock DCF: 91.90 | 2.81 | undervalue\n",
      "F : Stock DCF: 29.29 | 11.47 | undervalue\n",
      "GOLD : Stock DCF: 278.72 | 17.28 | undervalue\n",
      "BAC : Stock DCF: 121.39 | 32.19 | undervalue\n",
      "JHG : Stock DCF: 73.15 | 24.16 | undervalue\n",
      "CMCSA : Stock DCF: 114.91 | 34.41 | undervalue\n",
      "WBD : Stock DCF: 587.93 | 9.03 | undervalue\n",
      "NVR : Stock DCF: 6,161.85 | 4635.55 | undervalue\n",
      "T : Stock DCF: 182.94 | 18.07 | undervalue\n",
      "ITUB : Stock DCF: 155.45 | 4.72 | undervalue\n",
      "INTC : Stock DCF: 107.52 | 26.44 | undervalue\n",
      "EAT : Stock DCF: 149.24 | 32.62 | undervalue\n",
      "STLA : Stock DCF: 393.16 | 14.07 | undervalue\n",
      "BBD : Stock DCF: 91.90 | 2.81 | undervalue\n",
      "F : Stock DCF: 29.29 | 11.47 | undervalue\n",
      "GOLD : Stock DCF: 278.72 | 17.28 | undervalue\n",
      "BAC : Stock DCF: 121.39 | 32.19 | undervalue\n",
      "JHG : Stock DCF: 73.15 | 24.16 | undervalue\n",
      "CMCSA : Stock DCF: 114.91 | 34.41 | undervalue\n",
      "META : Stock DCF: 370.63 | 117.09 | undervalue\n",
      "No END\n",
      "Ammended tkr:  ['WBD', 'NVR', 'T', 'ITUB', 'INTC', 'EAT', 'STLA', 'BBD', 'F', 'GOLD', 'BAC', 'JHG', 'CMCSA', 'META']\n",
      "Done\n",
      "Appended Length:  14\n"
     ]
    }
   ],
   "source": [
    "#   NYSE ONLY FILTER\n",
    "# Append END while not END to RES_LST\n",
    "\n",
    "tkr = '' \n",
    "\n",
    "def txtStripper(dcf):\n",
    "    dcf = dcf.replace('\\n', '')\n",
    "    dcf = dcf.strip()\n",
    "    print((tkr), ':',  (dcf))\n",
    "\n",
    "lst_Merge.append('END')\n",
    "\n",
    "#\tRemove duplicates\n",
    "# set_Merge =  set(lst_Merge)\n",
    "# print(set_Merge)\n",
    "\n",
    "while tkr != 'END':\n",
    "    try:\n",
    "        for l in lst_Merge:    \n",
    "                    \n",
    "                    tkr = l\n",
    "                    \n",
    "                    baseUrl = 'https://site.financialmodelingprep.com/discounted-cash-flow-model/{}'\n",
    "                    url = baseUrl.format(str(tkr))\n",
    "                    response = urllib.request.urlopen(url)\n",
    "                    url_contents = response.read()\n",
    "\n",
    "                    soup = BeautifulSoup(url_contents, \"html.parser\")\n",
    "                    dcf = soup.find(\"div\", {\"class\": \"global-button2\"}).text\n",
    "\n",
    "# START CLEAN UP\n",
    "                    # if 'overvalue' in dcf or  'Stock DCF: - | ' in dcf:\n",
    "                    #     lst_Merge.remove(tkr)\n",
    "                    if '- |' in dcf:\n",
    "                       lst_Merge.remove(tkr) \n",
    "                    elif 'overvalue' in dcf:\n",
    "                        lst_Merge.remove(tkr) \n",
    "                    elif dcf is None: \n",
    "                        lst_Merge.remove(tkr)\n",
    "                    else:\n",
    "                     txtStripper(dcf)\n",
    "\n",
    "\n",
    "\n",
    "    except AttributeError:\n",
    "        print('No' , (tkr) )\n",
    "        lst_Merge.remove(tkr)\n",
    "        print('Ammended tkr: ' , lst_Merge)\n",
    "\n",
    "print('Done')\n",
    "print('Appended Length: ' , len(lst_Merge))\n"
   ]
  },
  {
   "cell_type": "code",
   "execution_count": 8,
   "metadata": {},
   "outputs": [
    {
     "data": {
      "text/plain": [
       "['WBD',\n",
       " 'NVR',\n",
       " 'T',\n",
       " 'ITUB',\n",
       " 'INTC',\n",
       " 'EAT',\n",
       " 'STLA',\n",
       " 'BBD',\n",
       " 'F',\n",
       " 'GOLD',\n",
       " 'BAC',\n",
       " 'JHG',\n",
       " 'CMCSA',\n",
       " 'META']"
      ]
     },
     "execution_count": 8,
     "metadata": {},
     "output_type": "execute_result"
    }
   ],
   "source": [
    "lst_Merge"
   ]
  },
  {
   "cell_type": "code",
   "execution_count": 9,
   "metadata": {},
   "outputs": [],
   "source": [
    "mergedTkrs = ''\n",
    "\n",
    "overVal = []\n",
    "underVal = []\n",
    "nanList = []\n",
    "\n",
    "dict_CurrentPrice = {}\n",
    "dict_Valuation = {}\n",
    "dict_Discount = {}\n",
    "dict_UnderBy = {}\n",
    "\n",
    "# tkr, $, evaluation\n",
    "#lst_Comparison = []"
   ]
  },
  {
   "cell_type": "code",
   "execution_count": 10,
   "metadata": {},
   "outputs": [],
   "source": [
    "# DEF:   remove newline and spaces\n",
    "def txtValueFilter(dcf):\n",
    "    dcf = dcf.replace('\\n', '')\n",
    "    dcf = dcf.replace(',', '')\n",
    "    dcf = dcf.strip()\n",
    "\n",
    "    if dcf is None:\n",
    "        lst_Merge.remove(mergedTkrs)\n",
    "\n",
    "    if 'Stock DCF: - | ' in dcf: # NAN values in ticker price. instead of try: block\n",
    "        nanList.append(mergedTkrs)\n",
    "\n",
    "    # elif 'overvalue' in dcf:\n",
    "    #     overVal.append(mergedTkrs) # append to list\n",
    "        \n",
    "        \n",
    "    elif 'undervalue' in dcf:\n",
    "         underVal.append(mergedTkrs) # append to list\n",
    "         \n",
    "         EvaluateDCF(dcf)\n",
    "               \n",
    "    else:\n",
    "        print('No Value Statement: code Throw')\n",
    "\n",
    "    print(mergedTkrs, ':',  (dcf))\n",
    "\n"
   ]
  },
  {
   "cell_type": "code",
   "execution_count": 11,
   "metadata": {},
   "outputs": [],
   "source": [
    "#   DEF CALCULATE VALUE DIFFERENCE\n",
    "\n",
    "def EvaluateDCF(tstStr):\n",
    "    tstStr = tstStr.replace('Stock DCF:', '')\n",
    "    tstStr = tstStr.replace('|', '-', 1)\n",
    "    tstStr = tstStr.replace('|', '')\n",
    "    tstStr = tstStr.replace('overvalue', '')\n",
    "    tstStr = tstStr.replace('undervalue', '')\n",
    "    \n",
    "    tstStr = tstStr.split('-')\n",
    "\n",
    "    eval = float(tstStr[0]) - float(tstStr[1])\n",
    "    eval = (round(eval, 2))\n",
    "\n",
    "    currentPrice =  float(tstStr[0])\n",
    "    valuation = float(tstStr[1])\n",
    "    valuation = round(valuation,2)\n",
    "    discount = currentPrice - valuation\n",
    "    discount = round(discount,2)\n",
    "    underBy = round((valuation / currentPrice) * 100, 2)\n",
    "\n",
    "    dict_CurrentPrice.update( {mergedTkrs : tstStr[0]})\n",
    "    dict_Valuation.update({mergedTkrs : discount})      #NB discount/valuation SWAP\n",
    "    dict_Discount.update({mergedTkrs : valuation})\n",
    "    dict_UnderBy.update({mergedTkrs : underBy})\n",
    "\n",
    "    #lst_Comparison.append(mergedTkrs, currentPrice, eval )\n",
    "    \n",
    "    print (mergedTkrs, 'Undervalued by: $', valuation)\n"
   ]
  },
  {
   "cell_type": "code",
   "execution_count": 12,
   "metadata": {},
   "outputs": [
    {
     "name": "stdout",
     "output_type": "stream",
     "text": [
      "error checker:  WBD \n",
      "                Stock DCF: 587.93 | 9.03 | undervalue\n",
      "            \n",
      "WBD Undervalued by: $ 9.03\n",
      "WBD : Stock DCF: 587.93 | 9.03 | undervalue\n",
      "error checker:  NVR \n",
      "                Stock DCF: 6,161.85 | 4635.55 | undervalue\n",
      "            \n",
      "NVR Undervalued by: $ 4635.55\n",
      "NVR : Stock DCF: 6161.85 | 4635.55 | undervalue\n",
      "error checker:  T \n",
      "                Stock DCF: 182.94 | 18.07 | undervalue\n",
      "            \n",
      "T Undervalued by: $ 18.07\n",
      "T : Stock DCF: 182.94 | 18.07 | undervalue\n",
      "error checker:  ITUB \n",
      "                Stock DCF: 155.45 | 4.72 | undervalue\n",
      "            \n",
      "ITUB Undervalued by: $ 4.72\n",
      "ITUB : Stock DCF: 155.45 | 4.72 | undervalue\n",
      "error checker:  INTC \n",
      "                Stock DCF: 107.52 | 26.44 | undervalue\n",
      "            \n",
      "INTC Undervalued by: $ 26.44\n",
      "INTC : Stock DCF: 107.52 | 26.44 | undervalue\n",
      "error checker:  EAT \n",
      "                Stock DCF: 149.24 | 32.62 | undervalue\n",
      "            \n",
      "EAT Undervalued by: $ 32.62\n",
      "EAT : Stock DCF: 149.24 | 32.62 | undervalue\n",
      "error checker:  STLA \n",
      "                Stock DCF: 393.16 | 14.07 | undervalue\n",
      "            \n",
      "STLA Undervalued by: $ 14.07\n",
      "STLA : Stock DCF: 393.16 | 14.07 | undervalue\n",
      "error checker:  BBD \n",
      "                Stock DCF: 91.90 | 2.81 | undervalue\n",
      "            \n",
      "BBD Undervalued by: $ 2.81\n",
      "BBD : Stock DCF: 91.90 | 2.81 | undervalue\n",
      "error checker:  F \n",
      "                Stock DCF: 29.29 | 11.47 | undervalue\n",
      "            \n",
      "F Undervalued by: $ 11.47\n",
      "F : Stock DCF: 29.29 | 11.47 | undervalue\n",
      "error checker:  GOLD \n",
      "                Stock DCF: 278.72 | 17.28 | undervalue\n",
      "            \n",
      "GOLD Undervalued by: $ 17.28\n",
      "GOLD : Stock DCF: 278.72 | 17.28 | undervalue\n",
      "error checker:  BAC \n",
      "                Stock DCF: 121.39 | 32.19 | undervalue\n",
      "            \n",
      "BAC Undervalued by: $ 32.19\n",
      "BAC : Stock DCF: 121.39 | 32.19 | undervalue\n",
      "error checker:  JHG \n",
      "                Stock DCF: 73.15 | 24.16 | undervalue\n",
      "            \n",
      "JHG Undervalued by: $ 24.16\n",
      "JHG : Stock DCF: 73.15 | 24.16 | undervalue\n",
      "error checker:  CMCSA \n",
      "                Stock DCF: 114.91 | 34.41 | undervalue\n",
      "            \n",
      "CMCSA Undervalued by: $ 34.41\n",
      "CMCSA : Stock DCF: 114.91 | 34.41 | undervalue\n",
      "error checker:  META \n",
      "                Stock DCF: 370.63 | 117.09 | undervalue\n",
      "            \n",
      "META Undervalued by: $ 117.09\n",
      "META : Stock DCF: 370.63 | 117.09 | undervalue\n",
      "CALC DONE. \n"
     ]
    }
   ],
   "source": [
    "#   CALC LOOP\n",
    "\n",
    "for mergedTkrs in lst_Merge:\n",
    "    try:\n",
    "        baseUrl = 'https://site.financialmodelingprep.com/discounted-cash-flow-model/{}'\n",
    "        url = baseUrl.format(str(mergedTkrs))\n",
    "        response = urllib.request.urlopen(url)\n",
    "        url_contents = response.read()\n",
    "\n",
    "        soup = BeautifulSoup(url_contents, \"html.parser\")\n",
    "        dcf = soup.find(\"div\", {\"class\": \"global-button2\"}).text\n",
    "\n",
    "        print('error checker: ',mergedTkrs, dcf)\n",
    "\n",
    "        txtValueFilter(dcf) \n",
    "    \n",
    "    except AttributeError:\n",
    "        print('No text for ' , (mergedTkrs) )\n",
    "        lst_Merge.remove(mergedTkrs)\n",
    "\n",
    "    except KeyError: 'END'\n",
    "\n",
    "print('CALC DONE. ')\n",
    "\n"
   ]
  },
  {
   "cell_type": "code",
   "execution_count": 13,
   "metadata": {},
   "outputs": [
    {
     "data": {
      "text/plain": [
       "{'WBD': 1.54,\n",
       " 'NVR': 75.23,\n",
       " 'T': 9.88,\n",
       " 'ITUB': 3.04,\n",
       " 'INTC': 24.59,\n",
       " 'EAT': 21.86,\n",
       " 'STLA': 3.58,\n",
       " 'BBD': 3.06,\n",
       " 'F': 39.16,\n",
       " 'GOLD': 6.2,\n",
       " 'BAC': 26.52,\n",
       " 'JHG': 33.03,\n",
       " 'CMCSA': 29.95,\n",
       " 'META': 31.59}"
      ]
     },
     "execution_count": 13,
     "metadata": {},
     "output_type": "execute_result"
    }
   ],
   "source": [
    "dict_UnderBy"
   ]
  },
  {
   "cell_type": "code",
   "execution_count": 14,
   "metadata": {},
   "outputs": [
    {
     "data": {
      "text/plain": [
       "['WBD',\n",
       " 'NVR',\n",
       " 'T',\n",
       " 'ITUB',\n",
       " 'INTC',\n",
       " 'EAT',\n",
       " 'STLA',\n",
       " 'BBD',\n",
       " 'F',\n",
       " 'GOLD',\n",
       " 'BAC',\n",
       " 'JHG',\n",
       " 'CMCSA',\n",
       " 'META']"
      ]
     },
     "execution_count": 14,
     "metadata": {},
     "output_type": "execute_result"
    }
   ],
   "source": [
    "underVal\n"
   ]
  },
  {
   "cell_type": "code",
   "execution_count": 15,
   "metadata": {},
   "outputs": [
    {
     "data": {
      "text/plain": [
       "{'WBD': ' 587.93 ',\n",
       " 'NVR': ' 6161.85 ',\n",
       " 'T': ' 182.94 ',\n",
       " 'ITUB': ' 155.45 ',\n",
       " 'INTC': ' 107.52 ',\n",
       " 'EAT': ' 149.24 ',\n",
       " 'STLA': ' 393.16 ',\n",
       " 'BBD': ' 91.90 ',\n",
       " 'F': ' 29.29 ',\n",
       " 'GOLD': ' 278.72 ',\n",
       " 'BAC': ' 121.39 ',\n",
       " 'JHG': ' 73.15 ',\n",
       " 'CMCSA': ' 114.91 ',\n",
       " 'META': ' 370.63 '}"
      ]
     },
     "execution_count": 15,
     "metadata": {},
     "output_type": "execute_result"
    }
   ],
   "source": [
    "\n",
    "dict_CurrentPrice"
   ]
  },
  {
   "cell_type": "code",
   "execution_count": 16,
   "metadata": {},
   "outputs": [
    {
     "data": {
      "text/plain": [
       "{'WBD': 578.9,\n",
       " 'NVR': 1526.3,\n",
       " 'T': 164.87,\n",
       " 'ITUB': 150.73,\n",
       " 'INTC': 81.08,\n",
       " 'EAT': 116.62,\n",
       " 'STLA': 379.09,\n",
       " 'BBD': 89.09,\n",
       " 'F': 17.82,\n",
       " 'GOLD': 261.44,\n",
       " 'BAC': 89.2,\n",
       " 'JHG': 48.99,\n",
       " 'CMCSA': 80.5,\n",
       " 'META': 253.54}"
      ]
     },
     "execution_count": 16,
     "metadata": {},
     "output_type": "execute_result"
    }
   ],
   "source": [
    "# v = dict_Valuation.values()\n",
    "# float([x for x in v][0])\n",
    "dict_Valuation\n",
    "# round(dict_Valuation.values,2)"
   ]
  },
  {
   "cell_type": "code",
   "execution_count": 17,
   "metadata": {},
   "outputs": [
    {
     "data": {
      "text/plain": [
       "{'WBD': 9.03,\n",
       " 'NVR': 4635.55,\n",
       " 'T': 18.07,\n",
       " 'ITUB': 4.72,\n",
       " 'INTC': 26.44,\n",
       " 'EAT': 32.62,\n",
       " 'STLA': 14.07,\n",
       " 'BBD': 2.81,\n",
       " 'F': 11.47,\n",
       " 'GOLD': 17.28,\n",
       " 'BAC': 32.19,\n",
       " 'JHG': 24.16,\n",
       " 'CMCSA': 34.41,\n",
       " 'META': 117.09}"
      ]
     },
     "execution_count": 17,
     "metadata": {},
     "output_type": "execute_result"
    }
   ],
   "source": [
    "\n",
    "dict_Discount"
   ]
  },
  {
   "cell_type": "code",
   "execution_count": 18,
   "metadata": {},
   "outputs": [
    {
     "data": {
      "text/html": [
       "<div>\n",
       "<style scoped>\n",
       "    .dataframe tbody tr th:only-of-type {\n",
       "        vertical-align: middle;\n",
       "    }\n",
       "\n",
       "    .dataframe tbody tr th {\n",
       "        vertical-align: top;\n",
       "    }\n",
       "\n",
       "    .dataframe thead th {\n",
       "        text-align: right;\n",
       "    }\n",
       "</style>\n",
       "<table border=\"1\" class=\"dataframe\">\n",
       "  <thead>\n",
       "    <tr style=\"text-align: right;\">\n",
       "      <th></th>\n",
       "      <th>Price</th>\n",
       "      <th>Value</th>\n",
       "      <th>Discount</th>\n",
       "      <th>% Under</th>\n",
       "    </tr>\n",
       "  </thead>\n",
       "  <tbody>\n",
       "    <tr>\n",
       "      <th>NVR</th>\n",
       "      <td>6161.85</td>\n",
       "      <td>1526.3</td>\n",
       "      <td>4635.55</td>\n",
       "      <td>75.23</td>\n",
       "    </tr>\n",
       "    <tr>\n",
       "      <th>F</th>\n",
       "      <td>29.29</td>\n",
       "      <td>17.82</td>\n",
       "      <td>11.47</td>\n",
       "      <td>39.16</td>\n",
       "    </tr>\n",
       "    <tr>\n",
       "      <th>JHG</th>\n",
       "      <td>73.15</td>\n",
       "      <td>48.99</td>\n",
       "      <td>24.16</td>\n",
       "      <td>33.03</td>\n",
       "    </tr>\n",
       "    <tr>\n",
       "      <th>META</th>\n",
       "      <td>370.63</td>\n",
       "      <td>253.54</td>\n",
       "      <td>117.09</td>\n",
       "      <td>31.59</td>\n",
       "    </tr>\n",
       "    <tr>\n",
       "      <th>CMCSA</th>\n",
       "      <td>114.91</td>\n",
       "      <td>80.5</td>\n",
       "      <td>34.41</td>\n",
       "      <td>29.95</td>\n",
       "    </tr>\n",
       "    <tr>\n",
       "      <th>BAC</th>\n",
       "      <td>121.39</td>\n",
       "      <td>89.2</td>\n",
       "      <td>32.19</td>\n",
       "      <td>26.52</td>\n",
       "    </tr>\n",
       "    <tr>\n",
       "      <th>INTC</th>\n",
       "      <td>107.52</td>\n",
       "      <td>81.08</td>\n",
       "      <td>26.44</td>\n",
       "      <td>24.59</td>\n",
       "    </tr>\n",
       "    <tr>\n",
       "      <th>EAT</th>\n",
       "      <td>149.24</td>\n",
       "      <td>116.62</td>\n",
       "      <td>32.62</td>\n",
       "      <td>21.86</td>\n",
       "    </tr>\n",
       "    <tr>\n",
       "      <th>T</th>\n",
       "      <td>182.94</td>\n",
       "      <td>164.87</td>\n",
       "      <td>18.07</td>\n",
       "      <td>9.88</td>\n",
       "    </tr>\n",
       "    <tr>\n",
       "      <th>GOLD</th>\n",
       "      <td>278.72</td>\n",
       "      <td>261.44</td>\n",
       "      <td>17.28</td>\n",
       "      <td>6.2</td>\n",
       "    </tr>\n",
       "    <tr>\n",
       "      <th>STLA</th>\n",
       "      <td>393.16</td>\n",
       "      <td>379.09</td>\n",
       "      <td>14.07</td>\n",
       "      <td>3.58</td>\n",
       "    </tr>\n",
       "    <tr>\n",
       "      <th>BBD</th>\n",
       "      <td>91.90</td>\n",
       "      <td>89.09</td>\n",
       "      <td>2.81</td>\n",
       "      <td>3.06</td>\n",
       "    </tr>\n",
       "    <tr>\n",
       "      <th>ITUB</th>\n",
       "      <td>155.45</td>\n",
       "      <td>150.73</td>\n",
       "      <td>4.72</td>\n",
       "      <td>3.04</td>\n",
       "    </tr>\n",
       "    <tr>\n",
       "      <th>WBD</th>\n",
       "      <td>587.93</td>\n",
       "      <td>578.9</td>\n",
       "      <td>9.03</td>\n",
       "      <td>1.54</td>\n",
       "    </tr>\n",
       "  </tbody>\n",
       "</table>\n",
       "</div>"
      ],
      "text/plain": [
       "           Price   Value Discount % Under\n",
       "NVR     6161.85   1526.3  4635.55   75.23\n",
       "F         29.29    17.82    11.47   39.16\n",
       "JHG       73.15    48.99    24.16   33.03\n",
       "META     370.63   253.54   117.09   31.59\n",
       "CMCSA    114.91     80.5    34.41   29.95\n",
       "BAC      121.39     89.2    32.19   26.52\n",
       "INTC     107.52    81.08    26.44   24.59\n",
       "EAT      149.24   116.62    32.62   21.86\n",
       "T        182.94   164.87    18.07    9.88\n",
       "GOLD     278.72   261.44    17.28     6.2\n",
       "STLA     393.16   379.09    14.07    3.58\n",
       "BBD       91.90    89.09     2.81    3.06\n",
       "ITUB     155.45   150.73     4.72    3.04\n",
       "WBD      587.93    578.9     9.03    1.54"
      ]
     },
     "execution_count": 18,
     "metadata": {},
     "output_type": "execute_result"
    }
   ],
   "source": [
    "df_Value = pd.DataFrame([dict_CurrentPrice, dict_Valuation, dict_Discount, dict_UnderBy]).T\n",
    "df_Value.columns = ['Price', 'Value', 'Discount', '% Under']\n",
    "df_Value = df_Value.sort_values(by=['% Under'], ascending=False ) # \n",
    "df_Value_Full = df_Value\n",
    "df_Value_Full"
   ]
  },
  {
   "attachments": {},
   "cell_type": "markdown",
   "metadata": {},
   "source": [
    "# Price Filter"
   ]
  },
  {
   "cell_type": "code",
   "execution_count": 19,
   "metadata": {},
   "outputs": [
    {
     "name": "stdout",
     "output_type": "stream",
     "text": [
      "Stored 'df_Value_Full' (DataFrame)\n"
     ]
    },
    {
     "name": "stderr",
     "output_type": "stream",
     "text": [
      "UsageError: Unknown variable 'df_Value_Cheapest'\n"
     ]
    }
   ],
   "source": [
    "%store df_Value_Full\n",
    "%store df_Value_Cheapest"
   ]
  },
  {
   "cell_type": "code",
   "execution_count": 20,
   "metadata": {},
   "outputs": [],
   "source": [
    "df_Value = df_Value.astype(float)"
   ]
  },
  {
   "cell_type": "code",
   "execution_count": 21,
   "metadata": {},
   "outputs": [
    {
     "data": {
      "text/plain": [
       "Price       float64\n",
       "Value       float64\n",
       "Discount    float64\n",
       "% Under     float64\n",
       "dtype: object"
      ]
     },
     "execution_count": 21,
     "metadata": {},
     "output_type": "execute_result"
    }
   ],
   "source": [
    "df_Value.dtypes"
   ]
  },
  {
   "cell_type": "code",
   "execution_count": 22,
   "metadata": {},
   "outputs": [],
   "source": [
    "#   DROP EXPENSIVE STOCKS\n",
    "\n",
    "# Get names of indexes for  column to manipulate\n",
    "indxNames = df_Value[df_Value['Price'] > MAX_PRICE].index\n",
    "# Delete these row indexes from dataFrame with column values >x.\n",
    "df_Value_Cheapest = df_Value.drop(indxNames , inplace=True)\n"
   ]
  },
  {
   "cell_type": "code",
   "execution_count": null,
   "metadata": {},
   "outputs": [],
   "source": []
  },
  {
   "cell_type": "code",
   "execution_count": 38,
   "metadata": {},
   "outputs": [
    {
     "name": "stdout",
     "output_type": "stream",
     "text": [
      "Stored 'df_Value_Cheapest' (DataFrame)\n"
     ]
    },
    {
     "data": {
      "text/html": [
       "<div>\n",
       "<style scoped>\n",
       "    .dataframe tbody tr th:only-of-type {\n",
       "        vertical-align: middle;\n",
       "    }\n",
       "\n",
       "    .dataframe tbody tr th {\n",
       "        vertical-align: top;\n",
       "    }\n",
       "\n",
       "    .dataframe thead th {\n",
       "        text-align: right;\n",
       "    }\n",
       "</style>\n",
       "<table border=\"1\" class=\"dataframe\">\n",
       "  <thead>\n",
       "    <tr style=\"text-align: right;\">\n",
       "      <th></th>\n",
       "      <th>Price</th>\n",
       "      <th>Value</th>\n",
       "      <th>Discount</th>\n",
       "      <th>% Under</th>\n",
       "    </tr>\n",
       "  </thead>\n",
       "  <tbody>\n",
       "    <tr>\n",
       "      <th>F</th>\n",
       "      <td>29.29</td>\n",
       "      <td>17.82</td>\n",
       "      <td>11.47</td>\n",
       "      <td>39.16</td>\n",
       "    </tr>\n",
       "    <tr>\n",
       "      <th>JHG</th>\n",
       "      <td>73.15</td>\n",
       "      <td>48.99</td>\n",
       "      <td>24.16</td>\n",
       "      <td>33.03</td>\n",
       "    </tr>\n",
       "    <tr>\n",
       "      <th>CMCSA</th>\n",
       "      <td>114.91</td>\n",
       "      <td>80.50</td>\n",
       "      <td>34.41</td>\n",
       "      <td>29.95</td>\n",
       "    </tr>\n",
       "    <tr>\n",
       "      <th>BAC</th>\n",
       "      <td>121.39</td>\n",
       "      <td>89.20</td>\n",
       "      <td>32.19</td>\n",
       "      <td>26.52</td>\n",
       "    </tr>\n",
       "    <tr>\n",
       "      <th>INTC</th>\n",
       "      <td>107.52</td>\n",
       "      <td>81.08</td>\n",
       "      <td>26.44</td>\n",
       "      <td>24.59</td>\n",
       "    </tr>\n",
       "    <tr>\n",
       "      <th>EAT</th>\n",
       "      <td>149.24</td>\n",
       "      <td>116.62</td>\n",
       "      <td>32.62</td>\n",
       "      <td>21.86</td>\n",
       "    </tr>\n",
       "    <tr>\n",
       "      <th>BBD</th>\n",
       "      <td>91.90</td>\n",
       "      <td>89.09</td>\n",
       "      <td>2.81</td>\n",
       "      <td>3.06</td>\n",
       "    </tr>\n",
       "  </tbody>\n",
       "</table>\n",
       "</div>"
      ],
      "text/plain": [
       "        Price   Value  Discount  % Under\n",
       "F       29.29   17.82     11.47    39.16\n",
       "JHG     73.15   48.99     24.16    33.03\n",
       "CMCSA  114.91   80.50     34.41    29.95\n",
       "BAC    121.39   89.20     32.19    26.52\n",
       "INTC   107.52   81.08     26.44    24.59\n",
       "EAT    149.24  116.62     32.62    21.86\n",
       "BBD     91.90   89.09      2.81     3.06"
      ]
     },
     "execution_count": 38,
     "metadata": {},
     "output_type": "execute_result"
    }
   ],
   "source": [
    "df_Value_Cheapest = df_Value\n",
    "%store df_Value_Cheapest\n",
    "df_Value_Cheapest"
   ]
  },
  {
   "attachments": {},
   "cell_type": "markdown",
   "metadata": {},
   "source": [
    "# HTML    "
   ]
  },
  {
   "attachments": {},
   "cell_type": "markdown",
   "metadata": {},
   "source": [
    "### JINJA2 PRETTY HYBRID"
   ]
  },
  {
   "cell_type": "code",
   "execution_count": 24,
   "metadata": {},
   "outputs": [],
   "source": [
    "import jinja2\n",
    "from pretty_html_table import build_table\n"
   ]
  },
  {
   "cell_type": "code",
   "execution_count": 28,
   "metadata": {},
   "outputs": [
    {
     "name": "stdout",
     "output_type": "stream",
     "text": [
      "Report generated at: 2022-12-21 13:52:16\n"
     ]
    }
   ],
   "source": [
    "\n",
    "# Getting current date and time using now().\n",
    " \n",
    "# importing datetime module for now()\n",
    "import datetime\n",
    " \n",
    "# using now() to get current time\n",
    "current_time = datetime.datetime.now().replace(microsecond=0)\n",
    " \n",
    "# Printing value of now.\n",
    "print(\"Report generated at:\", current_time)"
   ]
  },
  {
   "cell_type": "code",
   "execution_count": 42,
   "metadata": {},
   "outputs": [
    {
     "data": {
      "image/png": "[encoded data removed]",
      "text/plain": [
       "<Figure size 640x480 with 1 Axes>"
      ]
     },
     "metadata": {},
     "output_type": "display_data"
    }
   ],
   "source": [
    "# Template handling\n",
    "env = jinja2.Environment(loader=jinja2.FileSystemLoader(searchpath=''))\n",
    "template = env.get_template('template.html')\n",
    "\n",
    "tbl_Full = build_table(df_Value_Full, 'blue_light',\n",
    "                        padding=\"10\",\n",
    "                        index=True,)\n",
    "\n",
    "tbl_Cheap = build_table(df_Value_Cheapest, 'blue_light',\n",
    "                        padding=\"10\",\n",
    "                        index=True,\n",
    "                        border_bottom_color='black',\n",
    "                        even_color='green')   \n",
    "\n",
    "# tbl_cheap =  html_table_Cheap \n",
    "tmpl_time = current_time\n",
    "max_P = MAX_PRICE\n",
    "\n",
    "html = template.render(tmpl_tbl_cheap = tbl_Cheap , tmpl_tbl_full = tbl_Full, \n",
    "                        tmpl_time = current_time, max_P = MAX_PRICE)\n",
    "\n",
    "# Plot\n",
    "ax = df_Value_Cheapest.plot.barh()\n",
    "fig = ax.get_figure()\n",
    "fig.savefig('IMG\\\\CheapUnderBarh.svg')\n",
    "\n",
    "\n",
    "# Save to html file\n",
    "with open('pretty_table03.html', 'w') as f:\n",
    "    f.write(html)"
   ]
  },
  {
   "attachments": {},
   "cell_type": "markdown",
   "metadata": {},
   "source": [
    "# TEST"
   ]
  },
  {
   "cell_type": "code",
   "execution_count": null,
   "metadata": {},
   "outputs": [],
   "source": [
    "df_html = df_Value_Full\n",
    "df_html\n"
   ]
  },
  {
   "cell_type": "code",
   "execution_count": null,
   "metadata": {},
   "outputs": [],
   "source": [
    "df_html_tail = df_html.tail()\n",
    "df_html_tail"
   ]
  },
  {
   "cell_type": "code",
   "execution_count": null,
   "metadata": {},
   "outputs": [],
   "source": [
    "\n",
    "html = df_html.to_html(border=10, )\n",
    "  \n",
    "# write html to file\n",
    "text_file = open(\"index01.html\", \"w\")\n",
    "text_file.write(html)\n",
    "text_file.close()"
   ]
  },
  {
   "cell_type": "code",
   "execution_count": null,
   "metadata": {},
   "outputs": [],
   "source": [
    "from pretty_html_table import build_table\n",
    "\n",
    "\n",
    "html_table_blue_light = build_table(df_html, 'blue_light',\n",
    "                        padding=\"10\",\n",
    "                        index=True,)\n",
    "\n",
    "                    \n",
    "\n",
    "# Plot\n",
    "ax = df_html.plot.bar()\n",
    "fig = ax.get_figure()\n",
    "fig.savefig('plot.svg')\n",
    "\n",
    "# Save to html file\n",
    "with open('pretty_table.html', 'w') as f:\n",
    "    f.write(html_table_blue_light, html_B)\n",
    "\n"
   ]
  },
  {
   "cell_type": "code",
   "execution_count": null,
   "metadata": {},
   "outputs": [],
   "source": [
    "#   |||     JIN PRETTY HYBRID BACKUP    |||\n",
    "\n",
    "# Template handling\n",
    "env = jinja2.Environment(loader=jinja2.FileSystemLoader(searchpath=''))\n",
    "template = env.get_template('template.html')\n",
    "\n",
    "html_table_blue_light = build_table(df_Value_Full, 'blue_light',\n",
    "                        padding=\"10\",\n",
    "                        index=True,)\n",
    "\n",
    "html_B = build_table(df_Value_Cheapest, 'blue_light',\n",
    "                        padding=\"10\",\n",
    "                        index=True,\n",
    "                        border_bottom_color='black',\n",
    "                        even_color='green')   \n",
    "\n",
    "twin_table =  html_B + html_table_blue_light \n",
    "\n",
    "html = template.render(my_table = twin_table , my_2nd_table = html_B)\n",
    "\n",
    "# Plot\n",
    "ax = df_Value_Cheapest.plot.bar()\n",
    "fig = ax.get_figure()\n",
    "fig.savefig('plot.svg')\n",
    "\n",
    "\n",
    "# Save to html file\n",
    "with open('pretty_table03.html', 'w') as f:\n",
    "    f.write(html)"
   ]
  },
  {
   "attachments": {},
   "cell_type": "markdown",
   "metadata": {},
   "source": [
    "### Jinja2"
   ]
  },
  {
   "cell_type": "code",
   "execution_count": null,
   "metadata": {},
   "outputs": [],
   "source": [
    "    {{my_table_B}}\n",
    "    {{my_table}}"
   ]
  },
  {
   "cell_type": "code",
   "execution_count": null,
   "metadata": {},
   "outputs": [],
   "source": [
    "import jinja2"
   ]
  },
  {
   "cell_type": "code",
   "execution_count": null,
   "metadata": {},
   "outputs": [],
   "source": [
    "df_Value_Full.iloc[3]['Value']"
   ]
  },
  {
   "cell_type": "code",
   "execution_count": null,
   "metadata": {},
   "outputs": [],
   "source": [
    "df = df_Value_Full\n",
    "type(df)"
   ]
  },
  {
   "cell_type": "code",
   "execution_count": null,
   "metadata": {},
   "outputs": [],
   "source": [
    "\n",
    "\n",
    "# See: https://pandas.pydata.org/pandas-docs/stable/user_guide/style.html#Building-styles\n",
    "\n",
    "styler = df.style\n",
    "\n",
    "# Template handling\n",
    "env = jinja2.Environment(loader=jinja2.FileSystemLoader(searchpath=''))\n",
    "template = env.get_template('template.html')\n",
    "html = template.render(my_table = styler.to_html())\n",
    "\n",
    "\n",
    "# Plot\n",
    "ax = df.plot.bar()\n",
    "fig = ax.get_figure()\n",
    "fig.savefig('plot.svg')\n",
    "\n",
    "\n",
    "df.to_html()\n",
    "\n",
    "\n",
    "# Write the HTML file\n",
    "with open('report.html', 'w') as f:\n",
    "    f.write(html)"
   ]
  },
  {
   "attachments": {},
   "cell_type": "markdown",
   "metadata": {},
   "source": [
    "#   Charts  \n",
    "*   Valuations"
   ]
  },
  {
   "cell_type": "code",
   "execution_count": null,
   "metadata": {},
   "outputs": [],
   "source": [
    "mpl.rcParams['savefig.pad_inches'] = 0"
   ]
  },
  {
   "cell_type": "code",
   "execution_count": null,
   "metadata": {},
   "outputs": [],
   "source": [
    "fig, ax =plt.subplots() # figsize=(5,3)\n",
    "ax.margins(0,0)\n",
    "# ax.axis('tight')\n",
    "ax.axis('off')\n",
    "ax.set_title(f\"DCF Valuation < ${MAX_PRICE} \", loc='left',  fontsize=16, weight='bold', y=0.8) # pad='2.0',\n",
    "\n",
    "tbl_Value = ax.table(rowLabels=df_Value.index,\n",
    "                        rowColours=[\"azure\"] * 16,\n",
    "                        colColours=[\"palegreen\"] * 16,\n",
    "                        cellText=df_Value.values,\n",
    "                        cellLoc=\"center\",\n",
    "                        loc='center',\n",
    "                        colLabels=df_Value.columns,\n",
    "                        )\n",
    "\n",
    "tbl_Value.scale(1,1)  \n",
    "\n",
    "plt.savefig('ReportDCF\\\\tbl_Val_Cheap.png', dpi=300)\n",
    "# fig.savefig('ReportDCF\\\\tbl_Val_Cheap.svg')"
   ]
  },
  {
   "cell_type": "markdown",
   "metadata": {},
   "source": [
    "### start from here"
   ]
  },
  {
   "cell_type": "code",
   "execution_count": null,
   "metadata": {},
   "outputs": [],
   "source": [
    "sumV = df_Value['Value'].sum()\n",
    "float(sumV)\n",
    "round(sumV,2)"
   ]
  },
  {
   "cell_type": "code",
   "execution_count": null,
   "metadata": {},
   "outputs": [],
   "source": [
    "#df_Value['Value'].round(2)"
   ]
  },
  {
   "cell_type": "code",
   "execution_count": null,
   "metadata": {},
   "outputs": [],
   "source": [
    "89.795 in df_Value is float"
   ]
  },
  {
   "cell_type": "code",
   "execution_count": null,
   "metadata": {},
   "outputs": [],
   "source": [
    "dfN = df_Value[df_Value['Price'] > 150]"
   ]
  },
  {
   "cell_type": "code",
   "execution_count": null,
   "metadata": {},
   "outputs": [],
   "source": [
    "df_Value.plot(figsize=      (10,6))"
   ]
  },
  {
   "cell_type": "code",
   "execution_count": null,
   "metadata": {},
   "outputs": [],
   "source": [
    "fig, ax =plt.subplots() # figsize=(5,3) figsize=(15*cm,20*cm)\n",
    "# plt.autoscale(tight=True)\n",
    "ax.margins(0,0)\n",
    "# ax.axis('tight')\n",
    "ax.axis('off')\n",
    "ax.set_title(\"DCF Valuation\", loc='left',  fontsize=16, weight='bold', y=1) # pad='2.0',\n",
    "\n",
    "tbl_Value = ax.table(rowLabels=df_Value.index,\n",
    "                        rowColours=[\"azure\"] * 16,\n",
    "                        colColours=[\"palegreen\"] * 16,\n",
    "                        cellText=df_Value.values,\n",
    "                        cellLoc=\"center\",\n",
    "                        loc='center',\n",
    "                        colLabels=df_Value.columns,\n",
    "                        )\n",
    "\n",
    "tbl_Value.scale(1,1.5)    \n",
    "\n",
    "plt.savefig('ReportDCF\\\\tbl_Val_Full.png')"
   ]
  }
 ],
 "metadata": {
  "kernelspec": {
   "display_name": "myenv",
   "language": "python",
   "name": "python3"
  },
  "language_info": {
   "codemirror_mode": {
    "name": "ipython",
    "version": 3
   },
   "file_extension": ".py",
   "mimetype": "text/x-python",
   "name": "python",
   "nbconvert_exporter": "python",
   "pygments_lexer": "ipython3",
   "version": "3.9.15"
  },
  "orig_nbformat": 4,
  "vscode": {
   "interpreter": {
    "hash": "72cc61c9694d467099ef54652d088522f74d141b3af5eb71a7e52280ce52fefc"
   }
  }
 },
 "nbformat": 4,
 "nbformat_minor": 2
}
