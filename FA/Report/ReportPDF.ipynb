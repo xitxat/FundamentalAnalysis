{
 "cells": [
  {
   "cell_type": "code",
   "execution_count": 17,
   "metadata": {},
   "outputs": [],
   "source": [
    "from fpdf import FPDF\n",
    "\n",
    "%store -r ticker\n",
    "\n",
    "WIDTH = 210\n",
    "HEIGHT = 297\n",
    "count = 0 \n",
    " \n"
   ]
  },
  {
   "cell_type": "code",
   "execution_count": 19,
   "metadata": {},
   "outputs": [
    {
     "ename": "FileNotFoundError",
     "evalue": "[Errno 2] No such file or directory: 'tbl_Val_Full.png'",
     "output_type": "error",
     "traceback": [
      "\u001b[1;31m---------------------------------------------------------------------------\u001b[0m",
      "\u001b[1;31mFileNotFoundError\u001b[0m                         Traceback (most recent call last)",
      "Cell \u001b[1;32mIn [19], line 5\u001b[0m\n\u001b[0;32m      3\u001b[0m pdf\u001b[39m.\u001b[39mset_font(\u001b[39m'\u001b[39m\u001b[39mArial\u001b[39m\u001b[39m'\u001b[39m, \u001b[39m'\u001b[39m\u001b[39mB\u001b[39m\u001b[39m'\u001b[39m, \u001b[39m16\u001b[39m)\n\u001b[0;32m      4\u001b[0m pdf\u001b[39m.\u001b[39mcell(\u001b[39m40\u001b[39m, \u001b[39m10\u001b[39m, \u001b[39m'\u001b[39m\u001b[39mDiscounted Cash FLow Report\u001b[39m\u001b[39m'\u001b[39m)\n\u001b[1;32m----> 5\u001b[0m pdf\u001b[39m.\u001b[39;49mimage(\u001b[39m'\u001b[39;49m\u001b[39mtbl_Val_Full.png\u001b[39;49m\u001b[39m'\u001b[39;49m,\u001b[39m0\u001b[39;49m ,\u001b[39m20\u001b[39;49m, WIDTH\u001b[39m-\u001b[39;49m\u001b[39m10\u001b[39;49m )\n\u001b[0;32m      6\u001b[0m pdf\u001b[39m.\u001b[39mimage(\u001b[39m'\u001b[39m\u001b[39mtbl_Val_Cheap.png\u001b[39m\u001b[39m'\u001b[39m,\u001b[39m0\u001b[39m ,\u001b[39m100\u001b[39m, WIDTH\u001b[39m-\u001b[39m\u001b[39m10\u001b[39m )\n\u001b[0;32m      9\u001b[0m count \u001b[39m+\u001b[39m\u001b[39m=\u001b[39m\u001b[39m1\u001b[39m\n",
      "File \u001b[1;32mc:\\Users\\xitxa\\anaconda3\\envs\\myenv\\lib\\site-packages\\fpdf\\fpdf.py:150\u001b[0m, in \u001b[0;36mFPDF.check_page.<locals>.wrapper\u001b[1;34m(self, *args, **kwargs)\u001b[0m\n\u001b[0;32m    148\u001b[0m     \u001b[39mself\u001b[39m\u001b[39m.\u001b[39merror(\u001b[39m\"\u001b[39m\u001b[39mNo page open, you need to call add_page() first\u001b[39m\u001b[39m\"\u001b[39m)\n\u001b[0;32m    149\u001b[0m \u001b[39melse\u001b[39;00m:\n\u001b[1;32m--> 150\u001b[0m     \u001b[39mreturn\u001b[39;00m fn(\u001b[39mself\u001b[39m, \u001b[39m*\u001b[39margs, \u001b[39m*\u001b[39m\u001b[39m*\u001b[39mkwargs)\n",
      "File \u001b[1;32mc:\\Users\\xitxa\\anaconda3\\envs\\myenv\\lib\\site-packages\\fpdf\\fpdf.py:971\u001b[0m, in \u001b[0;36mFPDF.image\u001b[1;34m(self, name, x, y, w, h, type, link)\u001b[0m\n\u001b[0;32m    969\u001b[0m     info\u001b[39m=\u001b[39m\u001b[39mself\u001b[39m\u001b[39m.\u001b[39m_parsejpg(name)\n\u001b[0;32m    970\u001b[0m \u001b[39melif\u001b[39;00m(\u001b[39mtype\u001b[39m\u001b[39m==\u001b[39m\u001b[39m'\u001b[39m\u001b[39mpng\u001b[39m\u001b[39m'\u001b[39m):\n\u001b[1;32m--> 971\u001b[0m     info\u001b[39m=\u001b[39m\u001b[39mself\u001b[39;49m\u001b[39m.\u001b[39;49m_parsepng(name)\n\u001b[0;32m    972\u001b[0m \u001b[39melse\u001b[39;00m:\n\u001b[0;32m    973\u001b[0m     \u001b[39m#Allow for additional formats\u001b[39;00m\n\u001b[0;32m    974\u001b[0m     \u001b[39m#maybe the image is not showing the correct extension,\u001b[39;00m\n\u001b[0;32m    975\u001b[0m     \u001b[39m#but the header is OK,\u001b[39;00m\n\u001b[0;32m    976\u001b[0m     succeed_parsing \u001b[39m=\u001b[39m \u001b[39mFalse\u001b[39;00m\n",
      "File \u001b[1;32mc:\\Users\\xitxa\\anaconda3\\envs\\myenv\\lib\\site-packages\\fpdf\\fpdf.py:1772\u001b[0m, in \u001b[0;36mFPDF._parsepng\u001b[1;34m(self, name)\u001b[0m\n\u001b[0;32m   1770\u001b[0m        f \u001b[39m=\u001b[39m urlopen(name)\n\u001b[0;32m   1771\u001b[0m \u001b[39melse\u001b[39;00m:\n\u001b[1;32m-> 1772\u001b[0m     f\u001b[39m=\u001b[39m\u001b[39mopen\u001b[39;49m(name,\u001b[39m'\u001b[39;49m\u001b[39mrb\u001b[39;49m\u001b[39m'\u001b[39;49m)\n\u001b[0;32m   1773\u001b[0m \u001b[39mif\u001b[39;00m(\u001b[39mnot\u001b[39;00m f):\n\u001b[0;32m   1774\u001b[0m     \u001b[39mself\u001b[39m\u001b[39m.\u001b[39merror(\u001b[39m\"\u001b[39m\u001b[39mCan\u001b[39m\u001b[39m'\u001b[39m\u001b[39mt open image file: \u001b[39m\u001b[39m\"\u001b[39m\u001b[39m+\u001b[39mname)\n",
      "\u001b[1;31mFileNotFoundError\u001b[0m: [Errno 2] No such file or directory: 'tbl_Val_Full.png'"
     ]
    }
   ],
   "source": [
    "pdf = FPDF()\n",
    "pdf.add_page()\n",
    "pdf.set_font('Arial', 'B', 16)\n",
    "pdf.cell(40, 10, f'{ticker} Report')\n",
    "\n",
    "\n",
    "pdf.image('ch_Growth_5yr.png',0 ,20, WIDTH-10 )\n",
    "pdf.image('tbl_Growth2.png',0 ,100, WIDTH-10 )\n",
    "\n",
    "\n",
    "count +=1\n",
    "pdf.output(f'{ticker}{count}.pdf', 'F')\n",
    "\n"
   ]
  }
 ],
 "metadata": {
  "kernelspec": {
   "display_name": "myenv",
   "language": "python",
   "name": "python3"
  },
  "language_info": {
   "codemirror_mode": {
    "name": "ipython",
    "version": 3
   },
   "file_extension": ".py",
   "mimetype": "text/x-python",
   "name": "python",
   "nbconvert_exporter": "python",
   "pygments_lexer": "ipython3",
   "version": "3.9.15"
  },
  "orig_nbformat": 4,
  "vscode": {
   "interpreter": {
    "hash": "72cc61c9694d467099ef54652d088522f74d141b3af5eb71a7e52280ce52fefc"
   }
  }
 },
 "nbformat": 4,
 "nbformat_minor": 2
}
