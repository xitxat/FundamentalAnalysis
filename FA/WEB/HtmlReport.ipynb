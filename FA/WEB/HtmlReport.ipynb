{
 "cells": [
  {
   "cell_type": "code",
   "execution_count": 142,
   "metadata": {},
   "outputs": [],
   "source": [
    "import pandas as pd\n",
    "import numpy as np\n",
    "import jinja2\n"
   ]
  },
  {
   "cell_type": "code",
   "execution_count": 143,
   "metadata": {},
   "outputs": [],
   "source": [
    "%store -r df_Value_Full"
   ]
  },
  {
   "cell_type": "code",
   "execution_count": 144,
   "metadata": {},
   "outputs": [
    {
     "data": {
      "text/html": [
       "<div>\n",
       "<style scoped>\n",
       "    .dataframe tbody tr th:only-of-type {\n",
       "        vertical-align: middle;\n",
       "    }\n",
       "\n",
       "    .dataframe tbody tr th {\n",
       "        vertical-align: top;\n",
       "    }\n",
       "\n",
       "    .dataframe thead th {\n",
       "        text-align: right;\n",
       "    }\n",
       "</style>\n",
       "<table border=\"1\" class=\"dataframe\">\n",
       "  <thead>\n",
       "    <tr style=\"text-align: right;\">\n",
       "      <th></th>\n",
       "      <th>Price</th>\n",
       "      <th>Value</th>\n",
       "      <th>Discount</th>\n",
       "      <th>% Under</th>\n",
       "    </tr>\n",
       "  </thead>\n",
       "  <tbody>\n",
       "    <tr>\n",
       "      <th>NVR</th>\n",
       "      <td>6161.85</td>\n",
       "      <td>1561.66</td>\n",
       "      <td>4600.19</td>\n",
       "      <td>74.66</td>\n",
       "    </tr>\n",
       "    <tr>\n",
       "      <th>F</th>\n",
       "      <td>29.16</td>\n",
       "      <td>17.64</td>\n",
       "      <td>11.52</td>\n",
       "      <td>39.51</td>\n",
       "    </tr>\n",
       "    <tr>\n",
       "      <th>JHG</th>\n",
       "      <td>73.15</td>\n",
       "      <td>48.94</td>\n",
       "      <td>24.21</td>\n",
       "      <td>33.1</td>\n",
       "    </tr>\n",
       "    <tr>\n",
       "      <th>EAT</th>\n",
       "      <td>148.84</td>\n",
       "      <td>116.18</td>\n",
       "      <td>32.66</td>\n",
       "      <td>21.94</td>\n",
       "    </tr>\n",
       "    <tr>\n",
       "      <th>STLA</th>\n",
       "      <td>393.16</td>\n",
       "      <td>379.13</td>\n",
       "      <td>14.03</td>\n",
       "      <td>3.57</td>\n",
       "    </tr>\n",
       "  </tbody>\n",
       "</table>\n",
       "</div>"
      ],
      "text/plain": [
       "          Price    Value Discount % Under\n",
       "NVR    6161.85   1561.66  4600.19   74.66\n",
       "F        29.16     17.64    11.52   39.51\n",
       "JHG      73.15     48.94    24.21    33.1\n",
       "EAT     148.84    116.18    32.66   21.94\n",
       "STLA    393.16    379.13    14.03    3.57"
      ]
     },
     "execution_count": 144,
     "metadata": {},
     "output_type": "execute_result"
    }
   ],
   "source": [
    "df_Value_Full"
   ]
  },
  {
   "cell_type": "code",
   "execution_count": null,
   "metadata": {},
   "outputs": [],
   "source": [
    "\n",
    "\n",
    "# Sample DataFrame\n",
    "df = df_Value_Full\n",
    "\n",
    "# See: https://pandas.pydata.org/pandas-docs/stable/user_guide/style.html#Building-styles\n",
    "# def color_negative_red(val):\n",
    "#     color = 'red' if val < 10 else 'black'\n",
    "#     return f'color: {color}'\n",
    "\n",
    "# styler = df.style #.applymap(color_negative_red)\n",
    "\n",
    "# Template handling\n",
    "env = jinja2.Environment(loader=jinja2.FileSystemLoader(searchpath=''))\n",
    "template = env.get_template('template.html')\n",
    "html = template.render(myTable= styler.to_html())\n",
    "\n",
    "# Plot\n",
    "ax = df.plot.bar()\n",
    "fig = ax.get_figure()\n",
    "fig.savefig('plot.svg')\n",
    "\n",
    "# Write the HTML file\n",
    "with open('report.html', 'w') as f:\n",
    "    f.write(html)"
   ]
  },
  {
   "cell_type": "code",
   "execution_count": null,
   "metadata": {},
   "outputs": [],
   "source": [
    "df_Value_Full = df_Value_Full.astype(float)\n",
    "# df_Value_Full = round(df_Value_Full,2) \n",
    "df_Value_Full"
   ]
  },
  {
   "cell_type": "code",
   "execution_count": null,
   "metadata": {},
   "outputs": [],
   "source": [
    "<body>\n",
    "\n",
    "    <h1>My Report 04</h1>\n",
    "\n",
    "    {{ my_table }}\n",
    "\n",
    "    <img src='plot.svg' width=\"600\">\n",
    "\n",
    "</body>"
   ]
  },
  {
   "cell_type": "code",
   "execution_count": null,
   "metadata": {},
   "outputs": [],
   "source": [
    "\n",
    "\n",
    "# Sample DataFrame\n",
    "df = pd.DataFrame(np.random.randn(5, 4), columns=['one', 'two', 'three', 'four'],\n",
    "                  index=['a', 'b', 'c', 'd', 'e'])\n",
    "\n",
    "# See: https://pandas.pydata.org/pandas-docs/stable/user_guide/style.html#Building-styles\n",
    "def color_negative_red(val):\n",
    "    color = 'red' if val < 0 else 'black'\n",
    "    return f'color: {color}'\n",
    "\n",
    "styler = df.style.applymap(color_negative_red)\n",
    "\n",
    "# Template handling\n",
    "env = jinja2.Environment(loader=jinja2.FileSystemLoader(searchpath=''))\n",
    "template = env.get_template('template.html')\n",
    "# html = template.render(my_table=Styler.to_html())\n",
    "html = template.render(my_table=styler.render())\n",
    "\n",
    "# Plot\n",
    "ax = df.plot.bar()\n",
    "fig = ax.get_figure()\n",
    "fig.savefig('plot.svg')\n",
    "\n",
    "# Write the HTML file\n",
    "with open('report.html', 'w') as f:\n",
    "    f.write(html)"
   ]
  }
 ],
 "metadata": {
  "kernelspec": {
   "display_name": "myenv",
   "language": "python",
   "name": "python3"
  },
  "language_info": {
   "codemirror_mode": {
    "name": "ipython",
    "version": 3
   },
   "file_extension": ".py",
   "mimetype": "text/x-python",
   "name": "python",
   "nbconvert_exporter": "python",
   "pygments_lexer": "ipython3",
   "version": "3.9.15"
  },
  "orig_nbformat": 4,
  "vscode": {
   "interpreter": {
    "hash": "72cc61c9694d467099ef54652d088522f74d141b3af5eb71a7e52280ce52fefc"
   }
  }
 },
 "nbformat": 4,
 "nbformat_minor": 2
}
