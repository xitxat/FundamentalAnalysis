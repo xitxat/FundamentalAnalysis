{
 "cells": [
  {
   "cell_type": "code",
   "execution_count": 2,
   "metadata": {},
   "outputs": [],
   "source": [
    "import pandas as pd\n",
    "import numpy as np\n",
    "import jinja2\n",
    "from pretty_html_table import build_table"
   ]
  },
  {
   "cell_type": "code",
   "execution_count": 6,
   "metadata": {},
   "outputs": [
    {
     "name": "stdout",
     "output_type": "stream",
     "text": [
      "Report generated at: 2022-12-21 14:35:04\n"
     ]
    }
   ],
   "source": [
    "# Getting current date and time using now().\n",
    "import datetime\n",
    " \n",
    "# using now() to get current time\n",
    "current_time = datetime.datetime.now().replace(microsecond=0)\n",
    " \n",
    "# Printing value of now.\n",
    "print(\"Report generated at:\", current_time)"
   ]
  },
  {
   "cell_type": "code",
   "execution_count": 3,
   "metadata": {},
   "outputs": [],
   "source": [
    "# %store \n",
    "%store -r df_Value_Full\n",
    "%store -r df_Value_Cheapest"
   ]
  },
  {
   "cell_type": "code",
   "execution_count": null,
   "metadata": {},
   "outputs": [],
   "source": [
    "df_Value_Cheapest"
   ]
  },
  {
   "cell_type": "code",
   "execution_count": null,
   "metadata": {},
   "outputs": [],
   "source": [
    "df_Value_Full\n"
   ]
  },
  {
   "cell_type": "code",
   "execution_count": null,
   "metadata": {},
   "outputs": [],
   "source": [
    "# Template handling\n",
    "env = jinja2.Environment(loader=jinja2.FileSystemLoader(searchpath=''))\n",
    "template = env.get_template('template.html')\n",
    "\n",
    "html_table_Full = build_table(df_Value_Full, 'blue_light',\n",
    "                        padding=\"10\",\n",
    "                        index=True,)\n",
    "\n",
    "html_table_Cheap = build_table(df_Value_Cheapest, 'blue_light',\n",
    "                        padding=\"10\",\n",
    "                        index=True,\n",
    "                        border_bottom_color='black',\n",
    "                        even_color='green')   \n",
    "\n",
    "twin_table =  html_table_Cheap + html_table_Full\n",
    "tmpl_time = current_time\n",
    "max_P = MAX_PRICE\n",
    "\n",
    "html = template.render(my_table = twin_table , my_2nd_table = html_table_Cheap, \n",
    "                        tmpl_time = current_time, max_P = MAX_PRICE)\n",
    "\n",
    "# Plot\n",
    "ax = df_Value_Cheapest.plot.barh()\n",
    "fig = ax.get_figure()\n",
    "fig.savefig('IMG\\\\CheapUnderBarh.svg')\n",
    "\n",
    "\n",
    "# Save to html file\n",
    "with open('pretty_table03.html', 'w') as f:\n",
    "    f.write(html)"
   ]
  }
 ],
 "metadata": {
  "kernelspec": {
   "display_name": "myenv",
   "language": "python",
   "name": "python3"
  },
  "language_info": {
   "codemirror_mode": {
    "name": "ipython",
    "version": 3
   },
   "file_extension": ".py",
   "mimetype": "text/x-python",
   "name": "python",
   "nbconvert_exporter": "python",
   "pygments_lexer": "ipython3",
   "version": "3.9.15"
  },
  "orig_nbformat": 4,
  "vscode": {
   "interpreter": {
    "hash": "72cc61c9694d467099ef54652d088522f74d141b3af5eb71a7e52280ce52fefc"
   }
  }
 },
 "nbformat": 4,
 "nbformat_minor": 2
}
