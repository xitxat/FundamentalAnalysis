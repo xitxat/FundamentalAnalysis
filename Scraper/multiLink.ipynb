{
 "cells": [
  {
   "cell_type": "code",
   "execution_count": 2,
   "metadata": {},
   "outputs": [],
   "source": [
    "import requests\n",
    "import urllib\n",
    "from bs4 import BeautifulSoup\n",
    "from collections import Counter\n",
    "import pandas as pd\n",
    "\n",
    "%matplotlib inline\n",
    "import matplotlib.pyplot as plt\n",
    "from matplotlib import colors\n",
    "from matplotlib.colors import ListedColormap\n",
    "\n",
    "\n",
    "#ExportCharts\n",
    "from PIL import Image\n",
    "import glob\n",
    "import os\n"
   ]
  },
  {
   "cell_type": "code",
   "execution_count": 43,
   "metadata": {},
   "outputs": [],
   "source": [
    "# Variables\n",
    "\n",
    "MAX_PRICE = 150"
   ]
  },
  {
   "cell_type": "code",
   "execution_count": 3,
   "metadata": {},
   "outputs": [],
   "source": [
    "lst_url =[\n",
    "    \"https://finance.yahoo.com/most-active/\", \n",
    "    'https://www.gurufocus.com/guru/consensus-picks'\n",
    "    # \"https://finance.yahoo.com/u/yahoo-finance/watchlists/most-active-penny-stocks\",\n",
    "    # 'https://finance.yahoo.com/u/yahoo-finance/watchlists/most-active-small-cap-stocks',\n",
    "    # 'https://finance.yahoo.com/u/yahoo-finance/watchlists/stocks-with-the-highest-short-interest',\n",
    "    # 'https://finance.yahoo.com/u/yahoo-finance/watchlists/video-game-stocks',\n",
    "    # 'https://finance.yahoo.com/u/yahoo-finance/watchlists/cash-rich-companies-stocks',\n",
    "    # 'https://finance.yahoo.com/u/yahoo-finance/watchlists/most-added',\n",
    "    \n",
    "    ]\n",
    "\n"
   ]
  },
  {
   "cell_type": "code",
   "execution_count": 4,
   "metadata": {},
   "outputs": [],
   "source": [
    "lst_Merge = []\n"
   ]
  },
  {
   "cell_type": "code",
   "execution_count": 5,
   "metadata": {},
   "outputs": [
    {
     "name": "stdout",
     "output_type": "stream",
     "text": [
      "There are 98 links in this page\n",
      "There are 25 TICKERS in this page\n",
      "There are 375 links in this page\n",
      "There are 73 TICKERS in this page\n"
     ]
    }
   ],
   "source": [
    "# GET TICKERS FROM ALL CAPS\n",
    "for link in range(len(lst_url)):\n",
    "\theaders = {'User-Agent': 'Mozilla/5.0 (X11; Linux x86_64; rv:101.0) Gecko/20100101 Firefox/101.0', \"cookie\": \"CONSENT=YES+cb.20230531-04-p0.en+FX+908\"}\n",
    "\n",
    "\tresponse = requests.get(lst_url[link ], headers=headers )\n",
    "\n",
    "\tif response.status_code != 200:\n",
    "\t\tprint(\"Error fetching page\")\n",
    "\t\texit()\n",
    "\telse:\n",
    "\t\tcontent = response.content\n",
    "\t\t\n",
    "\tsoup = BeautifulSoup(response.content, 'html.parser')\n",
    "\t# All links in the page\n",
    "\n",
    "\tnb_links = len(soup.find_all('a'))\n",
    "\tprint(f\"There are {nb_links} links in this page\")\n",
    "\n",
    "\t# GET ALL Text from the LINKS\n",
    "\titems = [item.text.strip() for item in soup.select('a') ]\n",
    "\t# for i in items:\n",
    "\t# \tprint(i)\n",
    "\n",
    "\t#   REMOVE NON LINK TEXT\n",
    "\ttest_list = [item.text.strip() for item in soup.select('a') ]\n",
    "\t# print(test_list)\n",
    "\n",
    "\n",
    "\t#  FILTER FOR CAPS ONLY\n",
    "\tfor word in items:\n",
    "\t\tupperChars = True\n",
    "\t\tfor letters in word:\n",
    "\t\n",
    "\t\t\t# checking for uppercase\n",
    "\t\t\tif not letters.isupper():\n",
    "\t\t\t\tupperChars = False\n",
    "\t\t\t\tbreak\n",
    "\t\tif upperChars:\n",
    "\t\t\tlst_Merge.append(word)\n",
    "\t\n",
    "\n",
    "\t# remove blanks\n",
    "\tlst_Merge = list(filter(None, lst_Merge))\n",
    "\tnumCaps = len(lst_Merge)\n",
    "\tprint(f\"There are {numCaps} TICKERS in this page\")\n"
   ]
  },
  {
   "cell_type": "code",
   "execution_count": 6,
   "metadata": {},
   "outputs": [
    {
     "name": "stdout",
     "output_type": "stream",
     "text": [
      "There are 39 in List from Guru ['CMCSA', 'SWN', 'API', 'USA', 'BALL', 'AMZN', 'WBD', 'GOOGL', 'RIVN', 'INTC', 'EAT', 'RGLD', 'CSCO', 'META', 'T', 'STLA', 'AAPL', 'LAD', 'XOM', 'BAC', 'FAQ', 'ETF', 'NIO', 'PFE', 'VZ', 'GT', 'MSFT', 'GOOG', 'LUMN', 'UK', 'JHG', 'TSLA', 'ITW', 'BKR', 'NVDA', 'RITM', 'NVR', 'AMD', 'F']\n"
     ]
    }
   ],
   "source": [
    "# REMOVE DUPLICATES\n",
    "\n",
    "set_Merge =  set(lst_Merge)\n",
    "\n",
    "#\tConvert set to list to append 'END' below\n",
    "lst_Merge = list(set_Merge)\n",
    "\n",
    "\n",
    "print(f'There are {len(lst_Merge)} in List from Guru', lst_Merge)"
   ]
  },
  {
   "cell_type": "code",
   "execution_count": 7,
   "metadata": {},
   "outputs": [
    {
     "name": "stdout",
     "output_type": "stream",
     "text": [
      "CMCSA : Stock DCF: 118.92 | 34.49 | undervalue\n",
      "INTC : Stock DCF: 111.77 | 26.92 | undervalue\n",
      "EAT : Stock DCF: 142.59 | 35.43 | undervalue\n",
      "META : Stock DCF: 381.87 | 119.43 | undervalue\n",
      "T : Stock DCF: 187.49 | 18.49 | undervalue\n",
      "STLA : Stock DCF: 464.87 | 14.14 | undervalue\n",
      "No FAQ\n",
      "Ammended tkr:  ['CMCSA', 'API', 'BALL', 'WBD', 'RIVN', 'INTC', 'EAT', 'CSCO', 'META', 'T', 'STLA', 'LAD', 'BAC', 'ETF', 'NIO', 'PFE', 'VZ', 'GT', 'MSFT', 'GOOG', 'LUMN', 'UK', 'JHG', 'TSLA', 'ITW', 'BKR', 'NVDA', 'RITM', 'NVR', 'AMD', 'F', 'END']\n",
      "CMCSA : Stock DCF: 118.92 | 34.49 | undervalue\n",
      "WBD : Stock DCF: 573.99 | 9.91 | undervalue\n",
      "EAT : Stock DCF: 142.59 | 35.43 | undervalue\n",
      "T : Stock DCF: 187.49 | 18.49 | undervalue\n",
      "STLA : Stock DCF: 464.87 | 14.14 | undervalue\n",
      "No ETF\n",
      "Ammended tkr:  ['CMCSA', 'BALL', 'WBD', 'INTC', 'EAT', 'META', 'T', 'STLA', 'BAC', 'NIO', 'PFE', 'VZ', 'GT', 'MSFT', 'GOOG', 'LUMN', 'UK', 'JHG', 'TSLA', 'ITW', 'BKR', 'NVDA', 'RITM', 'NVR', 'AMD', 'F', 'END']\n",
      "CMCSA : Stock DCF: 118.92 | 34.49 | undervalue\n",
      "INTC : Stock DCF: 111.77 | 26.92 | undervalue\n",
      "EAT : Stock DCF: 142.59 | 35.43 | undervalue\n",
      "META : Stock DCF: 381.87 | 119.43 | undervalue\n",
      "T : Stock DCF: 187.49 | 18.49 | undervalue\n",
      "STLA : Stock DCF: 464.87 | 14.14 | undervalue\n",
      "BAC : Stock DCF: 125.63 | 31.7 | undervalue\n",
      "VZ : Stock DCF: 231.51 | 37.12 | undervalue\n",
      "No END\n",
      "Ammended tkr:  ['CMCSA', 'WBD', 'INTC', 'EAT', 'META', 'T', 'STLA', 'BAC', 'PFE', 'VZ', 'MSFT', 'LUMN', 'JHG', 'ITW', 'NVDA', 'NVR', 'F']\n",
      "Done\n",
      "Appended Length:  17\n"
     ]
    }
   ],
   "source": [
    "#   NYSE ONLY FILTER\n",
    "# Append END while not END to RES_LST\n",
    "\n",
    "tkr = '' \n",
    "\n",
    "def txtStripper(dcf):\n",
    "    dcf = dcf.replace('\\n', '')\n",
    "    dcf = dcf.strip()\n",
    "    print((tkr), ':',  (dcf))\n",
    "\n",
    "lst_Merge.append('END')\n",
    "\n",
    "#\tRemove duplicates\n",
    "# set_Merge =  set(lst_Merge)\n",
    "# print(set_Merge)\n",
    "\n",
    "while tkr != 'END':\n",
    "    try:\n",
    "        for l in lst_Merge:    \n",
    "                    \n",
    "                    tkr = l\n",
    "                    \n",
    "                    baseUrl = 'https://site.financialmodelingprep.com/discounted-cash-flow-model/{}'\n",
    "                    url = baseUrl.format(str(tkr))\n",
    "                    response = urllib.request.urlopen(url)\n",
    "                    url_contents = response.read()\n",
    "\n",
    "                    soup = BeautifulSoup(url_contents, \"html.parser\")\n",
    "                    dcf = soup.find(\"div\", {\"class\": \"global-button2\"}).text\n",
    "\n",
    "# START CLEAN UP\n",
    "                    # if 'overvalue' in dcf or  'Stock DCF: - | ' in dcf:\n",
    "                    #     lst_Merge.remove(tkr)\n",
    "                    if '- |' in dcf:\n",
    "                       lst_Merge.remove(tkr) \n",
    "                    elif 'overvalue' in dcf:\n",
    "                        lst_Merge.remove(tkr) \n",
    "                    elif dcf is None: \n",
    "                        lst_Merge.remove(tkr)\n",
    "                    else:\n",
    "                     txtStripper(dcf)\n",
    "\n",
    "\n",
    "\n",
    "    except AttributeError:\n",
    "        print('No' , (tkr) )\n",
    "        lst_Merge.remove(tkr)\n",
    "        print('Ammended tkr: ' , lst_Merge)\n",
    "\n",
    "print('Done')\n",
    "print('Appended Length: ' , len(lst_Merge))\n"
   ]
  },
  {
   "cell_type": "code",
   "execution_count": 8,
   "metadata": {},
   "outputs": [
    {
     "data": {
      "text/plain": [
       "['CMCSA',\n",
       " 'WBD',\n",
       " 'INTC',\n",
       " 'EAT',\n",
       " 'META',\n",
       " 'T',\n",
       " 'STLA',\n",
       " 'BAC',\n",
       " 'PFE',\n",
       " 'VZ',\n",
       " 'MSFT',\n",
       " 'LUMN',\n",
       " 'JHG',\n",
       " 'ITW',\n",
       " 'NVDA',\n",
       " 'NVR',\n",
       " 'F']"
      ]
     },
     "execution_count": 8,
     "metadata": {},
     "output_type": "execute_result"
    }
   ],
   "source": [
    "lst_Merge"
   ]
  },
  {
   "cell_type": "code",
   "execution_count": 9,
   "metadata": {},
   "outputs": [],
   "source": [
    "mergedTkrs = ''\n",
    "\n",
    "overVal = []\n",
    "underVal = []\n",
    "nanList = []\n",
    "\n",
    "dict_CurrentPrice = {}\n",
    "dict_Valuation = {}\n",
    "dict_Discount = {}\n",
    "dict_UnderBy = {}\n",
    "\n",
    "# tkr, $, evaluation\n",
    "#lst_Comparison = []"
   ]
  },
  {
   "cell_type": "code",
   "execution_count": 10,
   "metadata": {},
   "outputs": [],
   "source": [
    "# DEF:   remove newline and spaces\n",
    "def txtValueFilter(dcf):\n",
    "    dcf = dcf.replace('\\n', '')\n",
    "    dcf = dcf.replace(',', '')\n",
    "    dcf = dcf.strip()\n",
    "\n",
    "    if dcf is None:\n",
    "        lst_Merge.remove(mergedTkrs)\n",
    "\n",
    "    if 'Stock DCF: - | ' in dcf: # NAN values in ticker price. instead of try: block\n",
    "        nanList.append(mergedTkrs)\n",
    "\n",
    "    # elif 'overvalue' in dcf:\n",
    "    #     overVal.append(mergedTkrs) # append to list\n",
    "        \n",
    "        \n",
    "    elif 'undervalue' in dcf:\n",
    "         underVal.append(mergedTkrs) # append to list\n",
    "         \n",
    "         EvaluateDCF(dcf)\n",
    "               \n",
    "    else:\n",
    "        print('No Value Statement: code Throw')\n",
    "\n",
    "    print(mergedTkrs, ':',  (dcf))\n",
    "\n"
   ]
  },
  {
   "cell_type": "code",
   "execution_count": 11,
   "metadata": {},
   "outputs": [],
   "source": [
    "#   DEF CALCULATE VALUE DIFFERENCE\n",
    "\n",
    "def EvaluateDCF(tstStr):\n",
    "    tstStr = tstStr.replace('Stock DCF:', '')\n",
    "    tstStr = tstStr.replace('|', '-', 1)\n",
    "    tstStr = tstStr.replace('|', '')\n",
    "    tstStr = tstStr.replace('overvalue', '')\n",
    "    tstStr = tstStr.replace('undervalue', '')\n",
    "    \n",
    "    tstStr = tstStr.split('-')\n",
    "\n",
    "    eval = float(tstStr[0]) - float(tstStr[1])\n",
    "    eval = (round(eval, 2))\n",
    "\n",
    "    currentPrice =  float(tstStr[0])\n",
    "    valuation = float(tstStr[1])\n",
    "    valuation = round(valuation,2)\n",
    "    discount = currentPrice - valuation\n",
    "    discount = round(discount,2)\n",
    "    underBy = round((valuation / currentPrice) * 100, 2)\n",
    "\n",
    "    dict_CurrentPrice.update( {mergedTkrs : tstStr[0]})\n",
    "    dict_Valuation.update({mergedTkrs : discount})      #NB discount/valuation SWAP\n",
    "    dict_Discount.update({mergedTkrs : valuation})\n",
    "    dict_UnderBy.update({mergedTkrs : underBy})\n",
    "\n",
    "    #lst_Comparison.append(mergedTkrs, currentPrice, eval )\n",
    "    \n",
    "    print (mergedTkrs, 'Undervalued by: $', valuation)\n"
   ]
  },
  {
   "cell_type": "code",
   "execution_count": 12,
   "metadata": {},
   "outputs": [
    {
     "name": "stdout",
     "output_type": "stream",
     "text": [
      "error checker:  CMCSA \n",
      "                Stock DCF: 118.92 | 34.49 | undervalue\n",
      "            \n",
      "CMCSA Undervalued by: $ 34.49\n",
      "CMCSA : Stock DCF: 118.92 | 34.49 | undervalue\n",
      "error checker:  WBD \n",
      "                Stock DCF: 573.99 | 9.91 | undervalue\n",
      "            \n",
      "WBD Undervalued by: $ 9.91\n",
      "WBD : Stock DCF: 573.99 | 9.91 | undervalue\n",
      "error checker:  INTC \n",
      "                Stock DCF: 111.77 | 26.92 | undervalue\n",
      "            \n",
      "INTC Undervalued by: $ 26.92\n",
      "INTC : Stock DCF: 111.77 | 26.92 | undervalue\n",
      "error checker:  EAT \n",
      "                Stock DCF: 142.59 | 35.43 | undervalue\n",
      "            \n",
      "EAT Undervalued by: $ 35.43\n",
      "EAT : Stock DCF: 142.59 | 35.43 | undervalue\n",
      "error checker:  META \n",
      "                Stock DCF: 381.87 | 119.43 | undervalue\n",
      "            \n",
      "META Undervalued by: $ 119.43\n",
      "META : Stock DCF: 381.87 | 119.43 | undervalue\n",
      "error checker:  T \n",
      "                Stock DCF: 187.49 | 18.49 | undervalue\n",
      "            \n",
      "T Undervalued by: $ 18.49\n",
      "T : Stock DCF: 187.49 | 18.49 | undervalue\n",
      "error checker:  STLA \n",
      "                Stock DCF: 464.87 | 14.14 | undervalue\n",
      "            \n",
      "STLA Undervalued by: $ 14.14\n",
      "STLA : Stock DCF: 464.87 | 14.14 | undervalue\n",
      "error checker:  BAC \n",
      "                Stock DCF: 125.63 | 31.7 | undervalue\n",
      "            \n",
      "BAC Undervalued by: $ 31.7\n",
      "BAC : Stock DCF: 125.63 | 31.7 | undervalue\n",
      "error checker:  PFE \n",
      "                Stock DCF: 239.82 | 51.4 | undervalue\n",
      "            \n",
      "PFE Undervalued by: $ 51.4\n",
      "PFE : Stock DCF: 239.82 | 51.4 | undervalue\n",
      "error checker:  VZ \n",
      "                Stock DCF: 231.51 | 37.12 | undervalue\n",
      "            \n",
      "VZ Undervalued by: $ 37.12\n",
      "VZ : Stock DCF: 231.51 | 37.12 | undervalue\n",
      "error checker:  MSFT \n",
      "                Stock DCF: 209.49 | 244.69 | overvalue\n",
      "            \n",
      "No Value Statement: code Throw\n",
      "MSFT : Stock DCF: 209.49 | 244.69 | overvalue\n",
      "error checker:  LUMN \n",
      "                Stock DCF: 56.01 | 5.41 | undervalue\n",
      "            \n",
      "LUMN Undervalued by: $ 5.41\n",
      "LUMN : Stock DCF: 56.01 | 5.41 | undervalue\n",
      "error checker:  JHG \n",
      "                Stock DCF: 74.99 | 23.96 | undervalue\n",
      "            \n",
      "JHG Undervalued by: $ 23.96\n",
      "JHG : Stock DCF: 74.99 | 23.96 | undervalue\n",
      "error checker:  ITW \n",
      "                Stock DCF: 114.11 | 216.79 | overvalue\n",
      "            \n",
      "No Value Statement: code Throw\n",
      "ITW : Stock DCF: 114.11 | 216.79 | overvalue\n",
      "error checker:  NVDA \n",
      "                Stock DCF: 87.62 | 165.71 | overvalue\n",
      "            \n",
      "No Value Statement: code Throw\n",
      "NVDA : Stock DCF: 87.62 | 165.71 | overvalue\n",
      "error checker:  NVR \n",
      "                Stock DCF: 6,347.34 | 4815.88 | undervalue\n",
      "            \n",
      "NVR Undervalued by: $ 4815.88\n",
      "NVR : Stock DCF: 6347.34 | 4815.88 | undervalue\n",
      "error checker:  F \n",
      "                Stock DCF: 29.16 | 12.12 | undervalue\n",
      "            \n",
      "F Undervalued by: $ 12.12\n",
      "F : Stock DCF: 29.16 | 12.12 | undervalue\n",
      "CALC DONE. \n"
     ]
    }
   ],
   "source": [
    "#   CALC LOOP\n",
    "\n",
    "for mergedTkrs in lst_Merge:\n",
    "    try:\n",
    "        baseUrl = 'https://site.financialmodelingprep.com/discounted-cash-flow-model/{}'\n",
    "        url = baseUrl.format(str(mergedTkrs))\n",
    "        response = urllib.request.urlopen(url)\n",
    "        url_contents = response.read()\n",
    "\n",
    "        soup = BeautifulSoup(url_contents, \"html.parser\")\n",
    "        dcf = soup.find(\"div\", {\"class\": \"global-button2\"}).text\n",
    "\n",
    "        print('error checker: ',mergedTkrs, dcf)\n",
    "\n",
    "        txtValueFilter(dcf) \n",
    "    \n",
    "    except AttributeError:\n",
    "        print('No text for ' , (mergedTkrs) )\n",
    "        lst_Merge.remove(mergedTkrs)\n",
    "\n",
    "    except KeyError: 'END'\n",
    "\n",
    "print('CALC DONE. ')\n",
    "\n"
   ]
  },
  {
   "cell_type": "code",
   "execution_count": 13,
   "metadata": {},
   "outputs": [
    {
     "data": {
      "text/plain": [
       "{'CMCSA': 29.0,\n",
       " 'WBD': 1.73,\n",
       " 'INTC': 24.09,\n",
       " 'EAT': 24.85,\n",
       " 'META': 31.28,\n",
       " 'T': 9.86,\n",
       " 'STLA': 3.04,\n",
       " 'BAC': 25.23,\n",
       " 'PFE': 21.43,\n",
       " 'VZ': 16.03,\n",
       " 'LUMN': 9.66,\n",
       " 'JHG': 31.95,\n",
       " 'NVR': 75.87,\n",
       " 'F': 41.56}"
      ]
     },
     "execution_count": 13,
     "metadata": {},
     "output_type": "execute_result"
    }
   ],
   "source": [
    "dict_UnderBy"
   ]
  },
  {
   "cell_type": "code",
   "execution_count": 14,
   "metadata": {},
   "outputs": [
    {
     "data": {
      "text/plain": [
       "['CMCSA',\n",
       " 'WBD',\n",
       " 'INTC',\n",
       " 'EAT',\n",
       " 'META',\n",
       " 'T',\n",
       " 'STLA',\n",
       " 'BAC',\n",
       " 'PFE',\n",
       " 'VZ',\n",
       " 'LUMN',\n",
       " 'JHG',\n",
       " 'NVR',\n",
       " 'F']"
      ]
     },
     "execution_count": 14,
     "metadata": {},
     "output_type": "execute_result"
    }
   ],
   "source": [
    "underVal\n"
   ]
  },
  {
   "cell_type": "code",
   "execution_count": 15,
   "metadata": {},
   "outputs": [
    {
     "data": {
      "text/plain": [
       "{'CMCSA': ' 118.92 ',\n",
       " 'WBD': ' 573.99 ',\n",
       " 'INTC': ' 111.77 ',\n",
       " 'EAT': ' 142.59 ',\n",
       " 'META': ' 381.87 ',\n",
       " 'T': ' 187.49 ',\n",
       " 'STLA': ' 464.87 ',\n",
       " 'BAC': ' 125.63 ',\n",
       " 'PFE': ' 239.82 ',\n",
       " 'VZ': ' 231.51 ',\n",
       " 'LUMN': ' 56.01 ',\n",
       " 'JHG': ' 74.99 ',\n",
       " 'NVR': ' 6347.34 ',\n",
       " 'F': ' 29.16 '}"
      ]
     },
     "execution_count": 15,
     "metadata": {},
     "output_type": "execute_result"
    }
   ],
   "source": [
    "\n",
    "dict_CurrentPrice"
   ]
  },
  {
   "cell_type": "code",
   "execution_count": 16,
   "metadata": {},
   "outputs": [
    {
     "data": {
      "text/plain": [
       "{'CMCSA': 84.43,\n",
       " 'WBD': 564.08,\n",
       " 'INTC': 84.85,\n",
       " 'EAT': 107.16,\n",
       " 'META': 262.44,\n",
       " 'T': 169.0,\n",
       " 'STLA': 450.73,\n",
       " 'BAC': 93.93,\n",
       " 'PFE': 188.42,\n",
       " 'VZ': 194.39,\n",
       " 'LUMN': 50.6,\n",
       " 'JHG': 51.03,\n",
       " 'NVR': 1531.46,\n",
       " 'F': 17.04}"
      ]
     },
     "execution_count": 16,
     "metadata": {},
     "output_type": "execute_result"
    }
   ],
   "source": [
    "# v = dict_Valuation.values()\n",
    "# float([x for x in v][0])\n",
    "dict_Valuation\n",
    "# round(dict_Valuation.values,2)"
   ]
  },
  {
   "cell_type": "code",
   "execution_count": 17,
   "metadata": {},
   "outputs": [
    {
     "data": {
      "text/plain": [
       "{'CMCSA': 34.49,\n",
       " 'WBD': 9.91,\n",
       " 'INTC': 26.92,\n",
       " 'EAT': 35.43,\n",
       " 'META': 119.43,\n",
       " 'T': 18.49,\n",
       " 'STLA': 14.14,\n",
       " 'BAC': 31.7,\n",
       " 'PFE': 51.4,\n",
       " 'VZ': 37.12,\n",
       " 'LUMN': 5.41,\n",
       " 'JHG': 23.96,\n",
       " 'NVR': 4815.88,\n",
       " 'F': 12.12}"
      ]
     },
     "execution_count": 17,
     "metadata": {},
     "output_type": "execute_result"
    }
   ],
   "source": [
    "\n",
    "dict_Discount"
   ]
  },
  {
   "cell_type": "code",
   "execution_count": 37,
   "metadata": {},
   "outputs": [
    {
     "data": {
      "text/html": [
       "<div>\n",
       "<style scoped>\n",
       "    .dataframe tbody tr th:only-of-type {\n",
       "        vertical-align: middle;\n",
       "    }\n",
       "\n",
       "    .dataframe tbody tr th {\n",
       "        vertical-align: top;\n",
       "    }\n",
       "\n",
       "    .dataframe thead th {\n",
       "        text-align: right;\n",
       "    }\n",
       "</style>\n",
       "<table border=\"1\" class=\"dataframe\">\n",
       "  <thead>\n",
       "    <tr style=\"text-align: right;\">\n",
       "      <th></th>\n",
       "      <th>Price</th>\n",
       "      <th>Value</th>\n",
       "      <th>Discount</th>\n",
       "      <th>PctUnder</th>\n",
       "    </tr>\n",
       "  </thead>\n",
       "  <tbody>\n",
       "    <tr>\n",
       "      <th>NVR</th>\n",
       "      <td>6347.34</td>\n",
       "      <td>1531.46</td>\n",
       "      <td>4815.88</td>\n",
       "      <td>75.87</td>\n",
       "    </tr>\n",
       "    <tr>\n",
       "      <th>F</th>\n",
       "      <td>29.16</td>\n",
       "      <td>17.04</td>\n",
       "      <td>12.12</td>\n",
       "      <td>41.56</td>\n",
       "    </tr>\n",
       "    <tr>\n",
       "      <th>JHG</th>\n",
       "      <td>74.99</td>\n",
       "      <td>51.03</td>\n",
       "      <td>23.96</td>\n",
       "      <td>31.95</td>\n",
       "    </tr>\n",
       "    <tr>\n",
       "      <th>META</th>\n",
       "      <td>381.87</td>\n",
       "      <td>262.44</td>\n",
       "      <td>119.43</td>\n",
       "      <td>31.28</td>\n",
       "    </tr>\n",
       "    <tr>\n",
       "      <th>CMCSA</th>\n",
       "      <td>118.92</td>\n",
       "      <td>84.43</td>\n",
       "      <td>34.49</td>\n",
       "      <td>29.0</td>\n",
       "    </tr>\n",
       "    <tr>\n",
       "      <th>BAC</th>\n",
       "      <td>125.63</td>\n",
       "      <td>93.93</td>\n",
       "      <td>31.7</td>\n",
       "      <td>25.23</td>\n",
       "    </tr>\n",
       "    <tr>\n",
       "      <th>EAT</th>\n",
       "      <td>142.59</td>\n",
       "      <td>107.16</td>\n",
       "      <td>35.43</td>\n",
       "      <td>24.85</td>\n",
       "    </tr>\n",
       "    <tr>\n",
       "      <th>INTC</th>\n",
       "      <td>111.77</td>\n",
       "      <td>84.85</td>\n",
       "      <td>26.92</td>\n",
       "      <td>24.09</td>\n",
       "    </tr>\n",
       "    <tr>\n",
       "      <th>PFE</th>\n",
       "      <td>239.82</td>\n",
       "      <td>188.42</td>\n",
       "      <td>51.4</td>\n",
       "      <td>21.43</td>\n",
       "    </tr>\n",
       "    <tr>\n",
       "      <th>VZ</th>\n",
       "      <td>231.51</td>\n",
       "      <td>194.39</td>\n",
       "      <td>37.12</td>\n",
       "      <td>16.03</td>\n",
       "    </tr>\n",
       "    <tr>\n",
       "      <th>T</th>\n",
       "      <td>187.49</td>\n",
       "      <td>169.0</td>\n",
       "      <td>18.49</td>\n",
       "      <td>9.86</td>\n",
       "    </tr>\n",
       "    <tr>\n",
       "      <th>LUMN</th>\n",
       "      <td>56.01</td>\n",
       "      <td>50.6</td>\n",
       "      <td>5.41</td>\n",
       "      <td>9.66</td>\n",
       "    </tr>\n",
       "    <tr>\n",
       "      <th>STLA</th>\n",
       "      <td>464.87</td>\n",
       "      <td>450.73</td>\n",
       "      <td>14.14</td>\n",
       "      <td>3.04</td>\n",
       "    </tr>\n",
       "    <tr>\n",
       "      <th>WBD</th>\n",
       "      <td>573.99</td>\n",
       "      <td>564.08</td>\n",
       "      <td>9.91</td>\n",
       "      <td>1.73</td>\n",
       "    </tr>\n",
       "  </tbody>\n",
       "</table>\n",
       "</div>"
      ],
      "text/plain": [
       "           Price    Value Discount PctUnder\n",
       "NVR     6347.34   1531.46  4815.88    75.87\n",
       "F         29.16     17.04    12.12    41.56\n",
       "JHG       74.99     51.03    23.96    31.95\n",
       "META     381.87    262.44   119.43    31.28\n",
       "CMCSA    118.92     84.43    34.49     29.0\n",
       "BAC      125.63     93.93     31.7    25.23\n",
       "EAT      142.59    107.16    35.43    24.85\n",
       "INTC     111.77     84.85    26.92    24.09\n",
       "PFE      239.82    188.42     51.4    21.43\n",
       "VZ       231.51    194.39    37.12    16.03\n",
       "T        187.49     169.0    18.49     9.86\n",
       "LUMN      56.01      50.6     5.41     9.66\n",
       "STLA     464.87    450.73    14.14     3.04\n",
       "WBD      573.99    564.08     9.91     1.73"
      ]
     },
     "execution_count": 37,
     "metadata": {},
     "output_type": "execute_result"
    }
   ],
   "source": [
    "df_Value = pd.DataFrame([dict_CurrentPrice, dict_Valuation, dict_Discount, dict_UnderBy]).T\n",
    "df_Value.columns = ['Price', 'Value', 'Discount', 'PctUnder']\n",
    "df_Value = df_Value.sort_values(by=['PctUnder'], ascending=False ) # \n",
    "df_Value"
   ]
  },
  {
   "attachments": {},
   "cell_type": "markdown",
   "metadata": {},
   "source": [
    "#   Charts  \n",
    "*   Valuations"
   ]
  },
  {
   "cell_type": "code",
   "execution_count": 45,
   "metadata": {},
   "outputs": [
    {
     "ename": "FileNotFoundError",
     "evalue": "[Errno 2] No such file or directory: 'ReportDCF\\\\tbl_Growth.png'",
     "output_type": "error",
     "traceback": [
      "\u001b[1;31m---------------------------------------------------------------------------\u001b[0m",
      "\u001b[1;31mFileNotFoundError\u001b[0m                         Traceback (most recent call last)",
      "Cell \u001b[1;32mIn [45], line 24\u001b[0m\n\u001b[0;32m     21\u001b[0m tbl_Value\u001b[39m.\u001b[39mscale(\u001b[39m1.8\u001b[39m,\u001b[39m1.5\u001b[39m)    \u001b[39m# make table a little bit larger\u001b[39;00m\n\u001b[0;32m     22\u001b[0m                             \u001b[39m# footer_text = 'July 28, 2020' \u001b[39;00m\n\u001b[1;32m---> 24\u001b[0m plt\u001b[39m.\u001b[39;49msavefig(\u001b[39m'\u001b[39;49m\u001b[39mReportDCF\u001b[39;49m\u001b[39m\\\\\u001b[39;49;00m\u001b[39mtbl_Growth.png\u001b[39;49m\u001b[39m'\u001b[39;49m)\n",
      "File \u001b[1;32mc:\\Users\\xitxa\\anaconda3\\envs\\myenv\\lib\\site-packages\\matplotlib\\pyplot.py:977\u001b[0m, in \u001b[0;36msavefig\u001b[1;34m(*args, **kwargs)\u001b[0m\n\u001b[0;32m    974\u001b[0m \u001b[39m@_copy_docstring_and_deprecators\u001b[39m(Figure\u001b[39m.\u001b[39msavefig)\n\u001b[0;32m    975\u001b[0m \u001b[39mdef\u001b[39;00m \u001b[39msavefig\u001b[39m(\u001b[39m*\u001b[39margs, \u001b[39m*\u001b[39m\u001b[39m*\u001b[39mkwargs):\n\u001b[0;32m    976\u001b[0m     fig \u001b[39m=\u001b[39m gcf()\n\u001b[1;32m--> 977\u001b[0m     res \u001b[39m=\u001b[39m fig\u001b[39m.\u001b[39msavefig(\u001b[39m*\u001b[39margs, \u001b[39m*\u001b[39m\u001b[39m*\u001b[39mkwargs)\n\u001b[0;32m    978\u001b[0m     fig\u001b[39m.\u001b[39mcanvas\u001b[39m.\u001b[39mdraw_idle()   \u001b[39m# need this if 'transparent=True' to reset colors\u001b[39;00m\n\u001b[0;32m    979\u001b[0m     \u001b[39mreturn\u001b[39;00m res\n",
      "File \u001b[1;32mc:\\Users\\xitxa\\anaconda3\\envs\\myenv\\lib\\site-packages\\matplotlib\\figure.py:3058\u001b[0m, in \u001b[0;36mFigure.savefig\u001b[1;34m(self, fname, transparent, **kwargs)\u001b[0m\n\u001b[0;32m   3054\u001b[0m     \u001b[39mfor\u001b[39;00m ax \u001b[39min\u001b[39;00m \u001b[39mself\u001b[39m\u001b[39m.\u001b[39maxes:\n\u001b[0;32m   3055\u001b[0m         stack\u001b[39m.\u001b[39menter_context(\n\u001b[0;32m   3056\u001b[0m             ax\u001b[39m.\u001b[39mpatch\u001b[39m.\u001b[39m_cm_set(facecolor\u001b[39m=\u001b[39m\u001b[39m'\u001b[39m\u001b[39mnone\u001b[39m\u001b[39m'\u001b[39m, edgecolor\u001b[39m=\u001b[39m\u001b[39m'\u001b[39m\u001b[39mnone\u001b[39m\u001b[39m'\u001b[39m))\n\u001b[1;32m-> 3058\u001b[0m \u001b[39mself\u001b[39m\u001b[39m.\u001b[39mcanvas\u001b[39m.\u001b[39mprint_figure(fname, \u001b[39m*\u001b[39m\u001b[39m*\u001b[39mkwargs)\n",
      "File \u001b[1;32mc:\\Users\\xitxa\\anaconda3\\envs\\myenv\\lib\\site-packages\\matplotlib\\backend_bases.py:2319\u001b[0m, in \u001b[0;36mFigureCanvasBase.print_figure\u001b[1;34m(self, filename, dpi, facecolor, edgecolor, orientation, format, bbox_inches, pad_inches, bbox_extra_artists, backend, **kwargs)\u001b[0m\n\u001b[0;32m   2315\u001b[0m \u001b[39mtry\u001b[39;00m:\n\u001b[0;32m   2316\u001b[0m     \u001b[39m# _get_renderer may change the figure dpi (as vector formats\u001b[39;00m\n\u001b[0;32m   2317\u001b[0m     \u001b[39m# force the figure dpi to 72), so we need to set it again here.\u001b[39;00m\n\u001b[0;32m   2318\u001b[0m     \u001b[39mwith\u001b[39;00m cbook\u001b[39m.\u001b[39m_setattr_cm(\u001b[39mself\u001b[39m\u001b[39m.\u001b[39mfigure, dpi\u001b[39m=\u001b[39mdpi):\n\u001b[1;32m-> 2319\u001b[0m         result \u001b[39m=\u001b[39m print_method(\n\u001b[0;32m   2320\u001b[0m             filename,\n\u001b[0;32m   2321\u001b[0m             facecolor\u001b[39m=\u001b[39mfacecolor,\n\u001b[0;32m   2322\u001b[0m             edgecolor\u001b[39m=\u001b[39medgecolor,\n\u001b[0;32m   2323\u001b[0m             orientation\u001b[39m=\u001b[39morientation,\n\u001b[0;32m   2324\u001b[0m             bbox_inches_restore\u001b[39m=\u001b[39m_bbox_inches_restore,\n\u001b[0;32m   2325\u001b[0m             \u001b[39m*\u001b[39m\u001b[39m*\u001b[39mkwargs)\n\u001b[0;32m   2326\u001b[0m \u001b[39mfinally\u001b[39;00m:\n\u001b[0;32m   2327\u001b[0m     \u001b[39mif\u001b[39;00m bbox_inches \u001b[39mand\u001b[39;00m restore_bbox:\n",
      "File \u001b[1;32mc:\\Users\\xitxa\\anaconda3\\envs\\myenv\\lib\\site-packages\\matplotlib\\backend_bases.py:1648\u001b[0m, in \u001b[0;36m_check_savefig_extra_args.<locals>.wrapper\u001b[1;34m(*args, **kwargs)\u001b[0m\n\u001b[0;32m   1640\u001b[0m     _api\u001b[39m.\u001b[39mwarn_deprecated(\n\u001b[0;32m   1641\u001b[0m         \u001b[39m'\u001b[39m\u001b[39m3.3\u001b[39m\u001b[39m'\u001b[39m, name\u001b[39m=\u001b[39mname, removal\u001b[39m=\u001b[39m\u001b[39m'\u001b[39m\u001b[39m3.6\u001b[39m\u001b[39m'\u001b[39m,\n\u001b[0;32m   1642\u001b[0m         message\u001b[39m=\u001b[39m\u001b[39m'\u001b[39m\u001b[39m%(name)s\u001b[39;00m\u001b[39m() got unexpected keyword argument \u001b[39m\u001b[39m\"\u001b[39m\u001b[39m'\u001b[39m\n\u001b[0;32m   1643\u001b[0m                 \u001b[39m+\u001b[39m arg \u001b[39m+\u001b[39m \u001b[39m'\u001b[39m\u001b[39m\"\u001b[39m\u001b[39m which is no longer supported as of \u001b[39m\u001b[39m'\u001b[39m\n\u001b[0;32m   1644\u001b[0m                 \u001b[39m'\u001b[39m\u001b[39m%(since)s\u001b[39;00m\u001b[39m and will become an error \u001b[39m\u001b[39m'\u001b[39m\n\u001b[0;32m   1645\u001b[0m                 \u001b[39m'\u001b[39m\u001b[39m%(removal)s\u001b[39;00m\u001b[39m'\u001b[39m)\n\u001b[0;32m   1646\u001b[0m     kwargs\u001b[39m.\u001b[39mpop(arg)\n\u001b[1;32m-> 1648\u001b[0m \u001b[39mreturn\u001b[39;00m func(\u001b[39m*\u001b[39margs, \u001b[39m*\u001b[39m\u001b[39m*\u001b[39mkwargs)\n",
      "File \u001b[1;32mc:\\Users\\xitxa\\anaconda3\\envs\\myenv\\lib\\site-packages\\matplotlib\\_api\\deprecation.py:415\u001b[0m, in \u001b[0;36mdelete_parameter.<locals>.wrapper\u001b[1;34m(*inner_args, **inner_kwargs)\u001b[0m\n\u001b[0;32m    405\u001b[0m     deprecation_addendum \u001b[39m=\u001b[39m (\n\u001b[0;32m    406\u001b[0m         \u001b[39mf\u001b[39m\u001b[39m\"\u001b[39m\u001b[39mIf any parameter follows \u001b[39m\u001b[39m{\u001b[39;00mname\u001b[39m!r}\u001b[39;00m\u001b[39m, they should be passed as \u001b[39m\u001b[39m\"\u001b[39m\n\u001b[0;32m    407\u001b[0m         \u001b[39mf\u001b[39m\u001b[39m\"\u001b[39m\u001b[39mkeyword, not positionally.\u001b[39m\u001b[39m\"\u001b[39m)\n\u001b[0;32m    408\u001b[0m     warn_deprecated(\n\u001b[0;32m    409\u001b[0m         since,\n\u001b[0;32m    410\u001b[0m         name\u001b[39m=\u001b[39m\u001b[39mrepr\u001b[39m(name),\n\u001b[1;32m   (...)\u001b[0m\n\u001b[0;32m    413\u001b[0m                  \u001b[39melse\u001b[39;00m deprecation_addendum,\n\u001b[0;32m    414\u001b[0m         \u001b[39m*\u001b[39m\u001b[39m*\u001b[39mkwargs)\n\u001b[1;32m--> 415\u001b[0m \u001b[39mreturn\u001b[39;00m func(\u001b[39m*\u001b[39minner_args, \u001b[39m*\u001b[39m\u001b[39m*\u001b[39minner_kwargs)\n",
      "File \u001b[1;32mc:\\Users\\xitxa\\anaconda3\\envs\\myenv\\lib\\site-packages\\matplotlib\\backends\\backend_agg.py:541\u001b[0m, in \u001b[0;36mFigureCanvasAgg.print_png\u001b[1;34m(self, filename_or_obj, metadata, pil_kwargs, *args)\u001b[0m\n\u001b[0;32m    494\u001b[0m \u001b[39m\"\"\"\u001b[39;00m\n\u001b[0;32m    495\u001b[0m \u001b[39mWrite the figure to a PNG file.\u001b[39;00m\n\u001b[0;32m    496\u001b[0m \n\u001b[1;32m   (...)\u001b[0m\n\u001b[0;32m    538\u001b[0m \u001b[39m    *metadata*, including the default 'Software' key.\u001b[39;00m\n\u001b[0;32m    539\u001b[0m \u001b[39m\"\"\"\u001b[39;00m\n\u001b[0;32m    540\u001b[0m FigureCanvasAgg\u001b[39m.\u001b[39mdraw(\u001b[39mself\u001b[39m)\n\u001b[1;32m--> 541\u001b[0m mpl\u001b[39m.\u001b[39;49mimage\u001b[39m.\u001b[39;49mimsave(\n\u001b[0;32m    542\u001b[0m     filename_or_obj, \u001b[39mself\u001b[39;49m\u001b[39m.\u001b[39;49mbuffer_rgba(), \u001b[39mformat\u001b[39;49m\u001b[39m=\u001b[39;49m\u001b[39m\"\u001b[39;49m\u001b[39mpng\u001b[39;49m\u001b[39m\"\u001b[39;49m, origin\u001b[39m=\u001b[39;49m\u001b[39m\"\u001b[39;49m\u001b[39mupper\u001b[39;49m\u001b[39m\"\u001b[39;49m,\n\u001b[0;32m    543\u001b[0m     dpi\u001b[39m=\u001b[39;49m\u001b[39mself\u001b[39;49m\u001b[39m.\u001b[39;49mfigure\u001b[39m.\u001b[39;49mdpi, metadata\u001b[39m=\u001b[39;49mmetadata, pil_kwargs\u001b[39m=\u001b[39;49mpil_kwargs)\n",
      "File \u001b[1;32mc:\\Users\\xitxa\\anaconda3\\envs\\myenv\\lib\\site-packages\\matplotlib\\image.py:1675\u001b[0m, in \u001b[0;36mimsave\u001b[1;34m(fname, arr, vmin, vmax, cmap, format, origin, dpi, metadata, pil_kwargs)\u001b[0m\n\u001b[0;32m   1673\u001b[0m pil_kwargs\u001b[39m.\u001b[39msetdefault(\u001b[39m\"\u001b[39m\u001b[39mformat\u001b[39m\u001b[39m\"\u001b[39m, \u001b[39mformat\u001b[39m)\n\u001b[0;32m   1674\u001b[0m pil_kwargs\u001b[39m.\u001b[39msetdefault(\u001b[39m\"\u001b[39m\u001b[39mdpi\u001b[39m\u001b[39m\"\u001b[39m, (dpi, dpi))\n\u001b[1;32m-> 1675\u001b[0m image\u001b[39m.\u001b[39msave(fname, \u001b[39m*\u001b[39m\u001b[39m*\u001b[39mpil_kwargs)\n",
      "File \u001b[1;32mc:\\Users\\xitxa\\anaconda3\\envs\\myenv\\lib\\site-packages\\PIL\\Image.py:2317\u001b[0m, in \u001b[0;36mImage.save\u001b[1;34m(self, fp, format, **params)\u001b[0m\n\u001b[0;32m   2315\u001b[0m         fp \u001b[39m=\u001b[39m builtins\u001b[39m.\u001b[39mopen(filename, \u001b[39m\"\u001b[39m\u001b[39mr+b\u001b[39m\u001b[39m\"\u001b[39m)\n\u001b[0;32m   2316\u001b[0m     \u001b[39melse\u001b[39;00m:\n\u001b[1;32m-> 2317\u001b[0m         fp \u001b[39m=\u001b[39m builtins\u001b[39m.\u001b[39;49mopen(filename, \u001b[39m\"\u001b[39;49m\u001b[39mw+b\u001b[39;49m\u001b[39m\"\u001b[39;49m)\n\u001b[0;32m   2319\u001b[0m \u001b[39mtry\u001b[39;00m:\n\u001b[0;32m   2320\u001b[0m     save_handler(\u001b[39mself\u001b[39m, fp, filename)\n",
      "\u001b[1;31mFileNotFoundError\u001b[0m: [Errno 2] No such file or directory: 'ReportDCF\\\\tbl_Growth.png'"
     ]
    },
    {
     "data": {
      "image/png": "[encoded data removed]",
      "text/plain": [
       "<Figure size 500x300 with 1 Axes>"
      ]
     },
     "metadata": {},
     "output_type": "display_data"
    }
   ],
   "source": [
    "fig, ax =plt.subplots(figsize=(5,3))\n",
    "\n",
    "ax.axis('tight')\n",
    "ax.axis('off')\n",
    "ax.set_title(\"DCF Valuation\", loc='left',  fontsize=16, weight='bold', y=1.6) # pad='2.0',\n",
    "\n",
    "#Colors\n",
    "red_green = ListedColormap(['red', '#70e000', '#38b000'])\n",
    "bounds = [-20, 0, 1, 100]\n",
    "norm = colors.BoundaryNorm(bounds, red_green.N)\n",
    "\n",
    "tbl_Value = ax.table(rowLabels=df_Value.index,\n",
    "                        rowColours=[\"azure\"] * 16,\n",
    "                        colColours=[\"palegreen\"] * 16,\n",
    "                        cellText=df_Value.values,\n",
    "                        cellLoc=\"center\",\n",
    "                        loc='center',\n",
    "                        colLabels=df_Value.columns,\n",
    "                        )\n",
    "\n",
    "tbl_Value.scale(1.8,1.5)    # make table a little bit larger\n",
    "                            # footer_text = 'July 28, 2020' \n",
    "\n",
    "# plt.savefig('ReportDCF\\\\tbl_Growth.png')"
   ]
  },
  {
   "attachments": {},
   "cell_type": "markdown",
   "metadata": {},
   "source": [
    "# Price Filter"
   ]
  },
  {
   "cell_type": "code",
   "execution_count": 39,
   "metadata": {},
   "outputs": [],
   "source": [
    "df_Value = df_Value.astype(float)"
   ]
  },
  {
   "cell_type": "code",
   "execution_count": 40,
   "metadata": {},
   "outputs": [
    {
     "data": {
      "text/plain": [
       "Price       float64\n",
       "Value       float64\n",
       "Discount    float64\n",
       "PctUnder    float64\n",
       "dtype: object"
      ]
     },
     "execution_count": 40,
     "metadata": {},
     "output_type": "execute_result"
    }
   ],
   "source": [
    "df_Value.dtypes"
   ]
  },
  {
   "cell_type": "code",
   "execution_count": 42,
   "metadata": {},
   "outputs": [
    {
     "data": {
      "text/html": [
       "<div>\n",
       "<style scoped>\n",
       "    .dataframe tbody tr th:only-of-type {\n",
       "        vertical-align: middle;\n",
       "    }\n",
       "\n",
       "    .dataframe tbody tr th {\n",
       "        vertical-align: top;\n",
       "    }\n",
       "\n",
       "    .dataframe thead th {\n",
       "        text-align: right;\n",
       "    }\n",
       "</style>\n",
       "<table border=\"1\" class=\"dataframe\">\n",
       "  <thead>\n",
       "    <tr style=\"text-align: right;\">\n",
       "      <th></th>\n",
       "      <th>Price</th>\n",
       "      <th>Value</th>\n",
       "      <th>Discount</th>\n",
       "      <th>PctUnder</th>\n",
       "    </tr>\n",
       "  </thead>\n",
       "  <tbody>\n",
       "    <tr>\n",
       "      <th>F</th>\n",
       "      <td>29.16</td>\n",
       "      <td>17.04</td>\n",
       "      <td>12.12</td>\n",
       "      <td>41.56</td>\n",
       "    </tr>\n",
       "    <tr>\n",
       "      <th>JHG</th>\n",
       "      <td>74.99</td>\n",
       "      <td>51.03</td>\n",
       "      <td>23.96</td>\n",
       "      <td>31.95</td>\n",
       "    </tr>\n",
       "    <tr>\n",
       "      <th>CMCSA</th>\n",
       "      <td>118.92</td>\n",
       "      <td>84.43</td>\n",
       "      <td>34.49</td>\n",
       "      <td>29.00</td>\n",
       "    </tr>\n",
       "    <tr>\n",
       "      <th>BAC</th>\n",
       "      <td>125.63</td>\n",
       "      <td>93.93</td>\n",
       "      <td>31.70</td>\n",
       "      <td>25.23</td>\n",
       "    </tr>\n",
       "    <tr>\n",
       "      <th>EAT</th>\n",
       "      <td>142.59</td>\n",
       "      <td>107.16</td>\n",
       "      <td>35.43</td>\n",
       "      <td>24.85</td>\n",
       "    </tr>\n",
       "    <tr>\n",
       "      <th>INTC</th>\n",
       "      <td>111.77</td>\n",
       "      <td>84.85</td>\n",
       "      <td>26.92</td>\n",
       "      <td>24.09</td>\n",
       "    </tr>\n",
       "    <tr>\n",
       "      <th>LUMN</th>\n",
       "      <td>56.01</td>\n",
       "      <td>50.60</td>\n",
       "      <td>5.41</td>\n",
       "      <td>9.66</td>\n",
       "    </tr>\n",
       "  </tbody>\n",
       "</table>\n",
       "</div>"
      ],
      "text/plain": [
       "        Price   Value  Discount  PctUnder\n",
       "F       29.16   17.04     12.12     41.56\n",
       "JHG     74.99   51.03     23.96     31.95\n",
       "CMCSA  118.92   84.43     34.49     29.00\n",
       "BAC    125.63   93.93     31.70     25.23\n",
       "EAT    142.59  107.16     35.43     24.85\n",
       "INTC   111.77   84.85     26.92     24.09\n",
       "LUMN    56.01   50.60      5.41      9.66"
      ]
     },
     "execution_count": 42,
     "metadata": {},
     "output_type": "execute_result"
    }
   ],
   "source": [
    "#   DROP EXPENCIVE STOCKS\n",
    "\n",
    "# Get names of indexes for which column //Age has value 30\n",
    "indxNames = df_Value[df_Value['Price'] > 150].index\n",
    "# Delete these row indexes from dataFrame\n",
    "df_Value.drop(indxNames , inplace=True)\n",
    "df_Value"
   ]
  },
  {
   "cell_type": "markdown",
   "metadata": {},
   "source": [
    "### start from here"
   ]
  },
  {
   "cell_type": "code",
   "execution_count": null,
   "metadata": {},
   "outputs": [],
   "source": [
    "sumV = df_Value['Value'].sum()\n",
    "float(sumV)\n",
    "round(sumV,2)"
   ]
  },
  {
   "cell_type": "code",
   "execution_count": null,
   "metadata": {},
   "outputs": [],
   "source": [
    "#df_Value['Value'].round(2)"
   ]
  },
  {
   "cell_type": "code",
   "execution_count": null,
   "metadata": {},
   "outputs": [],
   "source": [
    "89.795 in df_Value is float"
   ]
  },
  {
   "cell_type": "code",
   "execution_count": null,
   "metadata": {},
   "outputs": [],
   "source": [
    "dfN = df_Value[df_Value['Price'] > 150]"
   ]
  },
  {
   "cell_type": "code",
   "execution_count": 36,
   "metadata": {},
   "outputs": [
    {
     "data": {
      "text/plain": [
       "<AxesSubplot:>"
      ]
     },
     "execution_count": 36,
     "metadata": {},
     "output_type": "execute_result"
    },
    {
     "data": {
      "image/png": "[encoded data removed]",
      "text/plain": [
       "<Figure size 1000x600 with 1 Axes>"
      ]
     },
     "metadata": {},
     "output_type": "display_data"
    }
   ],
   "source": [
    "df_Value.plot(figsize=      (10,6))"
   ]
  }
 ],
 "metadata": {
  "kernelspec": {
   "display_name": "Python 3.9.15 ('myenv')",
   "language": "python",
   "name": "python3"
  },
  "language_info": {
   "codemirror_mode": {
    "name": "ipython",
    "version": 3
   },
   "file_extension": ".py",
   "mimetype": "text/x-python",
   "name": "python",
   "nbconvert_exporter": "python",
   "pygments_lexer": "ipython3",
   "version": "3.9.15"
  },
  "orig_nbformat": 4,
  "vscode": {
   "interpreter": {
    "hash": "72cc61c9694d467099ef54652d088522f74d141b3af5eb71a7e52280ce52fefc"
   }
  }
 },
 "nbformat": 4,
 "nbformat_minor": 2
}
