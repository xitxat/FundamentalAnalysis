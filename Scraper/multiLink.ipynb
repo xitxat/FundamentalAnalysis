{
 "cells": [
  {
   "cell_type": "code",
   "execution_count": 19,
   "metadata": {},
   "outputs": [],
   "source": [
    "import requests\n",
    "import urllib\n",
    "from bs4 import BeautifulSoup\n",
    "from collections import Counter\n",
    "import pandas as pd\n"
   ]
  },
  {
   "cell_type": "code",
   "execution_count": 20,
   "metadata": {},
   "outputs": [],
   "source": [
    "lst_url =[\n",
    "    \"https://finance.yahoo.com/most-active/\", \n",
    "    'https://www.gurufocus.com/guru/consensus-picks'\n",
    "    # \"https://finance.yahoo.com/u/yahoo-finance/watchlists/most-active-penny-stocks\",\n",
    "    # 'https://finance.yahoo.com/u/yahoo-finance/watchlists/most-active-small-cap-stocks',\n",
    "    # 'https://finance.yahoo.com/u/yahoo-finance/watchlists/stocks-with-the-highest-short-interest',\n",
    "    # 'https://finance.yahoo.com/u/yahoo-finance/watchlists/video-game-stocks',\n",
    "    # 'https://finance.yahoo.com/u/yahoo-finance/watchlists/cash-rich-companies-stocks',\n",
    "    # 'https://finance.yahoo.com/u/yahoo-finance/watchlists/most-added',\n",
    "    \n",
    "    ]\n",
    "\n"
   ]
  },
  {
   "cell_type": "code",
   "execution_count": 21,
   "metadata": {},
   "outputs": [],
   "source": [
    "lst_Merge = []\n"
   ]
  },
  {
   "cell_type": "code",
   "execution_count": 22,
   "metadata": {},
   "outputs": [
    {
     "name": "stdout",
     "output_type": "stream",
     "text": [
      "There are 97 links in this page\n",
      "There are 25 TICKERS in this page\n",
      "There are 375 links in this page\n",
      "There are 73 TICKERS in this page\n"
     ]
    }
   ],
   "source": [
    "# GET TICKERS FROM ALL CAPS\n",
    "for link in range(len(lst_url)):\n",
    "\theaders = {'User-Agent': 'Mozilla/5.0 (X11; Linux x86_64; rv:101.0) Gecko/20100101 Firefox/101.0', \"cookie\": \"CONSENT=YES+cb.20230531-04-p0.en+FX+908\"}\n",
    "\n",
    "\tresponse = requests.get(lst_url[link ], headers=headers )\n",
    "\n",
    "\tif response.status_code != 200:\n",
    "\t\tprint(\"Error fetching page\")\n",
    "\t\texit()\n",
    "\telse:\n",
    "\t\tcontent = response.content\n",
    "\t\t\n",
    "\tsoup = BeautifulSoup(response.content, 'html.parser')\n",
    "\t# All links in the page\n",
    "\n",
    "\tnb_links = len(soup.find_all('a'))\n",
    "\tprint(f\"There are {nb_links} links in this page\")\n",
    "\n",
    "\t# GET ALL Text from the LINKS\n",
    "\titems = [item.text.strip() for item in soup.select('a') ]\n",
    "\t# for i in items:\n",
    "\t# \tprint(i)\n",
    "\n",
    "\t#   REMOVE NON LINK TEXT\n",
    "\ttest_list = [item.text.strip() for item in soup.select('a') ]\n",
    "\t# print(test_list)\n",
    "\n",
    "\n",
    "\t#  FILTER FOR CAPS ONLY\n",
    "\tfor word in items:\n",
    "\t\tupperChars = True\n",
    "\t\tfor letters in word:\n",
    "\t\n",
    "\t\t\t# checking for uppercase\n",
    "\t\t\tif not letters.isupper():\n",
    "\t\t\t\tupperChars = False\n",
    "\t\t\t\tbreak\n",
    "\t\tif upperChars:\n",
    "\t\t\tlst_Merge.append(word)\n",
    "\t\n",
    "\n",
    "\t# remove blanks\n",
    "\tlst_Merge = list(filter(None, lst_Merge))\n",
    "\tnumCaps = len(lst_Merge)\n",
    "\tprint(f\"There are {numCaps} TICKERS in this page\")\n"
   ]
  },
  {
   "cell_type": "code",
   "execution_count": 23,
   "metadata": {},
   "outputs": [
    {
     "name": "stdout",
     "output_type": "stream",
     "text": [
      "There are 39 in List from Guru ['T', 'STLA', 'IQ', 'ABEV', 'META', 'JHG', 'F', 'HZNP', 'USA', 'CCL', 'AAPL', 'NVR', 'PBR', 'BAC', 'WBD', 'SU', 'GOOGL', 'MSFT', 'AMD', 'VALE', 'LAD', 'FAQ', 'ETF', 'EAT', 'NIO', 'ITUB', 'RGLD', 'BALL', 'UK', 'LCID', 'AMZN', 'COUP', 'GT', 'ITW', 'TSLA', 'NVDA', 'BBD', 'NU', 'API']\n"
     ]
    }
   ],
   "source": [
    "# REMOVE DUPLICATES\n",
    "\n",
    "set_Merge =  set(lst_Merge)\n",
    "\n",
    "#\tConvert set to list to append 'END' below\n",
    "lst_Merge = list(set_Merge)\n",
    "\n",
    "\n",
    "print(f'There are {len(lst_Merge)} in List from Guru', lst_Merge)"
   ]
  },
  {
   "cell_type": "code",
   "execution_count": 24,
   "metadata": {},
   "outputs": [
    {
     "name": "stdout",
     "output_type": "stream",
     "text": [
      "T : Stock DCF: 179.44 | 19.3 | undervalue\n",
      "STLA : Stock DCF: 404.50 | 14.58 | undervalue\n",
      "META : Stock DCF: 375.29 | 114.71 | undervalue\n",
      "JHG : Stock DCF: 73.53 | 25.23 | undervalue\n",
      "F : Stock DCF: 27.31 | 13.46 | undervalue\n",
      "NVR : Stock DCF: 6,226.04 | 4703.25 | undervalue\n",
      "WBD : Stock DCF: 530.57 | 11.27 | undervalue\n",
      "SU : Stock DCF: 65.88 | 30.34 | undervalue\n",
      "No ETF\n",
      "Ammended tkr:  ['T', 'STLA', 'ABEV', 'META', 'JHG', 'F', 'USA', 'AAPL', 'NVR', 'BAC', 'WBD', 'SU', 'MSFT', 'VALE', 'FAQ', 'EAT', 'NIO', 'ITUB', 'RGLD', 'BALL', 'UK', 'LCID', 'AMZN', 'COUP', 'GT', 'ITW', 'TSLA', 'NVDA', 'BBD', 'NU', 'API', 'END']\n",
      "T : Stock DCF: 179.44 | 19.3 | undervalue\n",
      "STLA : Stock DCF: 404.50 | 14.58 | undervalue\n",
      "ABEV : Stock DCF: 25.17 | 2.87 | undervalue\n",
      "META : Stock DCF: 375.29 | 114.71 | undervalue\n",
      "JHG : Stock DCF: 73.53 | 25.23 | undervalue\n",
      "F : Stock DCF: 27.31 | 13.46 | undervalue\n",
      "NVR : Stock DCF: 6,226.04 | 4703.25 | undervalue\n",
      "BAC : Stock DCF: 121.39 | 32.73 | undervalue\n",
      "WBD : Stock DCF: 530.57 | 11.27 | undervalue\n",
      "SU : Stock DCF: 65.88 | 30.34 | undervalue\n",
      "No FAQ\n",
      "Ammended tkr:  ['T', 'STLA', 'ABEV', 'META', 'JHG', 'F', 'AAPL', 'NVR', 'BAC', 'WBD', 'SU', 'VALE', 'EAT', 'NIO', 'ITUB', 'RGLD', 'BALL', 'UK', 'LCID', 'AMZN', 'COUP', 'GT', 'ITW', 'TSLA', 'NVDA', 'BBD', 'NU', 'API', 'END']\n",
      "T : Stock DCF: 179.44 | 19.3 | undervalue\n",
      "STLA : Stock DCF: 404.50 | 14.58 | undervalue\n",
      "ABEV : Stock DCF: 25.17 | 2.87 | undervalue\n",
      "META : Stock DCF: 375.29 | 114.71 | undervalue\n",
      "JHG : Stock DCF: 73.53 | 25.23 | undervalue\n",
      "F : Stock DCF: 27.31 | 13.46 | undervalue\n",
      "BAC : Stock DCF: 121.39 | 32.73 | undervalue\n",
      "WBD : Stock DCF: 530.57 | 11.27 | undervalue\n",
      "SU : Stock DCF: 65.88 | 30.34 | undervalue\n",
      "VALE : Stock DCF: 54.76 | 16.23 | undervalue\n",
      "EAT : Stock DCF: 143.35 | 34.57 | undervalue\n",
      "BBD : Stock DCF: 91.59 | 2.67 | undervalue\n",
      "NU : Stock DCF: 69.25 | 4.02 | undervalue\n",
      "T : Stock DCF: 179.44 | 19.3 | undervalue\n",
      "STLA : Stock DCF: 404.50 | 14.58 | undervalue\n",
      "ABEV : Stock DCF: 25.17 | 2.87 | undervalue\n",
      "META : Stock DCF: 375.29 | 114.71 | undervalue\n",
      "JHG : Stock DCF: 73.53 | 25.23 | undervalue\n",
      "F : Stock DCF: 27.31 | 13.46 | undervalue\n",
      "NVR : Stock DCF: 6,226.04 | 4703.25 | undervalue\n",
      "BAC : Stock DCF: 121.39 | 32.73 | undervalue\n",
      "WBD : Stock DCF: 530.57 | 11.27 | undervalue\n",
      "SU : Stock DCF: 65.88 | 30.34 | undervalue\n",
      "VALE : Stock DCF: 54.76 | 16.23 | undervalue\n",
      "EAT : Stock DCF: 143.35 | 34.57 | undervalue\n",
      "ITUB : Stock DCF: 155.14 | 4.54 | undervalue\n",
      "NU : Stock DCF: 69.25 | 4.02 | undervalue\n",
      "No END\n",
      "Ammended tkr:  ['T', 'STLA', 'ABEV', 'META', 'JHG', 'F', 'NVR', 'BAC', 'WBD', 'SU', 'VALE', 'EAT', 'ITUB', 'LCID', 'ITW', 'BBD', 'NU']\n",
      "Done\n",
      "Appended Length:  17\n"
     ]
    }
   ],
   "source": [
    "#   NYSE ONLY FILTER\n",
    "# Append END while not END to RES_LST\n",
    "\n",
    "tkr = '' \n",
    "\n",
    "def txtStripper(dcf):\n",
    "    dcf = dcf.replace('\\n', '')\n",
    "    dcf = dcf.strip()\n",
    "    print((tkr), ':',  (dcf))\n",
    "\n",
    "lst_Merge.append('END')\n",
    "\n",
    "#\tRemove duplicates\n",
    "# set_Merge =  set(lst_Merge)\n",
    "# print(set_Merge)\n",
    "\n",
    "while tkr != 'END':\n",
    "    try:\n",
    "        for l in lst_Merge:    \n",
    "                    \n",
    "                    tkr = l\n",
    "                    \n",
    "                    baseUrl = 'https://site.financialmodelingprep.com/discounted-cash-flow-model/{}'\n",
    "                    url = baseUrl.format(str(tkr))\n",
    "                    response = urllib.request.urlopen(url)\n",
    "                    url_contents = response.read()\n",
    "\n",
    "                    soup = BeautifulSoup(url_contents, \"html.parser\")\n",
    "                    dcf = soup.find(\"div\", {\"class\": \"global-button2\"}).text\n",
    "\n",
    "# START CLEAN UP\n",
    "                    # if 'overvalue' in dcf or  'Stock DCF: - | ' in dcf:\n",
    "                    #     lst_Merge.remove(tkr)\n",
    "                    if '- |' in dcf:\n",
    "                       lst_Merge.remove(tkr) \n",
    "                    elif 'overvalue' in dcf:\n",
    "                        lst_Merge.remove(tkr) \n",
    "                    elif dcf is None: \n",
    "                        lst_Merge.remove(tkr)\n",
    "                    else:\n",
    "                     txtStripper(dcf)\n",
    "\n",
    "\n",
    "\n",
    "    except AttributeError:\n",
    "        print('No' , (tkr) )\n",
    "        lst_Merge.remove(tkr)\n",
    "        print('Ammended tkr: ' , lst_Merge)\n",
    "\n",
    "print('Done')\n",
    "print('Appended Length: ' , len(lst_Merge))\n"
   ]
  },
  {
   "cell_type": "code",
   "execution_count": 25,
   "metadata": {},
   "outputs": [
    {
     "data": {
      "text/plain": [
       "['T',\n",
       " 'STLA',\n",
       " 'ABEV',\n",
       " 'META',\n",
       " 'JHG',\n",
       " 'F',\n",
       " 'NVR',\n",
       " 'BAC',\n",
       " 'WBD',\n",
       " 'SU',\n",
       " 'VALE',\n",
       " 'EAT',\n",
       " 'ITUB',\n",
       " 'LCID',\n",
       " 'ITW',\n",
       " 'BBD',\n",
       " 'NU']"
      ]
     },
     "execution_count": 25,
     "metadata": {},
     "output_type": "execute_result"
    }
   ],
   "source": [
    "lst_Merge"
   ]
  },
  {
   "cell_type": "code",
   "execution_count": 26,
   "metadata": {},
   "outputs": [],
   "source": [
    "mergedTkrs = ''\n",
    "\n",
    "overVal = []\n",
    "underVal = []\n",
    "nanList = []\n",
    "\n",
    "dict_CurrentPrice = {}\n",
    "dict_Valuation = {}\n",
    "dict_Discount = {}\n",
    "dict_UnderBy = {}\n",
    "\n",
    "# tkr, $, evaluation\n",
    "#lst_Comparison = []"
   ]
  },
  {
   "cell_type": "code",
   "execution_count": 27,
   "metadata": {},
   "outputs": [],
   "source": [
    "# DEF:   remove newline and spaces\n",
    "def txtValueFilter(dcf):\n",
    "    dcf = dcf.replace('\\n', '')\n",
    "    dcf = dcf.replace(',', '')\n",
    "    dcf = dcf.strip()\n",
    "\n",
    "    if dcf is None:\n",
    "        lst_Merge.remove(mergedTkrs)\n",
    "\n",
    "    if 'Stock DCF: - | ' in dcf: # NAN values in ticker price. instead of try: block\n",
    "        nanList.append(mergedTkrs)\n",
    "\n",
    "    # elif 'overvalue' in dcf:\n",
    "    #     overVal.append(mergedTkrs) # append to list\n",
    "        \n",
    "        \n",
    "    elif 'undervalue' in dcf:\n",
    "         underVal.append(mergedTkrs) # append to list\n",
    "         \n",
    "         EvaluateDCF(dcf)\n",
    "               \n",
    "    else:\n",
    "        print('No Value Statement: code Throw')\n",
    "\n",
    "    print(mergedTkrs, ':',  (dcf))\n",
    "\n"
   ]
  },
  {
   "cell_type": "code",
   "execution_count": 28,
   "metadata": {},
   "outputs": [],
   "source": [
    "#   DEF CALCULATE VALUE DIFFERENCE\n",
    "\n",
    "def EvaluateDCF(tstStr):\n",
    "    tstStr = tstStr.replace('Stock DCF:', '')\n",
    "    tstStr = tstStr.replace('|', '-', 1)\n",
    "    tstStr = tstStr.replace('|', '')\n",
    "    tstStr = tstStr.replace('overvalue', '')\n",
    "    tstStr = tstStr.replace('undervalue', '')\n",
    "    \n",
    "    tstStr = tstStr.split('-')\n",
    "\n",
    "    eval = float(tstStr[0]) - float(tstStr[1])\n",
    "    eval = (round(eval, 2))\n",
    "\n",
    "    currentPrice =  float(tstStr[0])\n",
    "    valuation = float(tstStr[1])\n",
    "    discount = currentPrice - valuation\n",
    "    underBy = round((valuation / currentPrice) * 100, 2)\n",
    "\n",
    "    dict_CurrentPrice.update( {mergedTkrs : tstStr[0]})\n",
    "    dict_Valuation.update({mergedTkrs : discount})\n",
    "    dict_Discount.update({mergedTkrs : valuation})\n",
    "    dict_UnderBy.update({mergedTkrs : underBy})\n",
    "\n",
    "    #lst_Comparison.append(mergedTkrs, currentPrice, eval )\n",
    "    \n",
    "    print (mergedTkrs, 'Undervalued by: $', valuation)\n"
   ]
  },
  {
   "cell_type": "code",
   "execution_count": 29,
   "metadata": {},
   "outputs": [
    {
     "name": "stdout",
     "output_type": "stream",
     "text": [
      "error checker:  T \n",
      "                Stock DCF: 179.44 | 19.3 | undervalue\n",
      "            \n",
      "T Undervalued by: $ 19.3\n",
      "T : Stock DCF: 179.44 | 19.3 | undervalue\n",
      "error checker:  STLA \n",
      "                Stock DCF: 404.50 | 14.58 | undervalue\n",
      "            \n",
      "STLA Undervalued by: $ 14.58\n",
      "STLA : Stock DCF: 404.50 | 14.58 | undervalue\n",
      "error checker:  ABEV \n",
      "                Stock DCF: 25.17 | 2.87 | undervalue\n",
      "            \n",
      "ABEV Undervalued by: $ 2.87\n",
      "ABEV : Stock DCF: 25.17 | 2.87 | undervalue\n",
      "error checker:  META \n",
      "                Stock DCF: 375.29 | 114.71 | undervalue\n",
      "            \n",
      "META Undervalued by: $ 114.71\n",
      "META : Stock DCF: 375.29 | 114.71 | undervalue\n",
      "error checker:  JHG \n",
      "                Stock DCF: 73.53 | 25.23 | undervalue\n",
      "            \n",
      "JHG Undervalued by: $ 25.23\n",
      "JHG : Stock DCF: 73.53 | 25.23 | undervalue\n",
      "error checker:  F \n",
      "                Stock DCF: 27.31 | 13.46 | undervalue\n",
      "            \n",
      "F Undervalued by: $ 13.46\n",
      "F : Stock DCF: 27.31 | 13.46 | undervalue\n",
      "error checker:  NVR \n",
      "                Stock DCF: 6,226.04 | 4703.25 | undervalue\n",
      "            \n",
      "NVR Undervalued by: $ 4703.25\n",
      "NVR : Stock DCF: 6226.04 | 4703.25 | undervalue\n",
      "error checker:  BAC \n",
      "                Stock DCF: 121.39 | 32.73 | undervalue\n",
      "            \n",
      "BAC Undervalued by: $ 32.73\n",
      "BAC : Stock DCF: 121.39 | 32.73 | undervalue\n",
      "error checker:  WBD \n",
      "                Stock DCF: 530.57 | 11.27 | undervalue\n",
      "            \n",
      "WBD Undervalued by: $ 11.27\n",
      "WBD : Stock DCF: 530.57 | 11.27 | undervalue\n",
      "error checker:  SU \n",
      "                Stock DCF: 65.88 | 30.34 | undervalue\n",
      "            \n",
      "SU Undervalued by: $ 30.34\n",
      "SU : Stock DCF: 65.88 | 30.34 | undervalue\n",
      "error checker:  VALE \n",
      "                Stock DCF: 54.76 | 16.23 | undervalue\n",
      "            \n",
      "VALE Undervalued by: $ 16.23\n",
      "VALE : Stock DCF: 54.76 | 16.23 | undervalue\n",
      "error checker:  EAT \n",
      "                Stock DCF: 143.35 | 34.57 | undervalue\n",
      "            \n",
      "EAT Undervalued by: $ 34.57\n",
      "EAT : Stock DCF: 143.35 | 34.57 | undervalue\n",
      "error checker:  ITUB \n",
      "                Stock DCF: 155.14 | 4.54 | undervalue\n",
      "            \n",
      "ITUB Undervalued by: $ 4.54\n",
      "ITUB : Stock DCF: 155.14 | 4.54 | undervalue\n",
      "error checker:  LCID \n",
      "                Stock DCF: -4,503,149.72 | 8.28 | overvalue\n",
      "            \n",
      "No Value Statement: code Throw\n",
      "LCID : Stock DCF: -4503149.72 | 8.28 | overvalue\n",
      "error checker:  ITW \n",
      "                Stock DCF: 111.37 | 224.25 | overvalue\n",
      "            \n",
      "No Value Statement: code Throw\n",
      "ITW : Stock DCF: 111.37 | 224.25 | overvalue\n",
      "error checker:  BBD \n",
      "                Stock DCF: 91.59 | 2.67 | undervalue\n",
      "            \n",
      "BBD Undervalued by: $ 2.67\n",
      "BBD : Stock DCF: 91.59 | 2.67 | undervalue\n",
      "error checker:  NU \n",
      "                Stock DCF: 69.25 | 4.02 | undervalue\n",
      "            \n",
      "NU Undervalued by: $ 4.02\n",
      "NU : Stock DCF: 69.25 | 4.02 | undervalue\n",
      "CALC DONE. \n"
     ]
    }
   ],
   "source": [
    "#   CALC LOOP\n",
    "\n",
    "for mergedTkrs in lst_Merge:\n",
    "    try:\n",
    "        baseUrl = 'https://site.financialmodelingprep.com/discounted-cash-flow-model/{}'\n",
    "        url = baseUrl.format(str(mergedTkrs))\n",
    "        response = urllib.request.urlopen(url)\n",
    "        url_contents = response.read()\n",
    "\n",
    "        soup = BeautifulSoup(url_contents, \"html.parser\")\n",
    "        dcf = soup.find(\"div\", {\"class\": \"global-button2\"}).text\n",
    "\n",
    "        print('error checker: ',mergedTkrs, dcf)\n",
    "\n",
    "        txtValueFilter(dcf) \n",
    "    \n",
    "    except AttributeError:\n",
    "        print('No text for ' , (mergedTkrs) )\n",
    "        lst_Merge.remove(mergedTkrs)\n",
    "\n",
    "    except KeyError: 'END'\n",
    "\n",
    "print('CALC DONE. ')\n",
    "\n"
   ]
  },
  {
   "cell_type": "code",
   "execution_count": 30,
   "metadata": {},
   "outputs": [
    {
     "data": {
      "text/plain": [
       "{'T': 10.76,\n",
       " 'STLA': 3.6,\n",
       " 'ABEV': 11.4,\n",
       " 'META': 30.57,\n",
       " 'JHG': 34.31,\n",
       " 'F': 49.29,\n",
       " 'NVR': 75.54,\n",
       " 'BAC': 26.96,\n",
       " 'WBD': 2.12,\n",
       " 'SU': 46.05,\n",
       " 'VALE': 29.64,\n",
       " 'EAT': 24.12,\n",
       " 'ITUB': 2.93,\n",
       " 'BBD': 2.92,\n",
       " 'NU': 5.81}"
      ]
     },
     "execution_count": 30,
     "metadata": {},
     "output_type": "execute_result"
    }
   ],
   "source": [
    "dict_UnderBy"
   ]
  },
  {
   "cell_type": "code",
   "execution_count": 31,
   "metadata": {},
   "outputs": [
    {
     "data": {
      "text/plain": [
       "['T',\n",
       " 'STLA',\n",
       " 'ABEV',\n",
       " 'META',\n",
       " 'JHG',\n",
       " 'F',\n",
       " 'NVR',\n",
       " 'BAC',\n",
       " 'WBD',\n",
       " 'SU',\n",
       " 'VALE',\n",
       " 'EAT',\n",
       " 'ITUB',\n",
       " 'BBD',\n",
       " 'NU']"
      ]
     },
     "execution_count": 31,
     "metadata": {},
     "output_type": "execute_result"
    }
   ],
   "source": [
    "underVal\n"
   ]
  },
  {
   "cell_type": "code",
   "execution_count": 32,
   "metadata": {},
   "outputs": [
    {
     "data": {
      "text/plain": [
       "{'T': ' 179.44 ',\n",
       " 'STLA': ' 404.50 ',\n",
       " 'ABEV': ' 25.17 ',\n",
       " 'META': ' 375.29 ',\n",
       " 'JHG': ' 73.53 ',\n",
       " 'F': ' 27.31 ',\n",
       " 'NVR': ' 6226.04 ',\n",
       " 'BAC': ' 121.39 ',\n",
       " 'WBD': ' 530.57 ',\n",
       " 'SU': ' 65.88 ',\n",
       " 'VALE': ' 54.76 ',\n",
       " 'EAT': ' 143.35 ',\n",
       " 'ITUB': ' 155.14 ',\n",
       " 'BBD': ' 91.59 ',\n",
       " 'NU': ' 69.25 '}"
      ]
     },
     "execution_count": 32,
     "metadata": {},
     "output_type": "execute_result"
    }
   ],
   "source": [
    "\n",
    "dict_CurrentPrice"
   ]
  },
  {
   "cell_type": "code",
   "execution_count": 33,
   "metadata": {},
   "outputs": [
    {
     "data": {
      "text/plain": [
       "{'T': 160.14,\n",
       " 'STLA': 389.92,\n",
       " 'ABEV': 22.3,\n",
       " 'META': 260.58000000000004,\n",
       " 'JHG': 48.3,\n",
       " 'F': 13.849999999999998,\n",
       " 'NVR': 1522.79,\n",
       " 'BAC': 88.66,\n",
       " 'WBD': 519.3000000000001,\n",
       " 'SU': 35.53999999999999,\n",
       " 'VALE': 38.53,\n",
       " 'EAT': 108.78,\n",
       " 'ITUB': 150.6,\n",
       " 'BBD': 88.92,\n",
       " 'NU': 65.23}"
      ]
     },
     "execution_count": 33,
     "metadata": {},
     "output_type": "execute_result"
    }
   ],
   "source": [
    "# v = dict_Valuation.values()\n",
    "# float([x for x in v][0])\n",
    "\n",
    "dict_Valuation"
   ]
  },
  {
   "cell_type": "code",
   "execution_count": 34,
   "metadata": {},
   "outputs": [
    {
     "data": {
      "text/plain": [
       "{'T': 19.3,\n",
       " 'STLA': 14.58,\n",
       " 'ABEV': 2.87,\n",
       " 'META': 114.71,\n",
       " 'JHG': 25.23,\n",
       " 'F': 13.46,\n",
       " 'NVR': 4703.25,\n",
       " 'BAC': 32.73,\n",
       " 'WBD': 11.27,\n",
       " 'SU': 30.34,\n",
       " 'VALE': 16.23,\n",
       " 'EAT': 34.57,\n",
       " 'ITUB': 4.54,\n",
       " 'BBD': 2.67,\n",
       " 'NU': 4.02}"
      ]
     },
     "execution_count": 34,
     "metadata": {},
     "output_type": "execute_result"
    }
   ],
   "source": [
    "\n",
    "dict_Discount"
   ]
  },
  {
   "cell_type": "code",
   "execution_count": 35,
   "metadata": {},
   "outputs": [
    {
     "data": {
      "text/html": [
       "<div>\n",
       "<style scoped>\n",
       "    .dataframe tbody tr th:only-of-type {\n",
       "        vertical-align: middle;\n",
       "    }\n",
       "\n",
       "    .dataframe tbody tr th {\n",
       "        vertical-align: top;\n",
       "    }\n",
       "\n",
       "    .dataframe thead th {\n",
       "        text-align: right;\n",
       "    }\n",
       "</style>\n",
       "<table border=\"1\" class=\"dataframe\">\n",
       "  <thead>\n",
       "    <tr style=\"text-align: right;\">\n",
       "      <th></th>\n",
       "      <th>Price</th>\n",
       "      <th>Value</th>\n",
       "      <th>Discount</th>\n",
       "      <th>% Under</th>\n",
       "    </tr>\n",
       "  </thead>\n",
       "  <tbody>\n",
       "    <tr>\n",
       "      <th>T</th>\n",
       "      <td>179.44</td>\n",
       "      <td>160.14</td>\n",
       "      <td>19.3</td>\n",
       "      <td>10.76</td>\n",
       "    </tr>\n",
       "    <tr>\n",
       "      <th>STLA</th>\n",
       "      <td>404.50</td>\n",
       "      <td>389.92</td>\n",
       "      <td>14.58</td>\n",
       "      <td>3.6</td>\n",
       "    </tr>\n",
       "    <tr>\n",
       "      <th>ABEV</th>\n",
       "      <td>25.17</td>\n",
       "      <td>22.3</td>\n",
       "      <td>2.87</td>\n",
       "      <td>11.4</td>\n",
       "    </tr>\n",
       "    <tr>\n",
       "      <th>META</th>\n",
       "      <td>375.29</td>\n",
       "      <td>260.58</td>\n",
       "      <td>114.71</td>\n",
       "      <td>30.57</td>\n",
       "    </tr>\n",
       "    <tr>\n",
       "      <th>JHG</th>\n",
       "      <td>73.53</td>\n",
       "      <td>48.3</td>\n",
       "      <td>25.23</td>\n",
       "      <td>34.31</td>\n",
       "    </tr>\n",
       "    <tr>\n",
       "      <th>F</th>\n",
       "      <td>27.31</td>\n",
       "      <td>13.85</td>\n",
       "      <td>13.46</td>\n",
       "      <td>49.29</td>\n",
       "    </tr>\n",
       "    <tr>\n",
       "      <th>NVR</th>\n",
       "      <td>6226.04</td>\n",
       "      <td>1522.79</td>\n",
       "      <td>4703.25</td>\n",
       "      <td>75.54</td>\n",
       "    </tr>\n",
       "    <tr>\n",
       "      <th>BAC</th>\n",
       "      <td>121.39</td>\n",
       "      <td>88.66</td>\n",
       "      <td>32.73</td>\n",
       "      <td>26.96</td>\n",
       "    </tr>\n",
       "    <tr>\n",
       "      <th>WBD</th>\n",
       "      <td>530.57</td>\n",
       "      <td>519.3</td>\n",
       "      <td>11.27</td>\n",
       "      <td>2.12</td>\n",
       "    </tr>\n",
       "    <tr>\n",
       "      <th>SU</th>\n",
       "      <td>65.88</td>\n",
       "      <td>35.54</td>\n",
       "      <td>30.34</td>\n",
       "      <td>46.05</td>\n",
       "    </tr>\n",
       "    <tr>\n",
       "      <th>VALE</th>\n",
       "      <td>54.76</td>\n",
       "      <td>38.53</td>\n",
       "      <td>16.23</td>\n",
       "      <td>29.64</td>\n",
       "    </tr>\n",
       "    <tr>\n",
       "      <th>EAT</th>\n",
       "      <td>143.35</td>\n",
       "      <td>108.78</td>\n",
       "      <td>34.57</td>\n",
       "      <td>24.12</td>\n",
       "    </tr>\n",
       "    <tr>\n",
       "      <th>ITUB</th>\n",
       "      <td>155.14</td>\n",
       "      <td>150.6</td>\n",
       "      <td>4.54</td>\n",
       "      <td>2.93</td>\n",
       "    </tr>\n",
       "    <tr>\n",
       "      <th>BBD</th>\n",
       "      <td>91.59</td>\n",
       "      <td>88.92</td>\n",
       "      <td>2.67</td>\n",
       "      <td>2.92</td>\n",
       "    </tr>\n",
       "    <tr>\n",
       "      <th>NU</th>\n",
       "      <td>69.25</td>\n",
       "      <td>65.23</td>\n",
       "      <td>4.02</td>\n",
       "      <td>5.81</td>\n",
       "    </tr>\n",
       "  </tbody>\n",
       "</table>\n",
       "</div>"
      ],
      "text/plain": [
       "          Price    Value Discount % Under\n",
       "T       179.44    160.14     19.3   10.76\n",
       "STLA    404.50    389.92    14.58     3.6\n",
       "ABEV     25.17      22.3     2.87    11.4\n",
       "META    375.29    260.58   114.71   30.57\n",
       "JHG      73.53      48.3    25.23   34.31\n",
       "F        27.31     13.85    13.46   49.29\n",
       "NVR    6226.04   1522.79  4703.25   75.54\n",
       "BAC     121.39     88.66    32.73   26.96\n",
       "WBD     530.57     519.3    11.27    2.12\n",
       "SU       65.88     35.54    30.34   46.05\n",
       "VALE     54.76     38.53    16.23   29.64\n",
       "EAT     143.35    108.78    34.57   24.12\n",
       "ITUB    155.14     150.6     4.54    2.93\n",
       "BBD      91.59     88.92     2.67    2.92\n",
       "NU       69.25     65.23     4.02    5.81"
      ]
     },
     "execution_count": 35,
     "metadata": {},
     "output_type": "execute_result"
    }
   ],
   "source": [
    "df_Value = pd.DataFrame([dict_CurrentPrice, dict_Valuation, dict_Discount, dict_UnderBy]).T\n",
    "df_Value.columns = ['Price', 'Value', 'Discount', '% Under']\n",
    "\n",
    "df_Value"
   ]
  },
  {
   "cell_type": "code",
   "execution_count": 16,
   "metadata": {},
   "outputs": [],
   "source": [
    "df_Value = df_Value.astype(float)"
   ]
  },
  {
   "cell_type": "code",
   "execution_count": 17,
   "metadata": {},
   "outputs": [
    {
     "data": {
      "text/plain": [
       "Price       float64\n",
       "Value       float64\n",
       "Discount    float64\n",
       "dtype: object"
      ]
     },
     "execution_count": 17,
     "metadata": {},
     "output_type": "execute_result"
    }
   ],
   "source": [
    "df_Value.dtypes"
   ]
  },
  {
   "cell_type": "code",
   "execution_count": 18,
   "metadata": {},
   "outputs": [
    {
     "data": {
      "text/html": [
       "<div>\n",
       "<style scoped>\n",
       "    .dataframe tbody tr th:only-of-type {\n",
       "        vertical-align: middle;\n",
       "    }\n",
       "\n",
       "    .dataframe tbody tr th {\n",
       "        vertical-align: top;\n",
       "    }\n",
       "\n",
       "    .dataframe thead th {\n",
       "        text-align: right;\n",
       "    }\n",
       "</style>\n",
       "<table border=\"1\" class=\"dataframe\">\n",
       "  <thead>\n",
       "    <tr style=\"text-align: right;\">\n",
       "      <th></th>\n",
       "      <th>Price</th>\n",
       "      <th>Value</th>\n",
       "      <th>Discount</th>\n",
       "    </tr>\n",
       "  </thead>\n",
       "  <tbody>\n",
       "    <tr>\n",
       "      <th>ABEV</th>\n",
       "      <td>25.17</td>\n",
       "      <td>22.30</td>\n",
       "      <td>2.87</td>\n",
       "    </tr>\n",
       "    <tr>\n",
       "      <th>JHG</th>\n",
       "      <td>73.53</td>\n",
       "      <td>48.30</td>\n",
       "      <td>25.23</td>\n",
       "    </tr>\n",
       "    <tr>\n",
       "      <th>F</th>\n",
       "      <td>27.31</td>\n",
       "      <td>13.85</td>\n",
       "      <td>13.46</td>\n",
       "    </tr>\n",
       "    <tr>\n",
       "      <th>BAC</th>\n",
       "      <td>121.39</td>\n",
       "      <td>88.66</td>\n",
       "      <td>32.73</td>\n",
       "    </tr>\n",
       "    <tr>\n",
       "      <th>SU</th>\n",
       "      <td>65.88</td>\n",
       "      <td>35.54</td>\n",
       "      <td>30.34</td>\n",
       "    </tr>\n",
       "    <tr>\n",
       "      <th>VALE</th>\n",
       "      <td>54.76</td>\n",
       "      <td>38.53</td>\n",
       "      <td>16.23</td>\n",
       "    </tr>\n",
       "    <tr>\n",
       "      <th>EAT</th>\n",
       "      <td>143.35</td>\n",
       "      <td>108.78</td>\n",
       "      <td>34.57</td>\n",
       "    </tr>\n",
       "    <tr>\n",
       "      <th>BBD</th>\n",
       "      <td>91.59</td>\n",
       "      <td>88.92</td>\n",
       "      <td>2.67</td>\n",
       "    </tr>\n",
       "    <tr>\n",
       "      <th>NU</th>\n",
       "      <td>69.25</td>\n",
       "      <td>65.23</td>\n",
       "      <td>4.02</td>\n",
       "    </tr>\n",
       "  </tbody>\n",
       "</table>\n",
       "</div>"
      ],
      "text/plain": [
       "       Price   Value  Discount\n",
       "ABEV   25.17   22.30      2.87\n",
       "JHG    73.53   48.30     25.23\n",
       "F      27.31   13.85     13.46\n",
       "BAC   121.39   88.66     32.73\n",
       "SU     65.88   35.54     30.34\n",
       "VALE   54.76   38.53     16.23\n",
       "EAT   143.35  108.78     34.57\n",
       "BBD    91.59   88.92      2.67\n",
       "NU     69.25   65.23      4.02"
      ]
     },
     "execution_count": 18,
     "metadata": {},
     "output_type": "execute_result"
    }
   ],
   "source": [
    "#   DROP EXPENCIVE STOCKS\n",
    "\n",
    "# Get names of indexes for which column //Age has value 30\n",
    "indxNames = df_Value[df_Value['Price'] > 150].index\n",
    "# Delete these row indexes from dataFrame\n",
    "df_Value.drop(indxNames , inplace=True)\n",
    "df_Value"
   ]
  },
  {
   "cell_type": "markdown",
   "metadata": {},
   "source": [
    "### start from here"
   ]
  },
  {
   "cell_type": "code",
   "execution_count": null,
   "metadata": {},
   "outputs": [],
   "source": [
    "sumV = df_Value['Value'].sum()\n",
    "float(sumV)\n",
    "round(sumV,2)"
   ]
  },
  {
   "cell_type": "code",
   "execution_count": null,
   "metadata": {},
   "outputs": [],
   "source": [
    "#df_Value['Value'].round(2)"
   ]
  },
  {
   "cell_type": "code",
   "execution_count": null,
   "metadata": {},
   "outputs": [],
   "source": [
    "89.795 in df_Value is float"
   ]
  },
  {
   "cell_type": "code",
   "execution_count": null,
   "metadata": {},
   "outputs": [],
   "source": [
    "dfN = df_Value[df_Value['Price'] > 150]"
   ]
  },
  {
   "cell_type": "code",
   "execution_count": null,
   "metadata": {},
   "outputs": [],
   "source": [
    "df_Value.plot(figsize=      (10,6))"
   ]
  }
 ],
 "metadata": {
  "kernelspec": {
   "display_name": "Python 3.9.15 ('myenv')",
   "language": "python",
   "name": "python3"
  },
  "language_info": {
   "codemirror_mode": {
    "name": "ipython",
    "version": 3
   },
   "file_extension": ".py",
   "mimetype": "text/x-python",
   "name": "python",
   "nbconvert_exporter": "python",
   "pygments_lexer": "ipython3",
   "version": "3.9.15"
  },
  "orig_nbformat": 4,
  "vscode": {
   "interpreter": {
    "hash": "72cc61c9694d467099ef54652d088522f74d141b3af5eb71a7e52280ce52fefc"
   }
  }
 },
 "nbformat": 4,
 "nbformat_minor": 2
}
