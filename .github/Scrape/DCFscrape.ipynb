{
 "cells": [
  {
   "cell_type": "markdown",
   "metadata": {},
   "source": [
    "# DCF  \n",
    "Last Known Good"
   ]
  },
  {
   "cell_type": "code",
   "execution_count": null,
   "metadata": {},
   "outputs": [
    {
     "name": "stdout",
     "output_type": "stream",
     "text": [
      "KO : Stock DCF: 39.47 | 62.69 | overvalue\n"
     ]
    }
   ],
   "source": [
    "import requests\n",
    "import urllib\n",
    "from bs4 import BeautifulSoup\n",
    "\n",
    "def txtCleaner (dcf):\n",
    "    dcf = dcf.replace('\\n', '')\n",
    "    dcf = dcf.strip()\n",
    "    print((tkr), ':',  (dcf))\n",
    "\n",
    "tkr = 'KO'\n",
    "baseUrl = 'https://site.financialmodelingprep.com/discounted-cash-flow-model/{}'\n",
    "url = baseUrl.format(str(tkr))\n",
    "response = urllib.request.urlopen(url)\n",
    "url_contents = response.read()\n",
    "\n",
    "soup = BeautifulSoup(url_contents, \"html.parser\")\n",
    "dcf = soup.find(\"div\", {\"class\": \"global-button2\"}).text\n",
    "\n",
    "txtCleaner(dcf)\n",
    "\n",
    "#print(soup.prettify())\n"
   ]
  }
 ],
 "metadata": {
  "kernelspec": {
   "display_name": "Python 3.9.15 ('myenv')",
   "language": "python",
   "name": "python3"
  },
  "language_info": {
   "name": "python",
   "version": "3.9.15"
  },
  "orig_nbformat": 4,
  "vscode": {
   "interpreter": {
    "hash": "72cc61c9694d467099ef54652d088522f74d141b3af5eb71a7e52280ce52fefc"
   }
  }
 },
 "nbformat": 4,
 "nbformat_minor": 2
}
