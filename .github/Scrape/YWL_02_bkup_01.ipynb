{
 "cells": [
  {
   "cell_type": "markdown",
   "metadata": {},
   "source": [
    "# Y! Watchlist\n",
    "\n"
   ]
  },
  {
   "cell_type": "code",
   "execution_count": null,
   "metadata": {},
   "outputs": [],
   "source": [
    "import requests\n",
    "import urllib\n",
    "from bs4 import BeautifulSoup\n",
    "from collections import Counter\n",
    "\n",
    "baseUrl = \"https://finance.yahoo.com/u/yahoo-finance/watchlists/most-active-penny-stocks\"\n",
    "headers = {'User-Agent': 'Mozilla/5.0 (X11; Linux x86_64; rv:101.0) Gecko/20100101 Firefox/101.0', \"cookie\": \"CONSENT=YES+cb.20230531-04-p0.en+FX+908\"}\n",
    "\n",
    "response = requests.get(baseUrl , headers=headers )\n",
    "\n",
    "if response.status_code != 200:\n",
    "\tprint(\"Error fetching page\")\n",
    "\texit()\n",
    "else:\n",
    "\n",
    "\tcontent = response.content\n",
    "print(content)"
   ]
  },
  {
   "cell_type": "code",
   "execution_count": 2,
   "metadata": {},
   "outputs": [],
   "source": [
    "soup = BeautifulSoup(response.content, 'html.parser')"
   ]
  },
  {
   "cell_type": "code",
   "execution_count": 3,
   "metadata": {},
   "outputs": [
    {
     "name": "stdout",
     "output_type": "stream",
     "text": [
      "<title>Curated Stock Watch Lists &amp; Categories - Yahoo Finance</title>\n"
     ]
    }
   ],
   "source": [
    "# The title tag of the page\n",
    "print(soup.title)\n"
   ]
  },
  {
   "cell_type": "code",
   "execution_count": 3,
   "metadata": {},
   "outputs": [
    {
     "name": "stdout",
     "output_type": "stream",
     "text": [
      "There are 89 links in this page\n"
     ]
    }
   ],
   "source": [
    "# All links in the page\n",
    "nb_links = len(soup.find_all('a'))\n",
    "print(f\"There are {nb_links} links in this page\")"
   ]
  },
  {
   "cell_type": "markdown",
   "metadata": {},
   "source": [
    "finxter\n"
   ]
  },
  {
   "cell_type": "code",
   "execution_count": null,
   "metadata": {},
   "outputs": [],
   "source": [
    "# Text from the page\n",
    "\n",
    "items = [item.text.strip() for item in soup.select('a') ]\n",
    "\n",
    "for i in items:\n",
    "    print(i)"
   ]
  },
  {
   "cell_type": "code",
   "execution_count": null,
   "metadata": {},
   "outputs": [],
   "source": [
    "# CAPS only\n",
    "\n",
    "test_list = [item.text.strip() for item in soup.select('a') ]\n",
    "\n",
    "# for i in items:\n",
    "#     print(i)\n",
    "\n",
    "# # printing original list\n",
    "# print(\"The original list is : \" + str(items))\n",
    "\n",
    "res_list = []\n",
    "for sub in items:\n",
    "    res = True\n",
    "    for ele in sub:\n",
    " \n",
    "        # checking for uppercase\n",
    "        if not ele.isupper():\n",
    "            res = False\n",
    "            break\n",
    "    if res:\n",
    "        res_list.append(sub)\n",
    " \n",
    "# printing results\n",
    "print(\"Filtered Tuples : \" + str(res_list))\n",
    "\n",
    "# remove blanks\n",
    "#   Python 3 returns an iterator from filter, so should be wrapped in a call to list()\n",
    "\n",
    "res_list = list(filter(None, res_list))\n",
    "print(res_list)\n"
   ]
  },
  {
   "cell_type": "markdown",
   "metadata": {},
   "source": [
    "# Method #2 : Using list comprehension + all() + isupper()"
   ]
  },
  {
   "cell_type": "code",
   "execution_count": 42,
   "metadata": {},
   "outputs": [
    {
     "name": "stdout",
     "output_type": "stream",
     "text": [
      "Filtered Y! Pennies Watchlist : \n",
      "['KGC', 'APE', 'CANO', 'GOEV', 'BBBY', 'MULN', 'CORZ', 'VAPO', 'SONM', 'AABB', 'COMS', 'BRYYF', 'GGII', 'RMED', 'VPER', 'PVSP', 'DVLP', 'MNGG', 'PPJE', 'RITE', 'NOUV', 'GDVM', 'BANT', 'AFOM', 'CMGR', 'PRDL', 'CGRA', 'CBDL', 'QEDN', 'ASTA']\n"
     ]
    }
   ],
   "source": [
    "\n",
    "# Python3 code to demonstrate working of\n",
    "# Filter uppercase characters Tuples\n",
    "# Using list comprehension + all() + isupper()\n",
    " \n",
    "# initializing list\n",
    "test_list = [item.text.strip() for item in soup.select('a') ]\n",
    " \n",
    "# all() returns true only when all strings are uppercase\n",
    "res = [sub for sub in test_list if all(ele.isupper() for ele in sub)]\n",
    "\n",
    "# remove blanks\n",
    "res_list = list(filter(None, res_list))\n",
    "\n",
    "# printing results\n",
    "print(\"Filtered Y! Pennies Watchlist : \\n\" + str(res_list))"
   ]
  },
  {
   "cell_type": "markdown",
   "metadata": {},
   "source": [
    "# DCF \n",
    "pass in list"
   ]
  },
  {
   "cell_type": "code",
   "execution_count": null,
   "metadata": {},
   "outputs": [],
   "source": [
    "tkr = 'KO'\n",
    "baseUrl = 'https://site.financialmodelingprep.com/discounted-cash-flow-model/{}'\n",
    "url = baseUrl.format(str(tkr))\n",
    "response = urllib.request.urlopen(url)\n",
    "url_contents = response.read()\n",
    "\n",
    "soup = BeautifulSoup(url_contents, \"html.parser\")\n",
    "dcf = soup.find(\"div\", {\"class\": \"global-button2\"}).text\n",
    "\n",
    "txtCleaner(dcf)"
   ]
  },
  {
   "cell_type": "code",
   "execution_count": null,
   "metadata": {},
   "outputs": [],
   "source": [
    "\n",
    "\n",
    "for l in lst:\n",
    "    tkr = l\n",
    "    baseUrl = 'https://site.financialmodelingprep.com/discounted-cash-flow-model/{}'\n",
    "    url = baseUrl.format(str(tkr))\n",
    "    print(url)\n",
    "\n",
    "\n",
    "\n",
    "\n"
   ]
  },
  {
   "cell_type": "code",
   "execution_count": null,
   "metadata": {},
   "outputs": [],
   "source": [
    "for l in lst:\n",
    "    tkr = l\n",
    "    baseUrl = 'https://site.financialmodelingprep.com/discounted-cash-flow-model/{}'\n",
    "    url = baseUrl.format(str(tkr))"
   ]
  }
 ],
 "metadata": {
  "kernelspec": {
   "display_name": "Python 3.9.15 ('myenv')",
   "language": "python",
   "name": "python3"
  },
  "language_info": {
   "codemirror_mode": {
    "name": "ipython",
    "version": 3
   },
   "file_extension": ".py",
   "mimetype": "text/x-python",
   "name": "python",
   "nbconvert_exporter": "python",
   "pygments_lexer": "ipython3",
   "version": "3.9.15"
  },
  "orig_nbformat": 4,
  "vscode": {
   "interpreter": {
    "hash": "72cc61c9694d467099ef54652d088522f74d141b3af5eb71a7e52280ce52fefc"
   }
  }
 },
 "nbformat": 4,
 "nbformat_minor": 2
}
