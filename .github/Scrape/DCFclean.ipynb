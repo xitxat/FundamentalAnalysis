{
 "cells": [
  {
   "cell_type": "markdown",
   "metadata": {},
   "source": [
    "# DCF  \n",
    "Last Known Good"
   ]
  },
  {
   "cell_type": "code",
   "execution_count": 8,
   "metadata": {},
   "outputs": [
    {
     "name": "stdout",
     "output_type": "stream",
     "text": [
      "['KO']\n",
      "Over\n",
      "KO : Stock DCF: 41.34 | 64.35 | overvalue\n"
     ]
    }
   ],
   "source": [
    "import requests\n",
    "import urllib\n",
    "from bs4 import BeautifulSoup\n",
    "\n",
    "# remove newline and spaces\n",
    "def txtCleaner (dcf):\n",
    "    dcf = dcf.replace('\\n', '')\n",
    "    dcf = dcf.strip()\n",
    "\n",
    "    if 'overvalue' in dcf:\n",
    "        overVal.append(tkr)\n",
    "        print(overVal)\n",
    "        print('Over')\n",
    "    elif 'undervalue' in dcf:\n",
    "         overVal.append(tkr)\n",
    "         print(underVal)\n",
    "         print('Under')       \n",
    "    else:\n",
    "        print('No Value Statement: code Throw')\n",
    "\n",
    "    print((tkr), ':',  (dcf))\n",
    "\n",
    "\n",
    "\n",
    "overVal = []\n",
    "underVal = []\n",
    "\n",
    "\n",
    "tkr = 'KO'\n",
    "baseUrl = 'https://site.financialmodelingprep.com/discounted-cash-flow-model/{}'\n",
    "url = baseUrl.format(str(tkr))\n",
    "response = urllib.request.urlopen(url)\n",
    "url_contents = response.read()\n",
    "\n",
    "soup = BeautifulSoup(url_contents, \"html.parser\")\n",
    "dcf = soup.find(\"div\", {\"class\": \"global-button2\"}).text\n",
    "\n",
    "txtCleaner(dcf)\n",
    "\n",
    "#type(dcf)\n",
    "\n",
    "#print(soup.prettify())\n"
   ]
  },
  {
   "cell_type": "code",
   "execution_count": 4,
   "metadata": {},
   "outputs": [
    {
     "name": "stdout",
     "output_type": "stream",
     "text": [
      "Over\n"
     ]
    }
   ],
   "source": [
    "overVal = []\n",
    "underVal = []\n",
    "\n",
    "if 'overvalue' in dcf:\n",
    "    print('Over')\n",
    "else:\n",
    "    print('under')"
   ]
  },
  {
   "cell_type": "code",
   "execution_count": 6,
   "metadata": {},
   "outputs": [
    {
     "name": "stdout",
     "output_type": "stream",
     "text": [
      "['\\n                Stock DCF: 41.34 | 64.35 | overvalue\\n            ']\n"
     ]
    }
   ],
   "source": [
    "if 'overvalue' in dcf:\n",
    "    overVal.append(dcf)\n",
    "    print(overVal)\n"
   ]
  },
  {
   "cell_type": "markdown",
   "metadata": {},
   "source": [
    "split string"
   ]
  },
  {
   "cell_type": "code",
   "execution_count": 32,
   "metadata": {},
   "outputs": [
    {
     "name": "stdout",
     "output_type": "stream",
     "text": [
      "KO Undervalued by: $ -23.01\n",
      "{'KO': -23.01}\n"
     ]
    }
   ],
   "source": [
    "dict_UnderValued = {}\n",
    "\n",
    "def EvaluateDCF(tstStr):\n",
    "    tstStr = tstStr.replace('Stock DCF:', '')\n",
    "    tstStr = tstStr.replace('|', '-', 1)\n",
    "    tstStr = tstStr.replace('|', '')\n",
    "    tstStr = tstStr.replace('overvalue', '')\n",
    "    tstStr = tstStr.replace('undervalue', '')\n",
    "    \n",
    "    tstStr = tstStr.split('-')\n",
    "    eval = float(tstStr[0]) - float(tstStr[1])\n",
    "    eval = (round(eval, 2))\n",
    "\n",
    "    dict_UnderValued.update({tkr : eval})\n",
    "    print((tkr) , 'Undervalued by: $', eval)\n",
    "\n",
    "tstStr = 'Stock DCF: 41.34 | 64.35 | overvalue'\n",
    "\n",
    "EvaluateDCF(tstStr)\n",
    "print(dict_UnderValued)"
   ]
  }
 ],
 "metadata": {
  "kernelspec": {
   "display_name": "Python 3.9.15 ('myenv')",
   "language": "python",
   "name": "python3"
  },
  "language_info": {
   "codemirror_mode": {
    "name": "ipython",
    "version": 3
   },
   "file_extension": ".py",
   "mimetype": "text/x-python",
   "name": "python",
   "nbconvert_exporter": "python",
   "pygments_lexer": "ipython3",
   "version": "3.9.15"
  },
  "orig_nbformat": 4,
  "vscode": {
   "interpreter": {
    "hash": "72cc61c9694d467099ef54652d088522f74d141b3af5eb71a7e52280ce52fefc"
   }
  }
 },
 "nbformat": 4,
 "nbformat_minor": 2
}
